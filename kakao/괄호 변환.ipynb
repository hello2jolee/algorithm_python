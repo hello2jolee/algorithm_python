{
 "cells": [
  {
   "cell_type": "code",
   "execution_count": 1,
   "metadata": {},
   "outputs": [],
   "source": [
    "def parse(str):\n",
    "    correct = True\n",
    "    left = 0\n",
    "    right = 0\n",
    "    mystack = []\n",
    "    \n",
    "    for i in range(len(str)):\n",
    "        if str[i] == '(':\n",
    "            left += 1\n",
    "            mystack.append('(')\n",
    "        else:\n",
    "            right += 1\n",
    "            if len(mystack) == 0:\n",
    "                correct = False\n",
    "            else:\n",
    "                mystack.pop()\n",
    "        if left == right:\n",
    "            return i + 1, correct\n",
    "    return 0, False\n",
    "\n",
    "def solution(p):\n",
    "    if len(p) == 0:\n",
    "        return p\n",
    "    \n",
    "    pos, correct = parse(p)\n",
    "    u = p[:pos]\n",
    "    v = p[pos:]\n",
    "    \n",
    "    if correct:\n",
    "        return u + solution(v)\n",
    "    \n",
    "    answer = '(' + solution(v) + ')'\n",
    "    for i in range(1, len(u) - 1):\n",
    "        if u[i] == '(':\n",
    "            answer += ')'\n",
    "        else:\n",
    "            answer += '('\n",
    "    \n",
    "    return answer"
   ]
  },
  {
   "cell_type": "code",
   "execution_count": 2,
   "metadata": {},
   "outputs": [
    {
     "name": "stdout",
     "output_type": "stream",
     "text": [
      "(()())()\n"
     ]
    }
   ],
   "source": [
    "# https://programmers.co.kr/learn/courses/30/lessons/60058\n",
    "\n",
    "p = \"(()())()\"\n",
    "print(solution(p))"
   ]
  }
 ],
 "metadata": {
  "kernelspec": {
   "display_name": "Python 3",
   "language": "python",
   "name": "python3"
  },
  "language_info": {
   "codemirror_mode": {
    "name": "ipython",
    "version": 3
   },
   "file_extension": ".py",
   "mimetype": "text/x-python",
   "name": "python",
   "nbconvert_exporter": "python",
   "pygments_lexer": "ipython3",
   "version": "3.8.5"
  }
 },
 "nbformat": 4,
 "nbformat_minor": 4
}
