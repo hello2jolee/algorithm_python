{
 "cells": [
  {
   "cell_type": "code",
   "execution_count": null,
   "metadata": {},
   "outputs": [],
   "source": [
    "# 풀이 방법\n",
    "\n",
    "# 시:분:초 → 초로 표현\n",
    "# 각 원소의 값 = 시청자의 총 시청 기간\n",
    "\n",
    "# log의 시작과 끝 만 배열에 마킹 → for문을 사용해서 시청 시간을 계산"
   ]
  },
  {
   "cell_type": "code",
   "execution_count": 1,
   "metadata": {},
   "outputs": [],
   "source": [
    "def convert(time):\n",
    "    h, m, s = time.split(':')\n",
    "    return int(h) * 60 * 60 + int(m) * 60 + int(s)\n",
    "\n",
    "def solution(play_time, adv_time, logs):\n",
    "    playSec = convert(play_time)\n",
    "    advSec = convert(adv_time)\n",
    "    \n",
    "    totalSec = [0 for _ in range(playSec + 1)]\n",
    "    for log in logs:\n",
    "        slog, elog = log.split('-')\n",
    "        start = convert(slog)\n",
    "        end = convert(elog)\n",
    "        totalSec[start] += 1\n",
    "        totalSec[end] -= 1\n",
    "        \n",
    "    for i in range(1, playSec):\n",
    "        totalSec[i] += totalSec[i-1]\n",
    "        \n",
    "    currSum = sum(totalSec[:advSec])\n",
    "    \n",
    "    maxSum = currSum\n",
    "    maxIdx = 0\n",
    "    for i in range(advSec, playSec):\n",
    "        currSum = currSum + totalSec[i] - totalSec[i - advSec]\n",
    "        if currSum > maxSum:\n",
    "            maxSum = currSum\n",
    "            maxIdx = i - advSec + 1\n",
    "    \n",
    "    answer = '%02d:%02d:%02d' % (maxIdx/3600, maxIdx/60%60, maxIdx%60)\n",
    "    return answer"
   ]
  },
  {
   "cell_type": "code",
   "execution_count": 2,
   "metadata": {},
   "outputs": [
    {
     "name": "stdout",
     "output_type": "stream",
     "text": [
      "01:30:59\n"
     ]
    }
   ],
   "source": [
    "# https://programmers.co.kr/learn/courses/30/lessons/72414\n",
    "\n",
    "play_time, adv_time = \"02:03:55\", \"00:14:15\"\n",
    "logs = [\"01:20:15-01:45:14\", \"00:40:31-01:00:00\", \"00:25:50-00:48:29\", \"01:30:59-01:53:29\", \"01:37:44-02:02:30\"]\n",
    "print(solution(play_time, adv_time, logs))"
   ]
  }
 ],
 "metadata": {
  "kernelspec": {
   "display_name": "Python 3",
   "language": "python",
   "name": "python3"
  },
  "language_info": {
   "codemirror_mode": {
    "name": "ipython",
    "version": 3
   },
   "file_extension": ".py",
   "mimetype": "text/x-python",
   "name": "python",
   "nbconvert_exporter": "python",
   "pygments_lexer": "ipython3",
   "version": "3.8.5"
  }
 },
 "nbformat": 4,
 "nbformat_minor": 4
}
