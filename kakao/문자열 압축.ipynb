{
 "cells": [
  {
   "cell_type": "code",
   "execution_count": 1,
   "metadata": {},
   "outputs": [],
   "source": [
    "def solution(s):\n",
    "    answer = len(s)\n",
    "    \n",
    "    for i in range(1, int(len(s)/2)+1):\n",
    "        # 어느 위치에서 문자를 처리하고 있는지 표현하는 변수\n",
    "        pos = 0\n",
    "        # 압축되었을 때의 길이를 구하기 위한 변수(처음 문자열을 길이로 지정 후 압축 문자열 빼거나 더하기)\n",
    "        length = len(s)\n",
    "        \n",
    "        while pos + i <= len(s):\n",
    "            unit = s[pos: pos+i]\n",
    "            pos += i\n",
    "            \n",
    "            # 몇 번 반복했는지 기록하기 위한 변수\n",
    "            cnt = 0\n",
    "            while pos + i <= len(s):\n",
    "                # 현재 포지션에서 압축단위까지 읽어옴\n",
    "                if unit == s[pos:pos+i]:\n",
    "                    cnt += 1\n",
    "                    pos += i\n",
    "                else:\n",
    "                    break\n",
    "            \n",
    "            if cnt > 0:\n",
    "                length -= i * cnt\n",
    "                \n",
    "                if cnt < 9:\n",
    "                    length += 1\n",
    "                elif cnt < 99:\n",
    "                    length += 2\n",
    "                elif cnt < 999:\n",
    "                    length += 3\n",
    "                else:\n",
    "                    length += 4\n",
    "        answer = min(answer, length)\n",
    "        \n",
    "    return answer"
   ]
  },
  {
   "cell_type": "code",
   "execution_count": 2,
   "metadata": {},
   "outputs": [
    {
     "name": "stdout",
     "output_type": "stream",
     "text": [
      "7\n"
     ]
    }
   ],
   "source": [
    "# https://programmers.co.kr/learn/courses/30/lessons/60057\n",
    "\n",
    "s = \"aabbaccc\"\n",
    "print(solution(s))"
   ]
  }
 ],
 "metadata": {
  "kernelspec": {
   "display_name": "Python 3",
   "language": "python",
   "name": "python3"
  },
  "language_info": {
   "codemirror_mode": {
    "name": "ipython",
    "version": 3
   },
   "file_extension": ".py",
   "mimetype": "text/x-python",
   "name": "python",
   "nbconvert_exporter": "python",
   "pygments_lexer": "ipython3",
   "version": "3.8.5"
  }
 },
 "nbformat": 4,
 "nbformat_minor": 4
}
