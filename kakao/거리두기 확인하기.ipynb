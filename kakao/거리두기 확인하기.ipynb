{
 "cells": [
  {
   "cell_type": "code",
   "execution_count": 3,
   "metadata": {},
   "outputs": [],
   "source": [
    "import queue\n",
    "\n",
    "# 바뀌지 않는 값은 성능 상 리스트보다 튜플이 유리!!\n",
    "D = ((-1, 0), (1, 0), (0, -1), (0, 1))\n",
    "\n",
    "def bfs(place, row, col):\n",
    "    visited = [[False for _ in range(5)] for _ in range(5)]\n",
    "    q = queue.Queue()\n",
    "    visited[row][col] = True\n",
    "    q.put((row, col, 0))\n",
    "    \n",
    "    while not q.empty():\n",
    "        curr = q.get()\n",
    "        \n",
    "        if curr[2] > 2:\n",
    "            continue\n",
    "        # 거리는 2 이하고, 자기 자신은 아니면서 다른 P를 만났다 → 거리두기 조건 만족X\n",
    "        if curr[2] != 0 and place[curr[0]][curr[1]] == 'P':\n",
    "            return False\n",
    "        \n",
    "        for i in range(4):\n",
    "            nr = curr[0] + D[i][0]\n",
    "            nc = curr[1] + D[i][1]\n",
    "            if nr < 0 or nr > 4 or nc < 0 or nc > 4:\n",
    "                continue\n",
    "            if visited[nr][nc]:\n",
    "                continue\n",
    "            if place[nr][nc] == 'X':\n",
    "                continue\n",
    "            visited[nr][nc] = True\n",
    "            q.put((nr, nc, curr[2] + 1))\n",
    "    return True\n",
    "    \n",
    "def check(place):\n",
    "    for r in range(5):\n",
    "        for c in range(5):\n",
    "            # 응시자가 있는지 확인\n",
    "            if place[r][c] == 'P':\n",
    "                # 거리두기를 지키지 않은 경우\n",
    "                if bfs(place, r, c) == False:\n",
    "                    return False\n",
    "    return True\n",
    "\n",
    "def solution(places):\n",
    "    answer = []\n",
    "    \n",
    "    for place in places:\n",
    "        if check(place):\n",
    "            answer.append(1)\n",
    "        else:\n",
    "            answer.append(0)\n",
    "    \n",
    "    return answer"
   ]
  },
  {
   "cell_type": "code",
   "execution_count": 4,
   "metadata": {},
   "outputs": [
    {
     "name": "stdout",
     "output_type": "stream",
     "text": [
      "[1, 0, 1, 1, 1]\n"
     ]
    }
   ],
   "source": [
    "#https://programmers.co.kr/learn/courses/30/lessons/81302\n",
    "\n",
    "places = [[\"POOOP\", \"OXXOX\", \"OPXPX\", \"OOXOX\", \"POXXP\"], [\"POOPX\", \"OXPXP\", \"PXXXO\", \"OXXXO\", \"OOOPP\"], [\"PXOPX\", \"OXOXP\", \"OXPOX\", \"OXXOP\", \"PXPOX\"], [\"OOOXX\", \"XOOOX\", \"OOOXX\", \"OXOOX\", \"OOOOO\"], [\"PXPXP\", \"XPXPX\", \"PXPXP\", \"XPXPX\", \"PXPXP\"]]\n",
    "print(solution(places))"
   ]
  }
 ],
 "metadata": {
  "kernelspec": {
   "display_name": "Python 3",
   "language": "python",
   "name": "python3"
  },
  "language_info": {
   "codemirror_mode": {
    "name": "ipython",
    "version": 3
   },
   "file_extension": ".py",
   "mimetype": "text/x-python",
   "name": "python",
   "nbconvert_exporter": "python",
   "pygments_lexer": "ipython3",
   "version": "3.8.5"
  }
 },
 "nbformat": 4,
 "nbformat_minor": 4
}
