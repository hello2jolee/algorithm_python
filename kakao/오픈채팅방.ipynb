{
 "cells": [
  {
   "cell_type": "code",
   "execution_count": null,
   "metadata": {},
   "outputs": [],
   "source": [
    "# https://www.welcomekakao.com/learn/courses/30/lessons/42888"
   ]
  },
  {
   "cell_type": "code",
   "execution_count": 1,
   "metadata": {},
   "outputs": [],
   "source": [
    "def solution(record):\n",
    "    answer = []\n",
    "    idmap = {}\n",
    "    \n",
    "    for str in record:\n",
    "        strlist = str.split(\" \")\n",
    "        cmd = strlist[0]\n",
    "        if cmd == 'Enter' or cmd == 'Change':\n",
    "            id = strlist[1]\n",
    "            name = strlist[2]\n",
    "            idmap[id] = name\n",
    "            \n",
    "    for str in record:\n",
    "        strlist = str.split(\" \")\n",
    "        cmd = strlist[0]\n",
    "        if cmd == 'Enter':\n",
    "            id = strlist[1]\n",
    "            answer.append(idmap[id] + '님이 들어왔습니다.')\n",
    "        elif cmd == 'Leave':\n",
    "            id = strlist[1]\n",
    "            answer.append(idmap[id] + '님이 나갔습니다.')\n",
    "            \n",
    "    return answer"
   ]
  },
  {
   "cell_type": "code",
   "execution_count": 2,
   "metadata": {},
   "outputs": [
    {
     "name": "stdout",
     "output_type": "stream",
     "text": [
      "['Prodo님이 들어왔습니다.', 'Ryan님이 들어왔습니다.', 'Prodo님이 나갔습니다.', 'Prodo님이 들어왔습니다.']\n"
     ]
    }
   ],
   "source": [
    "record = [\"Enter uid1234 Muzi\", \"Enter uid4567 Prodo\",\"Leave uid1234\",\"Enter uid1234 Prodo\",\"Change uid4567 Ryan\"]\n",
    "\n",
    "print(solution(record))"
   ]
  }
 ],
 "metadata": {
  "kernelspec": {
   "display_name": "Python 3",
   "language": "python",
   "name": "python3"
  },
  "language_info": {
   "codemirror_mode": {
    "name": "ipython",
    "version": 3
   },
   "file_extension": ".py",
   "mimetype": "text/x-python",
   "name": "python",
   "nbconvert_exporter": "python",
   "pygments_lexer": "ipython3",
   "version": "3.8.5"
  }
 },
 "nbformat": 4,
 "nbformat_minor": 4
}
