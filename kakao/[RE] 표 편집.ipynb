{
 "cells": [
  {
   "cell_type": "code",
   "execution_count": 1,
   "metadata": {},
   "outputs": [],
   "source": [
    "class Node:\n",
    "    def __init__(self):\n",
    "        self.removed = False\n",
    "        self.prev = None\n",
    "        self.next = None\n",
    "\n",
    "def solution(n, k, cmd):\n",
    "    nodeArr = [Node() for _ in range(n)]\n",
    "    for i in range(1, n):\n",
    "        nodeArr[i-1].next = nodeArr[i]\n",
    "        nodeArr[i].prev = nodeArr[i-1]\n",
    "        \n",
    "    curr = nodeArr[k]\n",
    "    mystack = []\n",
    "    \n",
    "    for str in cmd:\n",
    "        if str[0] == 'U':\n",
    "            x = int(str[2:])\n",
    "            for _ in range(x):\n",
    "                curr = curr.prev\n",
    "        elif str[0] == 'D':\n",
    "            x = int(str[2:])\n",
    "            for _ in range(x):\n",
    "                curr = curr.next\n",
    "        elif str[0] == 'C':\n",
    "            mystack.append(curr)\n",
    "            curr.removed = True\n",
    "            up = curr.prev\n",
    "            down = curr.next\n",
    "            if up:\n",
    "                up.next = down\n",
    "            if down:\n",
    "                down.prev = up\n",
    "                curr = down\n",
    "            else:\n",
    "                curr = up\n",
    "        else:\n",
    "            node = mystack.pop()\n",
    "            node.removed = False\n",
    "            up = node.prev\n",
    "            down = node.next\n",
    "            if up:\n",
    "                up.next = node\n",
    "            if down:\n",
    "                down.prev = node\n",
    "    \n",
    "    answer = ''\n",
    "    for i in range(n):\n",
    "        if nodeArr[i].removed:\n",
    "            answer += 'X'\n",
    "        else:\n",
    "            answer += 'O'\n",
    "            \n",
    "    return answer"
   ]
  },
  {
   "cell_type": "code",
   "execution_count": 2,
   "metadata": {},
   "outputs": [
    {
     "name": "stdout",
     "output_type": "stream",
     "text": [
      "OOOOXOOO\n"
     ]
    }
   ],
   "source": [
    "# https://programmers.co.kr/learn/courses/30/lessons/81303\n",
    "\n",
    "n, k = 8, 2\n",
    "cmd = [\"D 2\",\"C\",\"U 3\",\"C\",\"D 4\",\"C\",\"U 2\",\"Z\",\"Z\"]\n",
    "\n",
    "print(solution(n, k, cmd))"
   ]
  }
 ],
 "metadata": {
  "kernelspec": {
   "display_name": "Python 3",
   "language": "python",
   "name": "python3"
  },
  "language_info": {
   "codemirror_mode": {
    "name": "ipython",
    "version": 3
   },
   "file_extension": ".py",
   "mimetype": "text/x-python",
   "name": "python",
   "nbconvert_exporter": "python",
   "pygments_lexer": "ipython3",
   "version": "3.8.5"
  }
 },
 "nbformat": 4,
 "nbformat_minor": 4
}
