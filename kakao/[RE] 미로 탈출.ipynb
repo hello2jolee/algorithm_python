{
 "cells": [
  {
   "cell_type": "code",
   "execution_count": null,
   "metadata": {},
   "outputs": [],
   "source": [
    "# 풀이 방법\n",
    "\n",
    "# 다익스트라 알고리즘을 사용해서 최단길이 찾기\n",
    "# 우선순위 큐 (cost, node번호, trap 발동여부(0: 발동X, 1: 발동O)/ 방문여부 visited[node번호][trap 발동여부(비트값)]"
   ]
  },
  {
   "cell_type": "code",
   "execution_count": 5,
   "metadata": {},
   "outputs": [],
   "source": [
    "from queue import PriorityQueue\n",
    "\n",
    "INF = 987654321\n",
    "\n",
    "def dijkstra(n, graph, src, dst, traps):\n",
    "    pq = PriorityQueue()\n",
    "    visited = [[False for _ in range(1 << len(traps))] for _ in range(n + 1)]\n",
    "    pq.put((0, src, 0))\n",
    "    \n",
    "    while not pq.empty():\n",
    "        curr = pq.get()\n",
    "        # 비용\n",
    "        w = curr[0]\n",
    "        # 도착 노드 번호\n",
    "        u = curr[1]\n",
    "        # 그래프 상태\n",
    "        state = curr[2]\n",
    "        \n",
    "        if u == dst:\n",
    "            return w\n",
    "        if visited[u][state]:\n",
    "            continue\n",
    "        visited[u][state] = True\n",
    "        \n",
    "        # 현재 노드\n",
    "        currTrapped = False\n",
    "        # 어떤 노드가 함정이 발동되어 있는지 딕셔너리에 저장\n",
    "        trapped = {}\n",
    "        for i in range(len(traps)):\n",
    "            bit = 1 << i\n",
    "            # 비트가 켜진 상태 == 함정이 발동 된 케이스\n",
    "            if state & bit:\n",
    "                if traps[i] == u:\n",
    "                    state &= ~bit\n",
    "                else:\n",
    "                    trapped[traps[i]] = True\n",
    "            else:\n",
    "                if traps[i] == u:\n",
    "                    state |= bit\n",
    "                    trapped[traps[i]] = True\n",
    "                    currTrapped = True\n",
    "                    \n",
    "        for v in range(1, n + 1):\n",
    "            if v == u:\n",
    "                continue\n",
    "            nextTrapped = True if v in trapped else False\n",
    "            if currTrapped == nextTrapped:\n",
    "                if graph[u][v] != INF:\n",
    "                    pq.put((w + graph[u][v], v, state))\n",
    "            else:\n",
    "                if graph[v][u] != INF:\n",
    "                    pq.put((w + graph[v][u], v, state))\n",
    "                    \n",
    "    return INF\n",
    "    \n",
    "def solution(n, start, end, roads, traps):\n",
    "    graph = [[INF for _ in range(n + 1)] for _ in range(n + 1)]\n",
    "    for i in range(1, n + 1):\n",
    "        graph[i][i] = 0\n",
    "        \n",
    "    for data in roads:\n",
    "        u = data[0]\n",
    "        v = data[1]\n",
    "        w = data[2]\n",
    "        if w < graph[u][v]:\n",
    "            graph[u][v] = w\n",
    "    \n",
    "    return dijkstra(n, graph, start, end, traps)"
   ]
  },
  {
   "cell_type": "code",
   "execution_count": 6,
   "metadata": {},
   "outputs": [
    {
     "name": "stdout",
     "output_type": "stream",
     "text": [
      "5\n"
     ]
    }
   ],
   "source": [
    "# https://programmers.co.kr/learn/courses/30/lessons/81304\n",
    "\n",
    "n, start, end = 3, 1, 3\n",
    "roads = [[1, 2, 2], [3, 2, 3]]\n",
    "traps = [2]\n",
    "\n",
    "print(solution(n, start, end, roads, traps))"
   ]
  }
 ],
 "metadata": {
  "kernelspec": {
   "display_name": "Python 3",
   "language": "python",
   "name": "python3"
  },
  "language_info": {
   "codemirror_mode": {
    "name": "ipython",
    "version": 3
   },
   "file_extension": ".py",
   "mimetype": "text/x-python",
   "name": "python",
   "nbconvert_exporter": "python",
   "pygments_lexer": "ipython3",
   "version": "3.8.5"
  }
 },
 "nbformat": 4,
 "nbformat_minor": 4
}
