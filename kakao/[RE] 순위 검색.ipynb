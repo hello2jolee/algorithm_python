{
 "cells": [
  {
   "cell_type": "code",
   "execution_count": null,
   "metadata": {},
   "outputs": [],
   "source": [
    "# 풀이 방법\n",
    "\n",
    "# Dictionary, Bit을 이용한 부분집합, 이진탐색\n",
    "\n",
    "# 1. 모든 조합에 대해서 해당하는 위치에 점수를 다 넣을 것(list 형태)\n",
    "#    ㄴ 언어, 직군, 경력, 소울 푸드 중 하나의 조건이 빠질 수 있으므로 조건이 없는 경우에 대해서도 list에 추가\n",
    "#    ㄴ 전체 테이블의 갯수는 4 * 3 * 3 * 3 = 108"
   ]
  },
  {
   "cell_type": "code",
   "execution_count": 9,
   "metadata": {},
   "outputs": [],
   "source": [
    "from bisect import bisect_left\n",
    "\n",
    "def solution(info, query):\n",
    "    # dictonary 정의\n",
    "    wmap = {'-': 0, 'cpp': 1, 'java': 2, 'python': 3, 'backend': 1, 'frontend': 2, 'junior': 1, 'senior': 2, 'chicken': 1, 'pizza': 2}\n",
    "    # score 저장용 리스트\n",
    "    slist = [[] for _ in range(4 * 3 * 3* 3)]\n",
    "    \n",
    "    for string in info:\n",
    "        w = string.split()\n",
    "        arr = (wmap[w[0]] * 3 * 3 * 3, wmap[w[1]] * 3 * 3, wmap[w[2]] * 3, wmap[w[3]])\n",
    "        score = int(w[4])\n",
    "        \n",
    "        for i in range(1<<4):\n",
    "            idx = 0\n",
    "            for j in range(4):\n",
    "                if i & (1 << j):\n",
    "                    idx += arr[j]\n",
    "            slist[idx].append(score)\n",
    "    \n",
    "    for i in range(4 * 3 * 3 * 3):\n",
    "        slist[i] = sorted(slist[i])\n",
    "        \n",
    "    answer = []\n",
    "    for string in query:\n",
    "        w = string.split()\n",
    "        idx = wmap[w[0]] * 3 * 3 * 3 + wmap[w[2]] * 3 * 3 + wmap[w[4]] * 3 + wmap[w[6]]\n",
    "        score = int(w[7])\n",
    "        answer.append(len(slist[idx]) - bisect_left(slist[idx], score))\n",
    "        \n",
    "    return answer"
   ]
  },
  {
   "cell_type": "code",
   "execution_count": 10,
   "metadata": {},
   "outputs": [
    {
     "name": "stdout",
     "output_type": "stream",
     "text": [
      "[1, 1, 1, 1, 2, 4]\n"
     ]
    }
   ],
   "source": [
    "# https://programmers.co.kr/learn/courses/30/lessons/72412\n",
    "\n",
    "info = [\"java backend junior pizza 150\",\"python frontend senior chicken 210\",\"python frontend senior chicken 150\",\"cpp backend senior pizza 260\",\"java backend junior chicken 80\",\"python backend senior chicken 50\"]\n",
    "query = [\"java and backend and junior and pizza 100\",\"python and frontend and senior and chicken 200\",\"cpp and - and senior and pizza 250\",\"- and backend and senior and - 150\",\"- and - and - and chicken 100\",\"- and - and - and - 150\"]\n",
    "\n",
    "print(solution(info, query))"
   ]
  }
 ],
 "metadata": {
  "kernelspec": {
   "display_name": "Python 3",
   "language": "python",
   "name": "python3"
  },
  "language_info": {
   "codemirror_mode": {
    "name": "ipython",
    "version": 3
   },
   "file_extension": ".py",
   "mimetype": "text/x-python",
   "name": "python",
   "nbconvert_exporter": "python",
   "pygments_lexer": "ipython3",
   "version": "3.8.5"
  }
 },
 "nbformat": 4,
 "nbformat_minor": 4
}
