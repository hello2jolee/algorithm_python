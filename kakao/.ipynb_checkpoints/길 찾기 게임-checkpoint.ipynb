{
 "cells": [
  {
   "cell_type": "code",
   "execution_count": null,
   "metadata": {},
   "outputs": [],
   "source": [
    "# https://www.welcomekakao.com/learn/courses/30/lessons/42892"
   ]
  },
  {
   "cell_type": "code",
   "execution_count": 3,
   "metadata": {},
   "outputs": [],
   "source": [
    "import sys\n",
    "\n",
    "\n",
    "class Node:\n",
    "    def __init__(self, id, x, y):\n",
    "        self.id = id\n",
    "        self.x = x\n",
    "        self.y = y\n",
    "        self.left = None\n",
    "        self.right = None\n",
    "        \n",
    "    def __lt__(self, other): # <\n",
    "        if self.y == other.y:\n",
    "            return self.x < other.x\n",
    "        return self.y > other.y\n",
    "    \n",
    "def addNode(parent, child):\n",
    "    if child.x < parent.x:\n",
    "        if parent.left is None:\n",
    "            parent.left = child\n",
    "        else:\n",
    "            addNode(parent.left, child)\n",
    "    else:\n",
    "        if parent.right is None:\n",
    "            parent.right = child\n",
    "        else:\n",
    "            addNode(parent.right, child)\n",
    "\n",
    "def preorder(ans, node):\n",
    "    if node is None:\n",
    "        return\n",
    "    ans.append(node.id)\n",
    "    preorder(ans, node.left)\n",
    "    preorder(ans, node.right)\n",
    "\n",
    "def postorder(ans, node):\n",
    "    if node is None:\n",
    "        return\n",
    "    postorder(ans, node.left)\n",
    "    postorder(ans, node.right)\n",
    "    ans.append(node.id)\n",
    "    \n",
    "def solution(nodeinfo):\n",
    "    sys.setrecursionlimit(1500)\n",
    "    size = len(nodeinfo)\n",
    "    nodelist = []\n",
    "    for i in range(size):\n",
    "        nodelist.append(Node(i + 1, nodeinfo[i][0], nodeinfo[i][1]))\n",
    "    \n",
    "    nodelist.sort()  \n",
    "    root = nodelist[0]\n",
    "    for i in range(1, size):\n",
    "        addNode(root, nodelist[i])\n",
    "    \n",
    "    answer = [[], []]\n",
    "    preorder(answer[0], root)\n",
    "    postorder(answer[1], root)\n",
    "    \n",
    "    return answer"
   ]
  },
  {
   "cell_type": "code",
   "execution_count": 4,
   "metadata": {},
   "outputs": [
    {
     "name": "stdout",
     "output_type": "stream",
     "text": [
      "[[7, 4, 6, 9, 1, 8, 5, 2, 3], [9, 6, 5, 8, 1, 4, 3, 2, 7]]\n"
     ]
    }
   ],
   "source": [
    "nodeinfo = [[5,3],[11,5],[13,3],[3,5],[6,1],[1,3],[8,6],[7,2],[2,2]]\n",
    "\n",
    "print(solution(nodeinfo))"
   ]
  }
 ],
 "metadata": {
  "kernelspec": {
   "display_name": "Python 3",
   "language": "python",
   "name": "python3"
  },
  "language_info": {
   "codemirror_mode": {
    "name": "ipython",
    "version": 3
   },
   "file_extension": ".py",
   "mimetype": "text/x-python",
   "name": "python",
   "nbconvert_exporter": "python",
   "pygments_lexer": "ipython3",
   "version": "3.8.5"
  }
 },
 "nbformat": 4,
 "nbformat_minor": 4
}
