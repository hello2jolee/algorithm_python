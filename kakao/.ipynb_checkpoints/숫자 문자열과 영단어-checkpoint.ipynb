{
 "cells": [
  {
   "cell_type": "code",
   "execution_count": 1,
   "metadata": {},
   "outputs": [],
   "source": [
    "Word = ('zero', 'one', 'two', 'three', 'four', 'five', 'six', 'seven', 'eight', 'nine')\n",
    "\n",
    "def solution(s):\n",
    "    result = ''\n",
    "    \n",
    "    pos = 0\n",
    "    while pos < len(s):\n",
    "        if s[pos] >= '0' and s[pos] <= '9':\n",
    "            result += s[pos]\n",
    "            pos += 1\n",
    "        else:\n",
    "            for i in range(10):\n",
    "                if s.find(Word[i], pos, pos+5) != -1:\n",
    "                    result += str(i)\n",
    "                    pos += len(Word[i])\n",
    "                    break\n",
    "                    \n",
    "    answer = int(result)\n",
    "    return answer"
   ]
  },
  {
   "cell_type": "code",
   "execution_count": 2,
   "metadata": {},
   "outputs": [
    {
     "name": "stdout",
     "output_type": "stream",
     "text": [
      "1478\n"
     ]
    }
   ],
   "source": [
    "# https://programmers.co.kr/learn/courses/30/lessons/81301\n",
    "\n",
    "s = \"one4seveneight\"\n",
    "print(solution(s))"
   ]
  }
 ],
 "metadata": {
  "kernelspec": {
   "display_name": "Python 3",
   "language": "python",
   "name": "python3"
  },
  "language_info": {
   "codemirror_mode": {
    "name": "ipython",
    "version": 3
   },
   "file_extension": ".py",
   "mimetype": "text/x-python",
   "name": "python",
   "nbconvert_exporter": "python",
   "pygments_lexer": "ipython3",
   "version": "3.8.5"
  }
 },
 "nbformat": 4,
 "nbformat_minor": 4
}
