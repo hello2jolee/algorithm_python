{
 "cells": [
  {
   "cell_type": "code",
   "execution_count": null,
   "metadata": {},
   "outputs": [],
   "source": [
    "# 풀이 방법\n",
    "\n",
    "# 조합으로 모든 코스요리를 구성할 수 있는 메뉴 구성 만들기\n",
    "# ㄴ 순서는 하나로 고정(A → Z로 오름차순으로 고정)\n",
    "# ㄴ 입력 시 알파벳 순으로 정렬 후 사용\n",
    "\n",
    "# 1. 각각의 조합을 만든다\n",
    "# 2. 두 개 이상의 알파벳으로 이루어진 조합 중에서 길이에 따라서 map에 추가\n",
    "#    ㄴ (index: 코스 요리 구성 개수 , key: {key: 메뉴 구성, value: count}, value: max 주문 회수)\n",
    "# 3. value값 중 max 값을 답으로 반환"
   ]
  },
  {
   "cell_type": "code",
   "execution_count": 1,
   "metadata": {},
   "outputs": [],
   "source": [
    "from itertools import combinations\n",
    "\n",
    "def solution(orders, course):\n",
    "    answer = []\n",
    "    # course 배열의 각 원소는 2 이상 10 이하이므로 11로 설정\n",
    "    foodMap = [{} for _ in range(11)]\n",
    "    maxCnt = [0 for _ in range(11)]\n",
    "    \n",
    "    for str in orders:\n",
    "        for num in range(2, len(str) + 1):\n",
    "            for i in combinations(sorted(str), num):\n",
    "                key = ''.join(i)\n",
    "                if key in foodMap[num]:\n",
    "                    foodMap[num][key] += 1\n",
    "                    maxCnt[num] = max(maxCnt[num], foodMap[num][key])\n",
    "                else:\n",
    "                    foodMap[num][key] = 1\n",
    "                    \n",
    "    for num in course:\n",
    "        # 모든 아이템에 대한 key, value 값을 가져옴\n",
    "        for key, value in foodMap[num].items():\n",
    "            if value >= 2 and value == maxCnt[num]:\n",
    "                answer.append(key)\n",
    "    \n",
    "    return sorted(answer)"
   ]
  },
  {
   "cell_type": "code",
   "execution_count": 2,
   "metadata": {},
   "outputs": [
    {
     "name": "stdout",
     "output_type": "stream",
     "text": [
      "['AC', 'ACDE', 'BCFG', 'CDE']\n"
     ]
    }
   ],
   "source": [
    "# https://programmers.co.kr/learn/courses/30/lessons/72411\n",
    "\n",
    "orders = [\"ABCFG\", \"AC\", \"CDE\", \"ACDE\", \"BCFG\", \"ACDEH\"]\n",
    "course = [2,3,4]\n",
    "\n",
    "print(solution(orders, course))"
   ]
  }
 ],
 "metadata": {
  "kernelspec": {
   "display_name": "Python 3",
   "language": "python",
   "name": "python3"
  },
  "language_info": {
   "codemirror_mode": {
    "name": "ipython",
    "version": 3
   },
   "file_extension": ".py",
   "mimetype": "text/x-python",
   "name": "python",
   "nbconvert_exporter": "python",
   "pygments_lexer": "ipython3",
   "version": "3.8.5"
  }
 },
 "nbformat": 4,
 "nbformat_minor": 4
}
