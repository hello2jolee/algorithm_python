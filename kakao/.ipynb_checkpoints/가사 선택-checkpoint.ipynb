{
 "cells": [
  {
   "cell_type": "code",
   "execution_count": null,
   "metadata": {},
   "outputs": [],
   "source": [
    "# 풀이 방법\n",
    "\n",
    "# 단어검색 ⇒ 트라이(Trie) 자료구조\n",
    "# 단어 검색 링크를 타고 가되, 마지막 이른 노드가 리프노드면 성공\n",
    "# 중간에 성공 또는 아직 검색 글자 남았는데 리프노드 도달 시 검색 실패\n",
    "\n",
    "# 트라이 변형해서 사용\n",
    "# 단어의 길이를 계산 → 단어의 길이가 동일할 경우 같은 트라이 구성\n",
    "# 단어 길이가 다를 경우 별도의 트라이 구성 생성\n",
    "# ㄴ frodo, front, frost, frame, kakao : 1개\n",
    "# ㄴ frozen : 1개\n",
    "\n",
    "# fro??의 경우 단어 길이 5개인 트라이에서 검색\n",
    "\n",
    "# 1. 길이별 별도 트라이 구성\n",
    "# 2. 전체 단어를 뒤집어서 별도 트라이 자료구조 생성(ex. odorf)"
   ]
  },
  {
   "cell_type": "code",
   "execution_count": 5,
   "metadata": {},
   "outputs": [],
   "source": [
    "class Trie:\n",
    "    def __init__(self):\n",
    "        self.child = dict()\n",
    "        self.count = 0\n",
    "        \n",
    "    def insert(self, str):\n",
    "        curr = self\n",
    "        for ch in str:\n",
    "            curr.count += 1\n",
    "            if ch not in curr.child:\n",
    "                curr.child[ch] = Trie()\n",
    "            \n",
    "            curr = curr.child[ch]\n",
    "        curr.count += 1\n",
    "        \n",
    "    def search(self, str):\n",
    "        curr = self\n",
    "        for ch in str:\n",
    "            if ch == '?':\n",
    "                return curr.count\n",
    "            if ch not in curr.child:\n",
    "                return 0\n",
    "            curr = curr.child[ch]\n",
    "        return curr.count\n",
    "\n",
    "def solution(words, queries):\n",
    "    TrieRoot = [Trie() for _ in range(10000)]\n",
    "    ReTrieRoot = [Trie() for _ in range(10000)]\n",
    "    answer = []\n",
    "    \n",
    "    for str in words:\n",
    "        TrieRoot[len(str) - 1].insert(str)\n",
    "        ReTrieRoot[len(str) - 1].insert(str[::-1])\n",
    "        \n",
    "    for str in queries:\n",
    "        if str[0] != '?':\n",
    "            answer.append(TrieRoot[len(str) - 1].search(str))\n",
    "        else:\n",
    "            answer.append(ReTrieRoot[len(str) - 1].search(str[::-1]))\n",
    "    return answer"
   ]
  },
  {
   "cell_type": "code",
   "execution_count": 6,
   "metadata": {},
   "outputs": [
    {
     "name": "stdout",
     "output_type": "stream",
     "text": [
      "[3, 2, 4, 1, 0]\n"
     ]
    }
   ],
   "source": [
    "words = [\"frodo\", \"front\", \"frost\", \"frozen\", \"frame\", \"kakao\"]\n",
    "queries = [\"fro??\", \"????o\", \"fr???\", \"fro???\", \"pro?\"]\n",
    "\n",
    "print(solution(words, queries))"
   ]
  }
 ],
 "metadata": {
  "kernelspec": {
   "display_name": "Python 3",
   "language": "python",
   "name": "python3"
  },
  "language_info": {
   "codemirror_mode": {
    "name": "ipython",
    "version": 3
   },
   "file_extension": ".py",
   "mimetype": "text/x-python",
   "name": "python",
   "nbconvert_exporter": "python",
   "pygments_lexer": "ipython3",
   "version": "3.8.5"
  }
 },
 "nbformat": 4,
 "nbformat_minor": 4
}
