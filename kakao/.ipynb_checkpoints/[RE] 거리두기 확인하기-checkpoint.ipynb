{
 "cells": [
  {
   "cell_type": "code",
   "execution_count": 2,
   "metadata": {},
   "outputs": [],
   "source": [
    "import queue\n",
    "\n",
    "# 바뀌지 않는 값은 성능 상 리스트보다 튜플이 유리!!\n",
    "D = ((-1, 0), (1, 0), (0, -1), (0, 1))\n",
    "\n",
    "def bfs(place, row, col):\n",
    "    visited = [[False for _ in range(5)] for _ in range(5)]\n",
    "    q = queue.Queue()\n",
    "    visited[row][col] = True\n",
    "    q.put((row, col, 0))\n",
    "    \n",
    "    while not q.empty():\n",
    "        curr = q.get()\n",
    "        \n",
    "        if curr[2] > 2:\n",
    "            continue\n",
    "        # 거리는 2 이하고, 자기 자신은 아니면서 다른 P를 만났다 → 거리두기 조건 만족X\n",
    "        if curr[2] != 0 and place[curr[0][curr[1]]] == 'P':\n",
    "            return False\n",
    "        \n",
    "        for i in range(4):\n",
    "            nr = curr[0] + D[i][0]\n",
    "            nc = curr[1] + D[i][1]\n",
    "            if nr < 0 or nr > 4 or nc < 0 or nc > 4:\n",
    "                continue\n",
    "            if visited[nr][nc]:\n",
    "                continue\n",
    "            if place[nr][nc] == 'X':\n",
    "                continue\n",
    "            visited[nr][nc] = True\n",
    "            q.put(nr, nc, curr[2] + 1)\n",
    "    return True\n",
    "    \n",
    "def check(place):\n",
    "    for r in range(5):\n",
    "        for c in range(5):\n",
    "            # 응시자가 있는지 확인\n",
    "            if place[r][c] == 'P':\n",
    "                # 거리두기를 지키지 않은 경우\n",
    "                if bfs(place, r, c) == False:\n",
    "                    return False\n",
    "    return True\n",
    "\n",
    "def solution(places):\n",
    "    answer = []\n",
    "    \n",
    "    for place in places:\n",
    "        if check(place):\n",
    "            answer.append(1)\n",
    "        else:\n",
    "            answer.append(0)\n",
    "    \n",
    "    return answer"
   ]
  },
  {
   "cell_type": "code",
   "execution_count": 3,
   "metadata": {},
   "outputs": [
    {
     "ename": "NameError",
     "evalue": "name 'visitied' is not defined",
     "output_type": "error",
     "traceback": [
      "\u001b[0;31m---------------------------------------------------------------------------\u001b[0m",
      "\u001b[0;31mNameError\u001b[0m                                 Traceback (most recent call last)",
      "\u001b[0;32m<ipython-input-3-85f989198876>\u001b[0m in \u001b[0;36m<module>\u001b[0;34m\u001b[0m\n\u001b[1;32m      2\u001b[0m \u001b[0;34m\u001b[0m\u001b[0m\n\u001b[1;32m      3\u001b[0m \u001b[0mplaces\u001b[0m \u001b[0;34m=\u001b[0m \u001b[0;34m[\u001b[0m\u001b[0;34m[\u001b[0m\u001b[0;34m\"POOOP\"\u001b[0m\u001b[0;34m,\u001b[0m \u001b[0;34m\"OXXOX\"\u001b[0m\u001b[0;34m,\u001b[0m \u001b[0;34m\"OPXPX\"\u001b[0m\u001b[0;34m,\u001b[0m \u001b[0;34m\"OOXOX\"\u001b[0m\u001b[0;34m,\u001b[0m \u001b[0;34m\"POXXP\"\u001b[0m\u001b[0;34m]\u001b[0m\u001b[0;34m,\u001b[0m \u001b[0;34m[\u001b[0m\u001b[0;34m\"POOPX\"\u001b[0m\u001b[0;34m,\u001b[0m \u001b[0;34m\"OXPXP\"\u001b[0m\u001b[0;34m,\u001b[0m \u001b[0;34m\"PXXXO\"\u001b[0m\u001b[0;34m,\u001b[0m \u001b[0;34m\"OXXXO\"\u001b[0m\u001b[0;34m,\u001b[0m \u001b[0;34m\"OOOPP\"\u001b[0m\u001b[0;34m]\u001b[0m\u001b[0;34m,\u001b[0m \u001b[0;34m[\u001b[0m\u001b[0;34m\"PXOPX\"\u001b[0m\u001b[0;34m,\u001b[0m \u001b[0;34m\"OXOXP\"\u001b[0m\u001b[0;34m,\u001b[0m \u001b[0;34m\"OXPOX\"\u001b[0m\u001b[0;34m,\u001b[0m \u001b[0;34m\"OXXOP\"\u001b[0m\u001b[0;34m,\u001b[0m \u001b[0;34m\"PXPOX\"\u001b[0m\u001b[0;34m]\u001b[0m\u001b[0;34m,\u001b[0m \u001b[0;34m[\u001b[0m\u001b[0;34m\"OOOXX\"\u001b[0m\u001b[0;34m,\u001b[0m \u001b[0;34m\"XOOOX\"\u001b[0m\u001b[0;34m,\u001b[0m \u001b[0;34m\"OOOXX\"\u001b[0m\u001b[0;34m,\u001b[0m \u001b[0;34m\"OXOOX\"\u001b[0m\u001b[0;34m,\u001b[0m \u001b[0;34m\"OOOOO\"\u001b[0m\u001b[0;34m]\u001b[0m\u001b[0;34m,\u001b[0m \u001b[0;34m[\u001b[0m\u001b[0;34m\"PXPXP\"\u001b[0m\u001b[0;34m,\u001b[0m \u001b[0;34m\"XPXPX\"\u001b[0m\u001b[0;34m,\u001b[0m \u001b[0;34m\"PXPXP\"\u001b[0m\u001b[0;34m,\u001b[0m \u001b[0;34m\"XPXPX\"\u001b[0m\u001b[0;34m,\u001b[0m \u001b[0;34m\"PXPXP\"\u001b[0m\u001b[0;34m]\u001b[0m\u001b[0;34m]\u001b[0m\u001b[0;34m\u001b[0m\u001b[0;34m\u001b[0m\u001b[0m\n\u001b[0;32m----> 4\u001b[0;31m \u001b[0mprint\u001b[0m\u001b[0;34m(\u001b[0m\u001b[0msolution\u001b[0m\u001b[0;34m(\u001b[0m\u001b[0mplaces\u001b[0m\u001b[0;34m)\u001b[0m\u001b[0;34m)\u001b[0m\u001b[0;34m\u001b[0m\u001b[0;34m\u001b[0m\u001b[0m\n\u001b[0m",
      "\u001b[0;32m<ipython-input-2-a2afafb14317>\u001b[0m in \u001b[0;36msolution\u001b[0;34m(places)\u001b[0m\n\u001b[1;32m     46\u001b[0m \u001b[0;34m\u001b[0m\u001b[0m\n\u001b[1;32m     47\u001b[0m     \u001b[0;32mfor\u001b[0m \u001b[0mplace\u001b[0m \u001b[0;32min\u001b[0m \u001b[0mplaces\u001b[0m\u001b[0;34m:\u001b[0m\u001b[0;34m\u001b[0m\u001b[0;34m\u001b[0m\u001b[0m\n\u001b[0;32m---> 48\u001b[0;31m         \u001b[0;32mif\u001b[0m \u001b[0mcheck\u001b[0m\u001b[0;34m(\u001b[0m\u001b[0mplace\u001b[0m\u001b[0;34m)\u001b[0m\u001b[0;34m:\u001b[0m\u001b[0;34m\u001b[0m\u001b[0;34m\u001b[0m\u001b[0m\n\u001b[0m\u001b[1;32m     49\u001b[0m             \u001b[0manswer\u001b[0m\u001b[0;34m.\u001b[0m\u001b[0mappend\u001b[0m\u001b[0;34m(\u001b[0m\u001b[0;36m1\u001b[0m\u001b[0;34m)\u001b[0m\u001b[0;34m\u001b[0m\u001b[0;34m\u001b[0m\u001b[0m\n\u001b[1;32m     50\u001b[0m         \u001b[0;32melse\u001b[0m\u001b[0;34m:\u001b[0m\u001b[0;34m\u001b[0m\u001b[0;34m\u001b[0m\u001b[0m\n",
      "\u001b[0;32m<ipython-input-2-a2afafb14317>\u001b[0m in \u001b[0;36mcheck\u001b[0;34m(place)\u001b[0m\n\u001b[1;32m     38\u001b[0m             \u001b[0;32mif\u001b[0m \u001b[0mplace\u001b[0m\u001b[0;34m[\u001b[0m\u001b[0mr\u001b[0m\u001b[0;34m]\u001b[0m\u001b[0;34m[\u001b[0m\u001b[0mc\u001b[0m\u001b[0;34m]\u001b[0m \u001b[0;34m==\u001b[0m \u001b[0;34m'P'\u001b[0m\u001b[0;34m:\u001b[0m\u001b[0;34m\u001b[0m\u001b[0;34m\u001b[0m\u001b[0m\n\u001b[1;32m     39\u001b[0m                 \u001b[0;31m# 거리두기를 지키지 않은 경우\u001b[0m\u001b[0;34m\u001b[0m\u001b[0;34m\u001b[0m\u001b[0;34m\u001b[0m\u001b[0m\n\u001b[0;32m---> 40\u001b[0;31m                 \u001b[0;32mif\u001b[0m \u001b[0mbfs\u001b[0m\u001b[0;34m(\u001b[0m\u001b[0mplace\u001b[0m\u001b[0;34m,\u001b[0m \u001b[0mr\u001b[0m\u001b[0;34m,\u001b[0m \u001b[0mc\u001b[0m\u001b[0;34m)\u001b[0m \u001b[0;34m==\u001b[0m \u001b[0;32mFalse\u001b[0m\u001b[0;34m:\u001b[0m\u001b[0;34m\u001b[0m\u001b[0;34m\u001b[0m\u001b[0m\n\u001b[0m\u001b[1;32m     41\u001b[0m                     \u001b[0;32mreturn\u001b[0m \u001b[0;32mFalse\u001b[0m\u001b[0;34m\u001b[0m\u001b[0;34m\u001b[0m\u001b[0m\n\u001b[1;32m     42\u001b[0m     \u001b[0;32mreturn\u001b[0m \u001b[0;32mTrue\u001b[0m\u001b[0;34m\u001b[0m\u001b[0;34m\u001b[0m\u001b[0m\n",
      "\u001b[0;32m<ipython-input-2-a2afafb14317>\u001b[0m in \u001b[0;36mbfs\u001b[0;34m(place, row, col)\u001b[0m\n\u001b[1;32m      7\u001b[0m     \u001b[0mvisited\u001b[0m \u001b[0;34m=\u001b[0m \u001b[0;34m[\u001b[0m\u001b[0;34m[\u001b[0m\u001b[0;32mFalse\u001b[0m \u001b[0;32mfor\u001b[0m \u001b[0m_\u001b[0m \u001b[0;32min\u001b[0m \u001b[0mrange\u001b[0m\u001b[0;34m(\u001b[0m\u001b[0;36m5\u001b[0m\u001b[0;34m)\u001b[0m\u001b[0;34m]\u001b[0m \u001b[0;32mfor\u001b[0m \u001b[0m_\u001b[0m \u001b[0;32min\u001b[0m \u001b[0mrange\u001b[0m\u001b[0;34m(\u001b[0m\u001b[0;36m5\u001b[0m\u001b[0;34m)\u001b[0m\u001b[0;34m]\u001b[0m\u001b[0;34m\u001b[0m\u001b[0;34m\u001b[0m\u001b[0m\n\u001b[1;32m      8\u001b[0m     \u001b[0mq\u001b[0m \u001b[0;34m=\u001b[0m \u001b[0mqueue\u001b[0m\u001b[0;34m.\u001b[0m\u001b[0mQueue\u001b[0m\u001b[0;34m(\u001b[0m\u001b[0;34m)\u001b[0m\u001b[0;34m\u001b[0m\u001b[0;34m\u001b[0m\u001b[0m\n\u001b[0;32m----> 9\u001b[0;31m     \u001b[0mvisitied\u001b[0m\u001b[0;34m[\u001b[0m\u001b[0mrow\u001b[0m\u001b[0;34m]\u001b[0m\u001b[0;34m[\u001b[0m\u001b[0mcol\u001b[0m\u001b[0;34m]\u001b[0m \u001b[0;34m=\u001b[0m \u001b[0;32mTrue\u001b[0m\u001b[0;34m\u001b[0m\u001b[0;34m\u001b[0m\u001b[0m\n\u001b[0m\u001b[1;32m     10\u001b[0m     \u001b[0mq\u001b[0m\u001b[0;34m.\u001b[0m\u001b[0mput\u001b[0m\u001b[0;34m(\u001b[0m\u001b[0;34m(\u001b[0m\u001b[0mrow\u001b[0m\u001b[0;34m,\u001b[0m \u001b[0mcol\u001b[0m\u001b[0;34m,\u001b[0m \u001b[0;36m0\u001b[0m\u001b[0;34m)\u001b[0m\u001b[0;34m)\u001b[0m\u001b[0;34m\u001b[0m\u001b[0;34m\u001b[0m\u001b[0m\n\u001b[1;32m     11\u001b[0m \u001b[0;34m\u001b[0m\u001b[0m\n",
      "\u001b[0;31mNameError\u001b[0m: name 'visitied' is not defined"
     ]
    }
   ],
   "source": [
    "#https://programmers.co.kr/learn/courses/30/lessons/81302\n",
    "\n",
    "places = [[\"POOOP\", \"OXXOX\", \"OPXPX\", \"OOXOX\", \"POXXP\"], [\"POOPX\", \"OXPXP\", \"PXXXO\", \"OXXXO\", \"OOOPP\"], [\"PXOPX\", \"OXOXP\", \"OXPOX\", \"OXXOP\", \"PXPOX\"], [\"OOOXX\", \"XOOOX\", \"OOOXX\", \"OXOOX\", \"OOOOO\"], [\"PXPXP\", \"XPXPX\", \"PXPXP\", \"XPXPX\", \"PXPXP\"]]\n",
    "print(solution(places))"
   ]
  }
 ],
 "metadata": {
  "kernelspec": {
   "display_name": "Python 3",
   "language": "python",
   "name": "python3"
  },
  "language_info": {
   "codemirror_mode": {
    "name": "ipython",
    "version": 3
   },
   "file_extension": ".py",
   "mimetype": "text/x-python",
   "name": "python",
   "nbconvert_exporter": "python",
   "pygments_lexer": "ipython3",
   "version": "3.8.5"
  }
 },
 "nbformat": 4,
 "nbformat_minor": 4
}
