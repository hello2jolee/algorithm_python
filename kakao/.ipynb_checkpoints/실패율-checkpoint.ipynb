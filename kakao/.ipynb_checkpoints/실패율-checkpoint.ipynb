{
 "cells": [
  {
   "cell_type": "code",
   "execution_count": null,
   "metadata": {},
   "outputs": [],
   "source": [
    "# https://www.welcomekakao.com/learn/courses/30/lessons/42889"
   ]
  },
  {
   "cell_type": "code",
   "execution_count": 3,
   "metadata": {},
   "outputs": [],
   "source": [
    "from functools import cmp_to_key\n",
    "\n",
    "def compare(a, b):\n",
    "    if a[1] == b[1]:\n",
    "        return a[0] - b[0]\n",
    "    \n",
    "    return b[1] - a[1]\n",
    "\n",
    "def solution(N, stages):\n",
    "    answer = []\n",
    "    total = len(stages)\n",
    "    fails = []\n",
    "    \n",
    "    users = [0 for _ in range(N + 1)]\n",
    "    for s in stages:\n",
    "        users[s-1] += 1\n",
    "        \n",
    "    for i in range(N):\n",
    "        if users[i] == 0:\n",
    "            fails.append((i + 1, 0))\n",
    "        else:\n",
    "            fails.append((i + 1, users[i] / total))\n",
    "            total -= users[i]\n",
    "            \n",
    "    for f in sorted(fails, key=cmp_to_key(compare)):\n",
    "        answer.append(f[0])\n",
    "    \n",
    "    return answer"
   ]
  },
  {
   "cell_type": "code",
   "execution_count": 4,
   "metadata": {},
   "outputs": [
    {
     "name": "stdout",
     "output_type": "stream",
     "text": [
      "[3, 4, 2, 1, 5]\n"
     ]
    }
   ],
   "source": [
    "N = 5\n",
    "stages = [2, 1, 2, 6, 2, 4, 3, 3]\n",
    "\n",
    "print(solution(N, stages))"
   ]
  }
 ],
 "metadata": {
  "kernelspec": {
   "display_name": "Python 3",
   "language": "python",
   "name": "python3"
  },
  "language_info": {
   "codemirror_mode": {
    "name": "ipython",
    "version": 3
   },
   "file_extension": ".py",
   "mimetype": "text/x-python",
   "name": "python",
   "nbconvert_exporter": "python",
   "pygments_lexer": "ipython3",
   "version": "3.8.5"
  }
 },
 "nbformat": 4,
 "nbformat_minor": 4
}
