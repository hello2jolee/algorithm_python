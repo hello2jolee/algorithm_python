{
 "cells": [
  {
   "cell_type": "code",
   "execution_count": 1,
   "metadata": {},
   "outputs": [],
   "source": [
    "def isValid(c):\n",
    "    if c.isalnum():\n",
    "        return True\n",
    "    if c == '-' or c == '_' or c == '.':\n",
    "        return True\n",
    "    return False\n",
    "\n",
    "def solution(new_id):\n",
    "    answer = ''\n",
    "    lastDot = False\n",
    "    \n",
    "    for ch in new_id:\n",
    "        if isValid(ch) == False:\n",
    "            continue\n",
    "            \n",
    "        if ch == '.':\n",
    "            if len(answer) == 0 or lastDot:\n",
    "                continue\n",
    "            lastDot = True\n",
    "        else:\n",
    "            lastDot = False\n",
    "        \n",
    "        ch = ch.lower()\n",
    "        answer += ch\n",
    "        \n",
    "    if len(answer) >= 16:\n",
    "        answer = answer[:15]\n",
    "        \n",
    "    if answer.endswith('.'):\n",
    "        # 뒤에서 하나 전꺼 삭제\n",
    "        answer = answer[:-1]\n",
    "        \n",
    "    if len(answer) == 0:\n",
    "        answer += 'a'\n",
    "        \n",
    "    if len(answer) <= 2:\n",
    "        ch = answer[-1:]\n",
    "        while len(answer) < 3:\n",
    "            answer += ch\n",
    "            \n",
    "    \n",
    "    return answer"
   ]
  },
  {
   "cell_type": "code",
   "execution_count": 2,
   "metadata": {},
   "outputs": [
    {
     "name": "stdout",
     "output_type": "stream",
     "text": [
      "bat.y.abcdefghi\n"
     ]
    }
   ],
   "source": [
    "# https://programmers.co.kr/learn/courses/30/lessons/72410\n",
    "\n",
    "new_id = \"...!@BaT#*..y.abcdefghijklm\"\n",
    "print(solution(new_id))"
   ]
  }
 ],
 "metadata": {
  "kernelspec": {
   "display_name": "Python 3",
   "language": "python",
   "name": "python3"
  },
  "language_info": {
   "codemirror_mode": {
    "name": "ipython",
    "version": 3
   },
   "file_extension": ".py",
   "mimetype": "text/x-python",
   "name": "python",
   "nbconvert_exporter": "python",
   "pygments_lexer": "ipython3",
   "version": "3.8.5"
  }
 },
 "nbformat": 4,
 "nbformat_minor": 4
}
