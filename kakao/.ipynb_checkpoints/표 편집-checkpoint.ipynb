{
 "cells": [
  {
   "cell_type": "code",
   "execution_count": null,
   "metadata": {},
   "outputs": [],
   "source": [
    "# 풀이 방법\n",
    "\n",
    "# Linked List로 풀이\n",
    "\n",
    "# 1. 하나의 객체 정의(Node) → remove 변수값(삭제 유무), previous link, next link\n",
    "# 2. 객체(Node)를 배열로 생성\n",
    "\n",
    "# 특정 노드는 index를 통해서 접근할 수도 있지만,\n",
    "# 그 노드에서 위아래로 이동할 때는 prev 또는 next를 사용해서 이동\n",
    "\n",
    "# 어떤 행이 선택되어 있는지는 curr 변수를 통해 특정 노드를 가르키도록 구현\n",
    "# ⇒ 처음에는 curr이 k값을 가르켜야 됨\n",
    "\n",
    "# 'C' 조건문이 들어왔을 경우\n",
    "# removed = True로 변경\n",
    "# prev, next는 삭제되었지만 링크값은 살아있음\n",
    "# 복원을 위해 stack을 사용해서 하나씩 push ('Z'가 들어올 경우 마지막 push 된 것을 pop해서 복원)\n",
    "# 링크 다시 연결!!\n",
    "\n",
    "# 'Z' 조건문이 들어왔을 경우\n",
    "# stack에서 pop을 통해 마지막으로 삭제되었던 것이 나옴\n",
    "# removed = False로 변경\n",
    "# 링크를 살려줌 + 링크 다시 연결!!"
   ]
  },
  {
   "cell_type": "code",
   "execution_count": 1,
   "metadata": {},
   "outputs": [],
   "source": [
    "class Node:\n",
    "    def __init__(self):\n",
    "        self.removed = False\n",
    "        self.prev = None\n",
    "        self.next = None\n",
    "\n",
    "def solution(n, k, cmd):\n",
    "    nodeArr = [Node() for _ in range(n)]\n",
    "    for i in range(1, n):\n",
    "        nodeArr[i-1].next = nodeArr[i]\n",
    "        nodeArr[i].prev = nodeArr[i-1]\n",
    "        \n",
    "    curr = nodeArr[k]\n",
    "    mystack = []\n",
    "    \n",
    "    for str in cmd:\n",
    "        if str[0] == 'U':\n",
    "            x = int(str[2:])\n",
    "            for _ in range(x):\n",
    "                curr = curr.prev\n",
    "        elif str[0] == 'D':\n",
    "            x = int(str[2:])\n",
    "            for _ in range(x):\n",
    "                curr = curr.next\n",
    "        elif str[0] == 'C':\n",
    "            mystack.append(curr)\n",
    "            curr.removed = True\n",
    "            up = curr.prev\n",
    "            down = curr.next\n",
    "            # up != None인 케이스 : 삭제되는 행이 첫번째 행이 아닌 경우\n",
    "            if up:\n",
    "                up.next = down\n",
    "            # down != None인 케이스 : 삭제되는 행이 마지막 행이 아닌 경우    \n",
    "            if down:\n",
    "                down.prev = up\n",
    "                curr = down\n",
    "            # 삭제된 행이 가장 마지막 행인 경우\n",
    "            else:\n",
    "                curr = up\n",
    "        else:\n",
    "            node = mystack.pop()\n",
    "            node.removed = False\n",
    "            up = node.prev\n",
    "            down = node.next\n",
    "            # up != None인 케이스 : 복원된 행이 첫번째가 아닌 경우\n",
    "            if up:\n",
    "                # 복원된 Node를 가르키도록 수정\n",
    "                up.next = node\n",
    "            # down != None인 케이스 : 복원된 행이 마지막 행이 아닌 경우\n",
    "            if down:\n",
    "                # 복원된 Node를 가르키도록 수정\n",
    "                down.prev = node\n",
    "    \n",
    "    answer = ''\n",
    "    for i in range(n):\n",
    "        if nodeArr[i].removed:\n",
    "            answer += 'X'\n",
    "        else:\n",
    "            answer += 'O'\n",
    "            \n",
    "    return answer"
   ]
  },
  {
   "cell_type": "code",
   "execution_count": 2,
   "metadata": {},
   "outputs": [
    {
     "name": "stdout",
     "output_type": "stream",
     "text": [
      "OOOOXOOO\n"
     ]
    }
   ],
   "source": [
    "# https://programmers.co.kr/learn/courses/30/lessons/81303\n",
    "\n",
    "n, k = 8, 2\n",
    "cmd = [\"D 2\",\"C\",\"U 3\",\"C\",\"D 4\",\"C\",\"U 2\",\"Z\",\"Z\"]\n",
    "\n",
    "print(solution(n, k, cmd))"
   ]
  }
 ],
 "metadata": {
  "kernelspec": {
   "display_name": "Python 3",
   "language": "python",
   "name": "python3"
  },
  "language_info": {
   "codemirror_mode": {
    "name": "ipython",
    "version": 3
   },
   "file_extension": ".py",
   "mimetype": "text/x-python",
   "name": "python",
   "nbconvert_exporter": "python",
   "pygments_lexer": "ipython3",
   "version": "3.8.5"
  }
 },
 "nbformat": 4,
 "nbformat_minor": 4
}
