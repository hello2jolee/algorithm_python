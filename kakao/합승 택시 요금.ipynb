{
 "cells": [
  {
   "cell_type": "code",
   "execution_count": null,
   "metadata": {},
   "outputs": [],
   "source": [
    "# 풀이 방법\n",
    "\n",
    "# 완전 탐색, Floyd-Warshall(모든 지점에서 AB까지, S에 가는 최단경로가 필요해서)\n",
    "# 최소 요금 = 무한대\n",
    "\n",
    "# 1. 차례대로 합승 요금을 구하면 됨 ⇒ 총 요금이 작을 경우 최소 요금 교체\n",
    "# 1.1 1까지 합승\n",
    "#     ㄴ 합승 요금 : 4→1 최소비용 = 10\n",
    "#     ㄴ A 추가요금 : 1→6 최소비용 = 25\n",
    "#     ㄴ B 추가요금 : 1→2 최소비용 = 63\n",
    "#     ㄴ 총 요금 = 98\n",
    "# 1.2 2까지 합승\n",
    "#     ㄴ 합승 요금 : 4→2 최소비용 = 66\n",
    "#     ㄴ A 추가요금 : 2→6 최소비용 = 48\n",
    "#     ㄴ B 추가요금 : 2→2 최소비용 = 0\n",
    "#     ㄴ 총 요금 = 114"
   ]
  },
  {
   "cell_type": "code",
   "execution_count": 9,
   "metadata": {},
   "outputs": [],
   "source": [
    "# 충분히 큰 수 지정(지점갯수 * 요금)\n",
    "INF = 200 * 100000\n",
    "\n",
    "def floyd(dist, n):\n",
    "    # k : 경유지 index 노드\n",
    "    for k in range(n):\n",
    "        # i : 출발지 index 노드\n",
    "        for i in range(n):\n",
    "            # j : 도착지 index 노드\n",
    "            for j in range(n):\n",
    "                if dist[i][k] + dist[k][j] < dist[i][j]:\n",
    "                    dist[i][j] = dist[i][k] + dist[k][j]\n",
    "    \n",
    "def solution(n, s, a, b, fares):\n",
    "    dist = [[INF for _ in range(n)] for _ in range(n)]\n",
    "    for i in range(n):\n",
    "        dist[i][i] = 0\n",
    "        \n",
    "    for edge in fares:\n",
    "        dist[edge[0]-1][edge[1]-1] = edge[2]\n",
    "        dist[edge[1]-1][edge[0]-1] = edge[2]\n",
    "        \n",
    "    floyd(dist, n)\n",
    "    \n",
    "    s -= 1\n",
    "    a -= 1\n",
    "    b -= 1\n",
    "    answer = INF\n",
    "    \n",
    "    # k : 경유지\n",
    "    for k in range(n):\n",
    "        answer = min(answer, dist[s][k] + dist[k][a] + dist[k][b])\n",
    "        \n",
    "    return answer"
   ]
  },
  {
   "cell_type": "code",
   "execution_count": 10,
   "metadata": {},
   "outputs": [
    {
     "name": "stdout",
     "output_type": "stream",
     "text": [
      "82\n"
     ]
    }
   ],
   "source": [
    "# https://programmers.co.kr/learn/courses/30/lessons/72413\n",
    "\n",
    "n, s, a, b = 6, 4, 6, 2\n",
    "fares = [[4, 1, 10], [3, 5, 24], [5, 6, 2], [3, 1, 41], [5, 1, 24], [4, 6, 50], [2, 4, 66], [2, 3, 22], [1, 6, 25]]\n",
    "\n",
    "print(solution(n, s, a, b, fares))"
   ]
  }
 ],
 "metadata": {
  "kernelspec": {
   "display_name": "Python 3",
   "language": "python",
   "name": "python3"
  },
  "language_info": {
   "codemirror_mode": {
    "name": "ipython",
    "version": 3
   },
   "file_extension": ".py",
   "mimetype": "text/x-python",
   "name": "python",
   "nbconvert_exporter": "python",
   "pygments_lexer": "ipython3",
   "version": "3.8.5"
  }
 },
 "nbformat": 4,
 "nbformat_minor": 4
}
