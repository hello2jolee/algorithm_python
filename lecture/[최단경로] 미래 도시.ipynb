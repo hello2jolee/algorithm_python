{
 "cells": [
  {
   "cell_type": "code",
   "execution_count": 4,
   "metadata": {},
   "outputs": [],
   "source": [
    "INF = int(1e9)\n",
    "\n",
    "def solution(N, M, array, x, k):\n",
    "    # 2차원 리스트(그래프 표현)을 만들고, 모든 값을 무한으로 초기화\n",
    "    graph = [[INF] * (N + 1) for _ in range(N + 1)]\n",
    "    \n",
    "    # 자기 자신에서 자기 자신으로 가는 비용은 0으로 초기화\n",
    "    for a in range(1, N + 1):\n",
    "        for b in range(1, N + 1):\n",
    "            if a == b:\n",
    "                graph[a][b] = 0\n",
    "            \n",
    "    # 각 간선에 대한 정보를 입력 받아, 그 값으로 초기화\n",
    "    for a, b in array:\n",
    "        # A와 B가 서로에게 가는 비용은 1이라고 설정\n",
    "        graph[a][b] = graph[b][a] = 1\n",
    "        \n",
    "    # 점화식에 따라 플로이드 워셜 알고리즘을 수행\n",
    "    for k in range(1, N + 1):\n",
    "        for a in range(1, N + 1):\n",
    "            for b in range(1, N + 1):\n",
    "                graph[a][b] = min(graph[a][b], graph[a][k] + graph[k][b])\n",
    "                \n",
    "    # 수행된 결과를 출력\n",
    "    distance = graph[1][k] + graph[k][x]\n",
    "    \n",
    "    # 도달할 수 없는 경우, -1을 출력\n",
    "    if distance >= INF:\n",
    "        return -1\n",
    "    else:\n",
    "        return distance"
   ]
  },
  {
   "cell_type": "code",
   "execution_count": 5,
   "metadata": {},
   "outputs": [
    {
     "name": "stdout",
     "output_type": "stream",
     "text": [
      "3\n"
     ]
    }
   ],
   "source": [
    "# 전체 회사의 개수 N, 경로의 개수 M\n",
    "N, M = 5, 7\n",
    "array = [[1, 2], [1, 3], [1, 4], [2, 4], [3, 4], [3, 5], [4, 5]]\n",
    "# 거쳐 갈 노드 X, 최종 목적지 노드 K\n",
    "x, k = 4, 5\n",
    "\n",
    "print(solution(N, M, array, x, k))"
   ]
  }
 ],
 "metadata": {
  "kernelspec": {
   "display_name": "Python 3",
   "language": "python",
   "name": "python3"
  },
  "language_info": {
   "codemirror_mode": {
    "name": "ipython",
    "version": 3
   },
   "file_extension": ".py",
   "mimetype": "text/x-python",
   "name": "python",
   "nbconvert_exporter": "python",
   "pygments_lexer": "ipython3",
   "version": "3.8.5"
  }
 },
 "nbformat": 4,
 "nbformat_minor": 4
}
