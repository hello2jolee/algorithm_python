{
 "cells": [
  {
   "cell_type": "code",
   "execution_count": 14,
   "metadata": {},
   "outputs": [],
   "source": [
    "import heapq\n",
    "INF = int(1e9)        \n",
    "\n",
    "def solution(N, M, C, array):\n",
    "    def dijkstra(start):\n",
    "        q = []\n",
    "        # 시작 노드로 가기 위한 최단 거리는 0으로 설정하여, 큐에 삽입\n",
    "        heapq.heappush(q, (0, start))\n",
    "        distance[start] = 0\n",
    "        # 큐가 비어있지 않다면\n",
    "        while q:\n",
    "            # 가장 최단 거리가 짧은 노드에 대한 정보를 꺼내기\n",
    "            dist, now = heapq.heappop(q)\n",
    "            if distance[now] < dist:\n",
    "                continue\n",
    "            # 현재 노드와 연결된 다른 인접한 노드들을 확인\n",
    "            for i in graph[now]:\n",
    "                cost = dist + i[1]\n",
    "                # 현재 노드를 거쳐서, 다른 노드로 이동하는 거리가 더 짧은 경우\n",
    "                if cost < distance[i[0]]:\n",
    "                    distance[i[0]] = cost\n",
    "                    heapq.heappush(q, (cost, i[0]))\n",
    "\n",
    "                \n",
    "    # 각 노드에 연결되어 있는 노드에 대한 정보를 담는 리스트를 만들기\n",
    "    graph = [[] for i in range(N + 1)]\n",
    "    # 최단 거리 테이블을 모두 무한으로 초기화\n",
    "    distance = [INF] * (N + 1)\n",
    "    \n",
    "    # 모든 간선 정보를 입력받기\n",
    "    for x, y, z in array:\n",
    "        graph[x].append((y, z))\n",
    "        \n",
    "    # 다익스트라 알고리즘을 수행\n",
    "    dijkstra(C)\n",
    "    \n",
    "    # 도달할 수 있는 노드의 개수\n",
    "    count = 0\n",
    "    # 도달할 수 있는 노드 중에서, 가장 멀리 있는 노드와의 최단 거리\n",
    "    max_distance = 0\n",
    "    for d in distance:\n",
    "        # 도달할 수 있는 노드인 경우\n",
    "        if d != 1e9:\n",
    "            count += 1\n",
    "            max_distance = max(max_distance, d)\n",
    "            \n",
    "    return [count - 1, max_distance]"
   ]
  },
  {
   "cell_type": "code",
   "execution_count": 15,
   "metadata": {},
   "outputs": [
    {
     "name": "stdout",
     "output_type": "stream",
     "text": [
      "[2, 4]\n"
     ]
    }
   ],
   "source": [
    "# 도시의 개수 N, 통로의 개수 M, 메시지를 보내고자 하는 도시 C\n",
    "N, M, C = 3, 2, 1\n",
    "# 특정 도시 X에서 다른 특정 도시 Y로 이어지는 통로, 메시지 전달 시간 Z\n",
    "array = [[1, 2, 4], [1, 3, 2]]\n",
    "\n",
    "print(solution(N, M, C, array))"
   ]
  },
  {
   "cell_type": "code",
   "execution_count": null,
   "metadata": {},
   "outputs": [],
   "source": []
  }
 ],
 "metadata": {
  "kernelspec": {
   "display_name": "Python 3",
   "language": "python",
   "name": "python3"
  },
  "language_info": {
   "codemirror_mode": {
    "name": "ipython",
    "version": 3
   },
   "file_extension": ".py",
   "mimetype": "text/x-python",
   "name": "python",
   "nbconvert_exporter": "python",
   "pygments_lexer": "ipython3",
   "version": "3.8.5"
  }
 },
 "nbformat": 4,
 "nbformat_minor": 4
}
