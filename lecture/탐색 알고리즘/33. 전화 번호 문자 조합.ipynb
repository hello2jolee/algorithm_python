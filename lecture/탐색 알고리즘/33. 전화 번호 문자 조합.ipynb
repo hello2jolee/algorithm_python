{
 "cells": [
  {
   "cell_type": "code",
   "execution_count": null,
   "metadata": {},
   "outputs": [],
   "source": [
    "def solution(digits):\n",
    "    def dfs(index, path):\n",
    "        if len(path) == len(digits):\n",
    "            result.append(path)\n",
    "            return\n",
    "        \n",
    "        for i in range(index, len(digits)):\n",
    "            for j in dic[digits[i]]:\n",
    "                dfs(i+1, path+j)\n",
    "        \n",
    "\n",
    "    path = \"\"\n",
    "    dic = {\"2\" : \"abc\", \"3\" : \"def\", \"4\" : \"ghi\", \"5\": \"jkl\", \"6\" : \"mno\", \"7\" : \"pqrs\", \"8\", \"tuv\", \"9\" : \"wxyz\"}\n",
    "    \n",
    "    \n",
    "            \n",
    "    return path"
   ]
  },
  {
   "cell_type": "code",
   "execution_count": null,
   "metadata": {},
   "outputs": [],
   "source": [
    "n = \"23\"\n",
    "print(solution(n))"
   ]
  }
 ],
 "metadata": {
  "kernelspec": {
   "display_name": "Python 3",
   "language": "python",
   "name": "python3"
  },
  "language_info": {
   "codemirror_mode": {
    "name": "ipython",
    "version": 3
   },
   "file_extension": ".py",
   "mimetype": "text/x-python",
   "name": "python",
   "nbconvert_exporter": "python",
   "pygments_lexer": "ipython3",
   "version": "3.8.5"
  }
 },
 "nbformat": 4,
 "nbformat_minor": 4
}
