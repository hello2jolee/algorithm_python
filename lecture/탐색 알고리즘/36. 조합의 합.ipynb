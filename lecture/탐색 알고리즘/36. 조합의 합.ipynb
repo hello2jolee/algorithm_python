{
 "cells": [
  {
   "cell_type": "code",
   "execution_count": 10,
   "metadata": {},
   "outputs": [],
   "source": [
    "def solution(candidates, target):\n",
    "    result = []\n",
    "    def dfs(csum, index, path):\n",
    "        if csum < 0:\n",
    "            return\n",
    "        if csum == 0:\n",
    "            result.append(path)\n",
    "            return\n",
    "        for i in range(index, len(candidates)):\n",
    "            dfs(csum-candidates[i], i, path+[candidates[i]])\n",
    "            \n",
    "    dfs(target, 0, [])\n",
    "    return result"
   ]
  },
  {
   "cell_type": "code",
   "execution_count": 11,
   "metadata": {},
   "outputs": [
    {
     "name": "stdout",
     "output_type": "stream",
     "text": [
      "[[2, 2, 3], [7]]\n"
     ]
    }
   ],
   "source": [
    "candidates = [2, 3, 6, 7]\n",
    "target = 7\n",
    "\n",
    "print(solution(candidates, target))"
   ]
  }
 ],
 "metadata": {
  "kernelspec": {
   "display_name": "Python 3",
   "language": "python",
   "name": "python3"
  },
  "language_info": {
   "codemirror_mode": {
    "name": "ipython",
    "version": 3
   },
   "file_extension": ".py",
   "mimetype": "text/x-python",
   "name": "python",
   "nbconvert_exporter": "python",
   "pygments_lexer": "ipython3",
   "version": "3.8.5"
  }
 },
 "nbformat": 4,
 "nbformat_minor": 4
}
