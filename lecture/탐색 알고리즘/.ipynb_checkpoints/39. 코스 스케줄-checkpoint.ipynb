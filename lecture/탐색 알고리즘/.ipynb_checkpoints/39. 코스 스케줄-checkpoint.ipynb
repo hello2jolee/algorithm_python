{
 "cells": [
  {
   "cell_type": "code",
   "execution_count": 7,
   "metadata": {},
   "outputs": [],
   "source": [
    "import collections\n",
    "\n",
    "def solution(numCourses, prerequisites):\n",
    "    graph = collections.defaultdict(list)\n",
    "    for x, y in prerequisites:\n",
    "        graph[x].append(y)\n",
    "        \n",
    "    traced = set()\n",
    "    visited = set()\n",
    "    \n",
    "    def dfs(i):\n",
    "        if i in traced:\n",
    "            return False\n",
    "        if i in visited:\n",
    "            return True\n",
    "        \n",
    "        traced.add(i)\n",
    "        for y in graph[i]:\n",
    "            if not dfs(y):\n",
    "                return False\n",
    "        traced.remove(i)\n",
    "        visited.add(i)\n",
    "        \n",
    "        return True\n",
    "        \n",
    "    for x in list(graph):\n",
    "        if not dfs(x):\n",
    "            return False\n",
    "    return True"
   ]
  },
  {
   "cell_type": "code",
   "execution_count": 8,
   "metadata": {},
   "outputs": [
    {
     "name": "stdout",
     "output_type": "stream",
     "text": [
      "False\n"
     ]
    }
   ],
   "source": [
    "numCourses, prerequisites = 2, [[1,0], [0,1]]\n",
    "print(solution(numCourses, prerequisites))"
   ]
  }
 ],
 "metadata": {
  "kernelspec": {
   "display_name": "Python 3",
   "language": "python",
   "name": "python3"
  },
  "language_info": {
   "codemirror_mode": {
    "name": "ipython",
    "version": 3
   },
   "file_extension": ".py",
   "mimetype": "text/x-python",
   "name": "python",
   "nbconvert_exporter": "python",
   "pygments_lexer": "ipython3",
   "version": "3.8.5"
  }
 },
 "nbformat": 4,
 "nbformat_minor": 4
}
