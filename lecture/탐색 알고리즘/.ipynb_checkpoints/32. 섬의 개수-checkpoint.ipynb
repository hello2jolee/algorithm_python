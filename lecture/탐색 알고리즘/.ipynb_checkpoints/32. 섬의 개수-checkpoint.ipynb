{
 "cells": [
  {
   "cell_type": "code",
   "execution_count": 13,
   "metadata": {},
   "outputs": [],
   "source": [
    "def solution(graph):\n",
    "    def dfs(x, y):\n",
    "        if x <= -1 or x >= len(graph) or y <= -1 or y >= len(graph[0]):\n",
    "            return False\n",
    "\n",
    "        if graph[x][y] == 0:\n",
    "            graph[x][y] = 1\n",
    "            dfs(x-1, y)\n",
    "            dfs(x, y-1)\n",
    "            dfs(x+1, y)\n",
    "            dfs(x, y+1)\n",
    "            return True\n",
    "        return False\n",
    "    \n",
    "    result = 0\n",
    "    for i in range(len(graph)):\n",
    "        for j in range(len(graph[0])):\n",
    "            if dfs(i, j) == True:\n",
    "                result += 1\n",
    "    return result"
   ]
  },
  {
   "cell_type": "code",
   "execution_count": 14,
   "metadata": {},
   "outputs": [
    {
     "name": "stdout",
     "output_type": "stream",
     "text": [
      "1\n"
     ]
    }
   ],
   "source": [
    "graph = [\n",
    "    [1, 1, 1, 1, 0],\n",
    "    [1, 1, 0, 1, 0],\n",
    "    [1, 1, 0, 0, 0],\n",
    "    [0, 0, 0, 0, 0]\n",
    "]\n",
    "\n",
    "print(solution(graph))"
   ]
  }
 ],
 "metadata": {
  "kernelspec": {
   "display_name": "Python 3",
   "language": "python",
   "name": "python3"
  },
  "language_info": {
   "codemirror_mode": {
    "name": "ipython",
    "version": 3
   },
   "file_extension": ".py",
   "mimetype": "text/x-python",
   "name": "python",
   "nbconvert_exporter": "python",
   "pygments_lexer": "ipython3",
   "version": "3.8.5"
  }
 },
 "nbformat": 4,
 "nbformat_minor": 4
}
