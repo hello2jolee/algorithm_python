{
 "cells": [
  {
   "cell_type": "code",
   "execution_count": null,
   "metadata": {},
   "outputs": [],
   "source": [
    "# 풀이 방법\n",
    "\n",
    "# 적절한 높이를 찾을 때까지 이진 탐색을 수행하여 높이 H를 반복해서 조정\n",
    "# '현재 이 높이로 자르면 조건을 만족할 수 있는가?'를 확인한 뒤\n",
    "# 조건의 만족 여부에 따라서 탐색 범위를 좁혀서 해결할 수 있음\n",
    "\n",
    "# 절단기의 높이는 0부터 10억까지의 정수 중 하나\n",
    "# 큰 탐색 범위를 보면 가장 먼저 이진 탐색을 떠올려야 함\n",
    "\n",
    "# 중간점의 값은 시간이 지날수록 '최적화된 값'이 되기 때문에, \n",
    "# 과정을 반복하면서 얻을 수 있는 떡의 길이 합이 필요한 떡의 길이보다 크거나 같을 때마다 중간점의 값을 기록"
   ]
  },
  {
   "cell_type": "code",
   "execution_count": 1,
   "metadata": {},
   "outputs": [],
   "source": [
    "def solution(N, M, array):\n",
    "    # 이진 탐색을 위한 시작점과 끝점 설정\n",
    "    start = 0\n",
    "    end = max(array)\n",
    "    \n",
    "    # 이진 탐색 수행 (반복적)\n",
    "    result = 0\n",
    "    while(start <= end):\n",
    "        total = 0\n",
    "        mid = (start + end) // 2\n",
    "        for x in array:\n",
    "            # 잘랐을 때의 떡의 양 계산\n",
    "            if x > mid:\n",
    "                total += x - mid\n",
    "        # 떡의 양이 부족한 경우 더 많이 자르기 (왼쪽 부분 탐색)\n",
    "        if total < M:\n",
    "            end = mid - 1\n",
    "        # 떡의 양이 충분한 경우 덜 저르기 (오른쪽 부분 탐색)\n",
    "        else:\n",
    "            result = mid # 최대한 덜 잘랐을 때가 정답이므로, 여기에서 result에 기록\n",
    "            start = mid + 1\n",
    "            \n",
    "    return result"
   ]
  },
  {
   "cell_type": "code",
   "execution_count": 2,
   "metadata": {},
   "outputs": [
    {
     "name": "stdout",
     "output_type": "stream",
     "text": [
      "15\n"
     ]
    }
   ],
   "source": [
    "N, M = 4, 6\n",
    "array = [19, 15, 10, 17]\n",
    "\n",
    "print(solution(N, M, array))"
   ]
  }
 ],
 "metadata": {
  "kernelspec": {
   "display_name": "Python 3",
   "language": "python",
   "name": "python3"
  },
  "language_info": {
   "codemirror_mode": {
    "name": "ipython",
    "version": 3
   },
   "file_extension": ".py",
   "mimetype": "text/x-python",
   "name": "python",
   "nbconvert_exporter": "python",
   "pygments_lexer": "ipython3",
   "version": "3.8.5"
  }
 },
 "nbformat": 4,
 "nbformat_minor": 4
}
