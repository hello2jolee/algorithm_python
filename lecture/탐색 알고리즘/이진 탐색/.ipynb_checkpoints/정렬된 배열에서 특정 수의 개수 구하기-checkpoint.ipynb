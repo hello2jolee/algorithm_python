{
 "cells": [
  {
   "cell_type": "code",
   "execution_count": null,
   "metadata": {},
   "outputs": [],
   "source": [
    "# 풀이 방법\n",
    "\n",
    "# 시간 복잡도 0(logN)으로 동작하는 알고리즘을 요구하고 있기 때문에\n",
    "# 선형 탐색으로는 시간 초과 판정을 받음\n",
    "# 하지만, 데이터가 정렬되어 있기 때문에 이진 탐색을 수행할 수 있음!!\n",
    "\n",
    "# 특정 값이 등장하는 첫 번째 위치와 마지막 위치를 찾아 위치 차이를 계산해 문제를 해결 할 수 있음\n"
   ]
  },
  {
   "cell_type": "code",
   "execution_count": 1,
   "metadata": {},
   "outputs": [],
   "source": [
    "from bisect import bisect_left, bisect_right\n",
    "\n",
    "# 값이 [left_value, right_value]인 데이터의 개수를 반환하는 함수\n",
    "def count_by_range(array, left_value, right_value):\n",
    "    right_index = bisect_right(array, right_value)\n",
    "    left_index = bisect_left(array, left_value)\n",
    "    return right_index - left_index\n",
    "\n",
    "def solution(N, x, array):\n",
    "    # 값이 [x, x] 범위에 있는 데이터의 개수 계산\n",
    "    count = count_by_range(array, x, x)\n",
    "    \n",
    "    # 값이 x인 원소가 존재하지 않는다면\n",
    "    if count == 0:\n",
    "        return -1\n",
    "    # 값이 x인 원소가 존재한다면\n",
    "    else:\n",
    "        return count"
   ]
  },
  {
   "cell_type": "code",
   "execution_count": 2,
   "metadata": {},
   "outputs": [
    {
     "name": "stdout",
     "output_type": "stream",
     "text": [
      "4\n"
     ]
    }
   ],
   "source": [
    "N, x = 7, 2\n",
    "array = [1, 1, 2, 2, 2, 2, 3]\n",
    "\n",
    "print(solution(N, x, array))"
   ]
  }
 ],
 "metadata": {
  "kernelspec": {
   "display_name": "Python 3",
   "language": "python",
   "name": "python3"
  },
  "language_info": {
   "codemirror_mode": {
    "name": "ipython",
    "version": 3
   },
   "file_extension": ".py",
   "mimetype": "text/x-python",
   "name": "python",
   "nbconvert_exporter": "python",
   "pygments_lexer": "ipython3",
   "version": "3.8.5"
  }
 },
 "nbformat": 4,
 "nbformat_minor": 4
}
