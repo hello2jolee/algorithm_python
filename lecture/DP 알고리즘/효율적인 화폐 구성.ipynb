{
 "cells": [
  {
   "cell_type": "code",
   "execution_count": 2,
   "metadata": {},
   "outputs": [],
   "source": [
    "def solution(N, M, value):\n",
    "    d = [10001] * (M+1)\n",
    "    d[0] = 0\n",
    "    \n",
    "    for i in range(N):\n",
    "        for j in range(value[i], M+1):\n",
    "            if d[j-value[i]] != 10001:\n",
    "                d[j] = min(d[j], d[j-value[i]] + 1)\n",
    "                \n",
    "    if d[M] == 10001:\n",
    "        return -1\n",
    "    else:\n",
    "        return d[M]"
   ]
  },
  {
   "cell_type": "code",
   "execution_count": 3,
   "metadata": {},
   "outputs": [
    {
     "name": "stdout",
     "output_type": "stream",
     "text": [
      "5\n"
     ]
    }
   ],
   "source": [
    "N, M = 2, 15\n",
    "value = [2, 3]\n",
    "\n",
    "print(solution(N, M, value))"
   ]
  }
 ],
 "metadata": {
  "kernelspec": {
   "display_name": "Python 3",
   "language": "python",
   "name": "python3"
  },
  "language_info": {
   "codemirror_mode": {
    "name": "ipython",
    "version": 3
   },
   "file_extension": ".py",
   "mimetype": "text/x-python",
   "name": "python",
   "nbconvert_exporter": "python",
   "pygments_lexer": "ipython3",
   "version": "3.8.5"
  }
 },
 "nbformat": 4,
 "nbformat_minor": 4
}
