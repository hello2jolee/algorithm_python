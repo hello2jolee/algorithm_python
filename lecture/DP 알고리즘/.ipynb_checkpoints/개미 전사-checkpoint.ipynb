{
 "cells": [
  {
   "cell_type": "code",
   "execution_count": 1,
   "metadata": {},
   "outputs": [],
   "source": [
    "def solution(n, k):\n",
    "    d = [0] * 100\n",
    "    \n",
    "    d[0] = k[0]\n",
    "    d[1] = max(k[0], k[1])\n",
    "    for i in range(2, n):\n",
    "        d[i] = max(d[i-1], d[i-2]+k[i])\n",
    "        \n",
    "    return d[n-1]"
   ]
  },
  {
   "cell_type": "code",
   "execution_count": 2,
   "metadata": {},
   "outputs": [
    {
     "name": "stdout",
     "output_type": "stream",
     "text": [
      "8\n"
     ]
    }
   ],
   "source": [
    "n, k = 4, [1, 3, 1, 5]\n",
    "print(solution(n, k))"
   ]
  }
 ],
 "metadata": {
  "kernelspec": {
   "display_name": "Python 3",
   "language": "python",
   "name": "python3"
  },
  "language_info": {
   "codemirror_mode": {
    "name": "ipython",
    "version": 3
   },
   "file_extension": ".py",
   "mimetype": "text/x-python",
   "name": "python",
   "nbconvert_exporter": "python",
   "pygments_lexer": "ipython3",
   "version": "3.8.5"
  }
 },
 "nbformat": 4,
 "nbformat_minor": 4
}
