{
 "cells": [
  {
   "cell_type": "code",
   "execution_count": 1,
   "metadata": {},
   "outputs": [],
   "source": [
    "def solution(N, array):\n",
    "    dp = [[0] * N for _ in range(N)]\n",
    "    dp[0][0] = array[0][0]\n",
    "    for i in range(N):\n",
    "        dp[0][i] = dp[0][i - 1] + array[0][i]\n",
    "        dp[i][0] = dp[i - 1][0] + array[i][0]\n",
    "        \n",
    "    for i in range(1, N):\n",
    "        for j in range(1, N):\n",
    "            dp[i][j] = min(dp[i - 1][j], dp[i][j - 1]) + array[i][j]\n",
    "            \n",
    "    return dp[N - 1][N -1]"
   ]
  },
  {
   "cell_type": "code",
   "execution_count": 2,
   "metadata": {},
   "outputs": [
    {
     "name": "stdout",
     "output_type": "stream",
     "text": [
      "25\n"
     ]
    }
   ],
   "source": [
    "N = 5\n",
    "array = [[3, 7, 2, 1, 9], [5, 8, 3, 9, 2], [5, 3, 1, 2, 3], [5, 4, 3, 2, 1], [1, 7, 5, 2, 4]]\n",
    "\n",
    "print(solution(N, array))"
   ]
  }
 ],
 "metadata": {
  "kernelspec": {
   "display_name": "Python 3",
   "language": "python",
   "name": "python3"
  },
  "language_info": {
   "codemirror_mode": {
    "name": "ipython",
    "version": 3
   },
   "file_extension": ".py",
   "mimetype": "text/x-python",
   "name": "python",
   "nbconvert_exporter": "python",
   "pygments_lexer": "ipython3",
   "version": "3.8.5"
  }
 },
 "nbformat": 4,
 "nbformat_minor": 4
}
