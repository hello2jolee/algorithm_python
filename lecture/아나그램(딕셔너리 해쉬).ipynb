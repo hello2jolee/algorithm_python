{
 "cells": [
  {
   "cell_type": "code",
   "execution_count": 3,
   "metadata": {},
   "outputs": [],
   "source": [
    "def solution(a, b):\n",
    "    str1 = {}\n",
    "    str2 = {}\n",
    "    \n",
    "    for x in a:\n",
    "        str1[x] = str1.get(x, 0) + 1\n",
    "    for x in b:\n",
    "        str2[x] = str2.get(x, 0) + 1\n",
    "        \n",
    "    for i in str1.keys():\n",
    "        if i in str2.keys():\n",
    "            if str1[i] != str2[i]:\n",
    "                print(\"NO\")\n",
    "                break\n",
    "        else:\n",
    "            print(\"NO\")\n",
    "            break\n",
    "            \n",
    "    print(\"YES\")"
   ]
  },
  {
   "cell_type": "code",
   "execution_count": 4,
   "metadata": {},
   "outputs": [
    {
     "name": "stdout",
     "output_type": "stream",
     "text": [
      "YES\n"
     ]
    }
   ],
   "source": [
    "str1 = 'AbaAeCe'\n",
    "str2 = 'baeeACA'\n",
    "\n",
    "solution(str1, str2)"
   ]
  }
 ],
 "metadata": {
  "kernelspec": {
   "display_name": "Python 3",
   "language": "python",
   "name": "python3"
  },
  "language_info": {
   "codemirror_mode": {
    "name": "ipython",
    "version": 3
   },
   "file_extension": ".py",
   "mimetype": "text/x-python",
   "name": "python",
   "nbconvert_exporter": "python",
   "pygments_lexer": "ipython3",
   "version": "3.8.5"
  }
 },
 "nbformat": 4,
 "nbformat_minor": 4
}
