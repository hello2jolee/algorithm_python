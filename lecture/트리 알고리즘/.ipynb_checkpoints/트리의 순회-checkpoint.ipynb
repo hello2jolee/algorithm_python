{
 "cells": [
  {
   "cell_type": "code",
   "execution_count": null,
   "metadata": {},
   "outputs": [],
   "source": [
    "# https://www.acmicpc.net/problem/2263"
   ]
  },
  {
   "cell_type": "code",
   "execution_count": 2,
   "metadata": {},
   "outputs": [
    {
     "name": "stdout",
     "output_type": "stream",
     "text": [
      "3\n",
      "1 2 3\n",
      "1 3 2\n",
      "2 1 3 "
     ]
    }
   ],
   "source": [
    "import sys\n",
    "sys.setrecursionlimit(10 ** 6)\n",
    "\n",
    "n = int(input())\n",
    "inorder = list(map(int, input().split()))\n",
    "postorder = list(map(int, input().split()))\n",
    "\n",
    "preorder = [0] * (n + 1)\n",
    "\n",
    "for i in range(n):\n",
    "    preorder[inorder[i]] = i\n",
    "    \n",
    "def divide(iStart, iEnd, pStart, pEnd):\n",
    "    if(iStart > iEnd) or (pStart > pEnd):\n",
    "        return\n",
    "    parents = postorder[pEnd] # 후위순회에서 부모노드 찾기\n",
    "    print(parents, end=\" \")\n",
    "    \n",
    "    left = preorder[parents] - iStart # 왼쪽인자 개수\n",
    "    right = iEnd - preorder[parents] # 오른쪽인자 개수\n",
    "    \n",
    "    divide(iStart, iStart + left - 1, pStart, pStart + left - 1) # 왼쪽 노드 탐색\n",
    "    divide(iEnd - right + 1, iEnd, pEnd - right, pEnd - 1) # 오른쪽 노드 탐색\n",
    "    \n",
    "divide(0, n - 1, 0, n - 1)    "
   ]
  }
 ],
 "metadata": {
  "kernelspec": {
   "display_name": "Python 3",
   "language": "python",
   "name": "python3"
  },
  "language_info": {
   "codemirror_mode": {
    "name": "ipython",
    "version": 3
   },
   "file_extension": ".py",
   "mimetype": "text/x-python",
   "name": "python",
   "nbconvert_exporter": "python",
   "pygments_lexer": "ipython3",
   "version": "3.8.5"
  }
 },
 "nbformat": 4,
 "nbformat_minor": 4
}
