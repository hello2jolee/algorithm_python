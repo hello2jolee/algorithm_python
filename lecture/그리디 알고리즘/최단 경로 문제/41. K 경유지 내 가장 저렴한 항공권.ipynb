{
 "cells": [
  {
   "cell_type": "code",
   "execution_count": 5,
   "metadata": {},
   "outputs": [],
   "source": [
    "import collections\n",
    "import heapq\n",
    "\n",
    "def solution(n, edges, src, dst, K):\n",
    "    graph = collections.defaultdict(list)\n",
    "    for u, v, w in edges:\n",
    "        graph[u].append((v, w))\n",
    "        \n",
    "    Q = [(0, src, K)] # (가격, 정점, 남은 가능 경유지 수)\n",
    "    \n",
    "    while Q:\n",
    "        price, node, k = heapq.heappop(Q)\n",
    "        if node == dst:\n",
    "            return price\n",
    "        if k >= 0:\n",
    "            for v, w, in graph[node]:\n",
    "                alt = price + w\n",
    "                heapq.heappush(Q, (alt, v, k-1))\n",
    "                \n",
    "    return -1"
   ]
  },
  {
   "cell_type": "code",
   "execution_count": 6,
   "metadata": {},
   "outputs": [
    {
     "name": "stdout",
     "output_type": "stream",
     "text": [
      "500\n"
     ]
    }
   ],
   "source": [
    "n = 3\n",
    "edges = [[0, 1, 100], [1, 2, 100], [0, 2, 500]]\n",
    "src, dst, K = 0, 2, 0\n",
    "\n",
    "print(solution(n, edges, src, dst, K))"
   ]
  }
 ],
 "metadata": {
  "kernelspec": {
   "display_name": "Python 3",
   "language": "python",
   "name": "python3"
  },
  "language_info": {
   "codemirror_mode": {
    "name": "ipython",
    "version": 3
   },
   "file_extension": ".py",
   "mimetype": "text/x-python",
   "name": "python",
   "nbconvert_exporter": "python",
   "pygments_lexer": "ipython3",
   "version": "3.8.5"
  }
 },
 "nbformat": 4,
 "nbformat_minor": 4
}
