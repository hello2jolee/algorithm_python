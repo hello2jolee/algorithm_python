{
 "cells": [
  {
   "cell_type": "code",
   "execution_count": 5,
   "metadata": {},
   "outputs": [],
   "source": [
    "import collections\n",
    "import heapq\n",
    "\n",
    "def solution(times, N, K):\n",
    "    graph = collections.defaultdict(list)\n",
    "    for u, v, w in times:\n",
    "        graph[u].append((v, w))\n",
    "        \n",
    "    Q = [(0, K)] # (소요 시간, 정점)\n",
    "    dist = collections.defaultdict(int)\n",
    "    \n",
    "    # 우선순위 큐 최소값 기준으로 정점까지 최단 경로 삽입\n",
    "    while Q:\n",
    "        time, node = heapq.heappop(Q)\n",
    "        if node not in dist:\n",
    "            dist[node] = time\n",
    "            for v, w in graph[node]:\n",
    "                alt = time + w\n",
    "                heapq.heappush(Q, (alt, v))\n",
    "                \n",
    "    if len(dist) == N:\n",
    "        return max(dist.values())\n",
    "    return -1"
   ]
  },
  {
   "cell_type": "code",
   "execution_count": 6,
   "metadata": {},
   "outputs": [
    {
     "name": "stdout",
     "output_type": "stream",
     "text": [
      "2\n"
     ]
    }
   ],
   "source": [
    "times = [[2, 1, 1], [2, 3, 1], [3, 4, 1]]\n",
    "N, K = 4, 2\n",
    "\n",
    "print(solution(times, N, K))"
   ]
  }
 ],
 "metadata": {
  "kernelspec": {
   "display_name": "Python 3",
   "language": "python",
   "name": "python3"
  },
  "language_info": {
   "codemirror_mode": {
    "name": "ipython",
    "version": 3
   },
   "file_extension": ".py",
   "mimetype": "text/x-python",
   "name": "python",
   "nbconvert_exporter": "python",
   "pygments_lexer": "ipython3",
   "version": "3.8.5"
  }
 },
 "nbformat": 4,
 "nbformat_minor": 4
}
