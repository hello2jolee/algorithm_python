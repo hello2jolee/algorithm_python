{
 "cells": [
  {
   "cell_type": "code",
   "execution_count": 1,
   "metadata": {},
   "outputs": [],
   "source": [
    "from collections import Counter\n",
    "def solution(tasks, n):\n",
    "    counter = Counter(tasks)\n",
    "    result = 0\n",
    "    \n",
    "    while True:\n",
    "        sub_count = 0\n",
    "        for task, _ in counter.most_common(n+1):\n",
    "            sub_count += 1\n",
    "            result += 1\n",
    "            \n",
    "            counter.subtract(task)\n",
    "            counter += Counter()\n",
    "            \n",
    "        if not counter:\n",
    "            break\n",
    "            \n",
    "        result += n + sub_count + 1\n",
    "        \n",
    "    return result"
   ]
  },
  {
   "cell_type": "code",
   "execution_count": 2,
   "metadata": {},
   "outputs": [
    {
     "name": "stdout",
     "output_type": "stream",
     "text": [
      "16\n"
     ]
    }
   ],
   "source": [
    "tasks, n = [\"A\", \"A\", \"A\", \"B\", \"B\", \"B\"], 2\n",
    "print(solution(tasks, n))"
   ]
  }
 ],
 "metadata": {
  "kernelspec": {
   "display_name": "Python 3",
   "language": "python",
   "name": "python3"
  },
  "language_info": {
   "codemirror_mode": {
    "name": "ipython",
    "version": 3
   },
   "file_extension": ".py",
   "mimetype": "text/x-python",
   "name": "python",
   "nbconvert_exporter": "python",
   "pygments_lexer": "ipython3",
   "version": "3.8.5"
  }
 },
 "nbformat": 4,
 "nbformat_minor": 4
}
