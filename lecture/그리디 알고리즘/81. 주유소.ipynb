{
 "cells": [
  {
   "cell_type": "code",
   "execution_count": 3,
   "metadata": {},
   "outputs": [],
   "source": [
    "def solution(gas, cost):\n",
    "    if sum(gas) < sum(cost):\n",
    "        return -1\n",
    "    \n",
    "    start, fuel = 0, 0\n",
    "    for i in range(len(gas)):\n",
    "        if gas[i] + fuel < cost[i]:\n",
    "            start = i + 1\n",
    "            fuel = 0\n",
    "        else:\n",
    "            fuel += gas[i] - cost[i]\n",
    "    return start"
   ]
  },
  {
   "cell_type": "code",
   "execution_count": 4,
   "metadata": {},
   "outputs": [
    {
     "name": "stdout",
     "output_type": "stream",
     "text": [
      "3\n"
     ]
    }
   ],
   "source": [
    "gas, cost = [1, 2, 3, 4, 5], [3, 4, 5, 1, 2]\n",
    "print(solution(gas, cost))"
   ]
  }
 ],
 "metadata": {
  "kernelspec": {
   "display_name": "Python 3",
   "language": "python",
   "name": "python3"
  },
  "language_info": {
   "codemirror_mode": {
    "name": "ipython",
    "version": 3
   },
   "file_extension": ".py",
   "mimetype": "text/x-python",
   "name": "python",
   "nbconvert_exporter": "python",
   "pygments_lexer": "ipython3",
   "version": "3.8.5"
  }
 },
 "nbformat": 4,
 "nbformat_minor": 4
}
