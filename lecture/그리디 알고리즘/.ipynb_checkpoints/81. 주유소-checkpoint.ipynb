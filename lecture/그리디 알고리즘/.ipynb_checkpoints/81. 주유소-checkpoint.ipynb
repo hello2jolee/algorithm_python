{
 "cells": [
  {
   "cell_type": "code",
   "execution_count": null,
   "metadata": {},
   "outputs": [],
   "source": [
    "def solution(gas, cost):\n",
    "    for start in range(len(gas)):\n",
    "        fuel = 0\n",
    "        for i in range(start, len(gas) + start):\n",
    "            index = i % len(gas)\n",
    "            \n",
    "            can_travel = True\n",
    "            if gas[index] + fuel < cost[index]:\n",
    "                can_travel = False\n",
    "                break\n",
    "            else:\n",
    "                fuel += gas[index] - cost[index]\n",
    "        if can_travel:\n",
    "            return start\n",
    "    return -1"
   ]
  },
  {
   "cell_type": "code",
   "execution_count": null,
   "metadata": {},
   "outputs": [],
   "source": [
    "gas, cost = [1, 2, 3, 4, 5], [3, 4, 5, 1, 2]\n",
    "print(solution(gas, cost))"
   ]
  }
 ],
 "metadata": {
  "kernelspec": {
   "display_name": "Python 3",
   "language": "python",
   "name": "python3"
  },
  "language_info": {
   "codemirror_mode": {
    "name": "ipython",
    "version": 3
   },
   "file_extension": ".py",
   "mimetype": "text/x-python",
   "name": "python",
   "nbconvert_exporter": "python",
   "pygments_lexer": "ipython3",
   "version": "3.8.5"
  }
 },
 "nbformat": 4,
 "nbformat_minor": 4
}
