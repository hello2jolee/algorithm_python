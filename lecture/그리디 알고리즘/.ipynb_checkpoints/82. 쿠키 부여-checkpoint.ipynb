{
 "cells": [
  {
   "cell_type": "code",
   "execution_count": 1,
   "metadata": {},
   "outputs": [],
   "source": [
    "def solution(g, s):\n",
    "    g.sort()\n",
    "    s.sort()\n",
    "    \n",
    "    child_i = cookie_j = 0\n",
    "    while child_i < len(g) and cookie_j < len(s):\n",
    "        if s[cookie_j] >= g[child_i]:\n",
    "            child_i += 1\n",
    "        cookie_j += 1\n",
    "        \n",
    "    return child_i"
   ]
  },
  {
   "cell_type": "code",
   "execution_count": 2,
   "metadata": {},
   "outputs": [
    {
     "name": "stdout",
     "output_type": "stream",
     "text": [
      "2\n"
     ]
    }
   ],
   "source": [
    "g, s = [1, 2, 3], [1, 2]\n",
    "print(solution(g, s))"
   ]
  }
 ],
 "metadata": {
  "kernelspec": {
   "display_name": "Python 3",
   "language": "python",
   "name": "python3"
  },
  "language_info": {
   "codemirror_mode": {
    "name": "ipython",
    "version": 3
   },
   "file_extension": ".py",
   "mimetype": "text/x-python",
   "name": "python",
   "nbconvert_exporter": "python",
   "pygments_lexer": "ipython3",
   "version": "3.8.5"
  }
 },
 "nbformat": 4,
 "nbformat_minor": 4
}
