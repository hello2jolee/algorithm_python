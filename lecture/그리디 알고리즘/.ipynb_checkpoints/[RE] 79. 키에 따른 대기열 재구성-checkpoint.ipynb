{
 "cells": [
  {
   "cell_type": "code",
   "execution_count": 13,
   "metadata": {},
   "outputs": [],
   "source": [
    "import heapq\n",
    "\n",
    "def solution(people):\n",
    "    heap = []\n",
    "    \n",
    "    for person in people:\n",
    "        heapq.heappush(heap, (-person[0], person[1])) # (우선순위, 값)\n",
    "        print(heap)\n",
    "        \n",
    "    result = []\n",
    "    while heap:\n",
    "        person = heapq.heappop(heap)\n",
    "        result.insert(person[1], [-person[0], person[1]])\n",
    "    return result\n",
    "    "
   ]
  },
  {
   "cell_type": "code",
   "execution_count": 14,
   "metadata": {},
   "outputs": [
    {
     "name": "stdout",
     "output_type": "stream",
     "text": [
      "[(-7, 0)]\n",
      "[(-7, 0), (-4, 4)]\n",
      "[(-7, 0), (-4, 4), (-7, 1)]\n",
      "[(-7, 0), (-5, 0), (-7, 1), (-4, 4)]\n",
      "[(-7, 0), (-6, 1), (-7, 1), (-4, 4), (-5, 0)]\n",
      "[(-7, 0), (-6, 1), (-7, 1), (-4, 4), (-5, 0), (-5, 2)]\n",
      "[[5, 0], [7, 0], [5, 2], [6, 1], [4, 4], [7, 1]]\n"
     ]
    }
   ],
   "source": [
    "n = [[7, 0], [4, 4], [7, 1], [5, 0], [6, 1], [5, 2]]\n",
    "print(solution(n))"
   ]
  },
  {
   "cell_type": "code",
   "execution_count": 17,
   "metadata": {},
   "outputs": [
    {
     "name": "stdout",
     "output_type": "stream",
     "text": [
      "None\n",
      "[(-1, 1)]\n",
      "[(-3, 3), (-1, 1)]\n",
      "[(-5, 5), (-1, 1), (-3, 3)]\n",
      "[(-5, 5), (-4, 4), (-3, 3), (-1, 1)]\n",
      "[(-8, 8), (-5, 5), (-3, 3), (-1, 1), (-4, 4)]\n",
      "[(-8, 8), (-5, 5), (-7, 7), (-1, 1), (-4, 4), (-3, 3)]\n"
     ]
    }
   ],
   "source": [
    "import heapq\n",
    "\n",
    "nums = [4, 1, 7, 3, 8, 5]\n",
    "heap = []\n",
    "\n",
    "for num in nums:\n",
    "    heapq.heappush(heap, (-num, num))\n",
    "    print(heap)"
   ]
  }
 ],
 "metadata": {
  "kernelspec": {
   "display_name": "Python 3",
   "language": "python",
   "name": "python3"
  },
  "language_info": {
   "codemirror_mode": {
    "name": "ipython",
    "version": 3
   },
   "file_extension": ".py",
   "mimetype": "text/x-python",
   "name": "python",
   "nbconvert_exporter": "python",
   "pygments_lexer": "ipython3",
   "version": "3.8.5"
  }
 },
 "nbformat": 4,
 "nbformat_minor": 4
}
