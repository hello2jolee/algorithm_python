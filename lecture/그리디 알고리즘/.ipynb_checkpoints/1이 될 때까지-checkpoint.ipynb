{
 "cells": [
  {
   "cell_type": "code",
   "execution_count": 45,
   "metadata": {},
   "outputs": [],
   "source": [
    "def solution(n, k):\n",
    "    result = 0\n",
    "    \n",
    "    while True:\n",
    "        target = (n//k) * k\n",
    "        result += (n-target)\n",
    "        n = target\n",
    "        \n",
    "        if n < k:\n",
    "            break\n",
    "            \n",
    "        result += 1\n",
    "        n //= k\n",
    "    \n",
    "    result += (n-1)\n",
    "    return result"
   ]
  },
  {
   "cell_type": "code",
   "execution_count": 46,
   "metadata": {},
   "outputs": [
    {
     "name": "stdout",
     "output_type": "stream",
     "text": [
      "ANSWER 6\n"
     ]
    }
   ],
   "source": [
    "n, k = 25, 3\n",
    "print(\"ANSWER\" , solution(n, k))"
   ]
  }
 ],
 "metadata": {
  "kernelspec": {
   "display_name": "Python 3",
   "language": "python",
   "name": "python3"
  },
  "language_info": {
   "codemirror_mode": {
    "name": "ipython",
    "version": 3
   },
   "file_extension": ".py",
   "mimetype": "text/x-python",
   "name": "python",
   "nbconvert_exporter": "python",
   "pygments_lexer": "ipython3",
   "version": "3.8.5"
  }
 },
 "nbformat": 4,
 "nbformat_minor": 4
}
