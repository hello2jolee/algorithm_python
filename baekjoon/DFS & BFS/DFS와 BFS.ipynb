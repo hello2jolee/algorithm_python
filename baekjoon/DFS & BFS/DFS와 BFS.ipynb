{
 "cells": [
  {
   "cell_type": "code",
   "execution_count": null,
   "metadata": {},
   "outputs": [],
   "source": [
    "# https://www.acmicpc.net/problem/1260"
   ]
  },
  {
   "cell_type": "code",
   "execution_count": 17,
   "metadata": {},
   "outputs": [],
   "source": [
    "from collections import deque\n",
    "\n",
    "def solution(n, m, v, array):\n",
    "    def dfs(v):\n",
    "        dfs_visited[v] = True\n",
    "        print(v, end = ' ')\n",
    "        \n",
    "        for i in range(1, n + 1):\n",
    "            if dfs_visited[i] == False and graph[v][i] == 1:\n",
    "                dfs(i)\n",
    "            \n",
    "    def bfs(v):\n",
    "        q = deque()\n",
    "        q.append(v)\n",
    "        bfs_visited[v] = True\n",
    "        \n",
    "        while q:\n",
    "            v = q.popleft()\n",
    "            print(v, end = ' ')\n",
    "            for i in range(1, n + 1):\n",
    "                if bfs_visited[i] == False and graph[v][i] == 1:\n",
    "                    q.append(i)\n",
    "                    bfs_visited[i] = True\n",
    "    \n",
    "    graph = [[0] * (n + 1) for _ in range(n + 1)]\n",
    "    dfs_visited = [False] * (n + 1)\n",
    "    bfs_visited = [False] * (n + 1)\n",
    "    \n",
    "    for a, b in array:\n",
    "        graph[a][b] = graph[b][a] = 1\n",
    "        \n",
    "    dfs(v)\n",
    "    print()\n",
    "    bfs(v)"
   ]
  },
  {
   "cell_type": "code",
   "execution_count": 18,
   "metadata": {},
   "outputs": [
    {
     "name": "stdout",
     "output_type": "stream",
     "text": [
      "1 2 4 3 \n",
      "1 2 3 4 "
     ]
    }
   ],
   "source": [
    "n, m, v = 4, 5, 1\n",
    "array = [[1, 2], [1, 3], [1, 4], [2, 4], [3, 4]]\n",
    "\n",
    "solution(n, m, v, array)"
   ]
  }
 ],
 "metadata": {
  "kernelspec": {
   "display_name": "Python 3",
   "language": "python",
   "name": "python3"
  },
  "language_info": {
   "codemirror_mode": {
    "name": "ipython",
    "version": 3
   },
   "file_extension": ".py",
   "mimetype": "text/x-python",
   "name": "python",
   "nbconvert_exporter": "python",
   "pygments_lexer": "ipython3",
   "version": "3.8.5"
  }
 },
 "nbformat": 4,
 "nbformat_minor": 4
}
