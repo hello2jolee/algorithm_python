{
 "cells": [
  {
   "cell_type": "code",
   "execution_count": null,
   "metadata": {},
   "outputs": [],
   "source": [
    "# https://www.acmicpc.net/problem/1541"
   ]
  },
  {
   "cell_type": "code",
   "execution_count": 15,
   "metadata": {},
   "outputs": [],
   "source": [
    "def solution(n):\n",
    "    array = n.split('-')\n",
    "    num = []\n",
    "    \n",
    "    for i in array:\n",
    "        count = 0\n",
    "        str = i.split('+')\n",
    "        for j in str:\n",
    "            count += int(j)\n",
    "            print(\"count: \", count)\n",
    "        num.append(count)\n",
    "        print(\"num: \", num)\n",
    "    n = num[0]\n",
    "    print(\"n\", n)\n",
    "    \n",
    "    for i in range(1, len(num)):\n",
    "        n -= num[i]\n",
    "        \n",
    "    return n"
   ]
  },
  {
   "cell_type": "code",
   "execution_count": 16,
   "metadata": {},
   "outputs": [
    {
     "name": "stdout",
     "output_type": "stream",
     "text": [
      "count:  55\n",
      "num:  [55]\n",
      "count:  50\n",
      "count:  90\n",
      "num:  [55, 90]\n",
      "n 55\n",
      "-35\n"
     ]
    }
   ],
   "source": [
    "n = \"55-50+40\"\n",
    "\n",
    "print(solution(n))"
   ]
  }
 ],
 "metadata": {
  "kernelspec": {
   "display_name": "Python 3",
   "language": "python",
   "name": "python3"
  },
  "language_info": {
   "codemirror_mode": {
    "name": "ipython",
    "version": 3
   },
   "file_extension": ".py",
   "mimetype": "text/x-python",
   "name": "python",
   "nbconvert_exporter": "python",
   "pygments_lexer": "ipython3",
   "version": "3.8.5"
  }
 },
 "nbformat": 4,
 "nbformat_minor": 4
}
