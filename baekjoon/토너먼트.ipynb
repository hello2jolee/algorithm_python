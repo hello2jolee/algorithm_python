{
 "cells": [
  {
   "cell_type": "code",
   "execution_count": 2,
   "metadata": {},
   "outputs": [],
   "source": [
    "def go_up(n):\n",
    "    if n%2 == 0:\n",
    "        return n//2\n",
    "    else:\n",
    "        return n//2 + 1\n",
    "\n",
    "def solution(N, a, b):\n",
    "    round = 1\n",
    "    while True:\n",
    "        if abs(a - b) == 1 and (a // 2 != b // 2):\n",
    "            break\n",
    "        else:\n",
    "            a = go_up(a)\n",
    "            b = go_up(b)\n",
    "            round += 1\n",
    "            \n",
    "    return round"
   ]
  },
  {
   "cell_type": "code",
   "execution_count": 3,
   "metadata": {},
   "outputs": [
    {
     "name": "stdout",
     "output_type": "stream",
     "text": [
      "1\n"
     ]
    }
   ],
   "source": [
    "# https://www.acmicpc.net/problem/1057\n",
    "# https://velog.io/@study-dev347/%EB%B0%B1%EC%A4%80-1057-%ED%86%A0%EB%84%88%EB%A8%BC%ED%8A%B8\n",
    "\n",
    "N = 16\n",
    "a, b = 1, 2\n",
    "print(solution(N, a, b))"
   ]
  }
 ],
 "metadata": {
  "kernelspec": {
   "display_name": "Python 3",
   "language": "python",
   "name": "python3"
  },
  "language_info": {
   "codemirror_mode": {
    "name": "ipython",
    "version": 3
   },
   "file_extension": ".py",
   "mimetype": "text/x-python",
   "name": "python",
   "nbconvert_exporter": "python",
   "pygments_lexer": "ipython3",
   "version": "3.8.5"
  }
 },
 "nbformat": 4,
 "nbformat_minor": 4
}
