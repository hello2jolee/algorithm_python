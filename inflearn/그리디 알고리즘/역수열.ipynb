{
 "cells": [
  {
   "cell_type": "code",
   "execution_count": 1,
   "metadata": {},
   "outputs": [],
   "source": [
    "def solution(n, array):\n",
    "    seq = [0] * n\n",
    "    for i in range(n):\n",
    "        for j in range(n):\n",
    "            if array[i] == 0 and seq[j] == 0:\n",
    "                seq[i] = i + 1\n",
    "                break\n",
    "            elif seq[j] == 0:\n",
    "                array[i] -= 1\n",
    "                \n",
    "    return seq"
   ]
  },
  {
   "cell_type": "code",
   "execution_count": 3,
   "metadata": {},
   "outputs": [
    {
     "name": "stdout",
     "output_type": "stream",
     "text": [
      "[1, 2, 3, 4, 5, 6, 7, 8]\n"
     ]
    }
   ],
   "source": [
    "n = 8\n",
    "array = [5, 3, 4, 0, 2, 1, 1, 0]\n",
    "\n",
    "print(solution(n, array))"
   ]
  }
 ],
 "metadata": {
  "kernelspec": {
   "display_name": "Python 3",
   "language": "python",
   "name": "python3"
  },
  "language_info": {
   "codemirror_mode": {
    "name": "ipython",
    "version": 3
   },
   "file_extension": ".py",
   "mimetype": "text/x-python",
   "name": "python",
   "nbconvert_exporter": "python",
   "pygments_lexer": "ipython3",
   "version": "3.8.5"
  }
 },
 "nbformat": 4,
 "nbformat_minor": 4
}
