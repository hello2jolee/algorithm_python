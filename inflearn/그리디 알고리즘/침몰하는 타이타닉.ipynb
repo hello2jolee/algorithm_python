{
 "cells": [
  {
   "cell_type": "code",
   "execution_count": null,
   "metadata": {},
   "outputs": [],
   "source": [
    "# 풀이 방법\n",
    "\n",
    "# 승객 몸무게를 오름차순으로 정렬\n",
    "# array[0], array[-1] 같이 탈 수 있을지 비교\n",
    "# 탈 수 있으면 pop, 없으면 맨 뒤 사람만 pop → 구명보트 증가"
   ]
  },
  {
   "cell_type": "code",
   "execution_count": 7,
   "metadata": {},
   "outputs": [],
   "source": [
    "from collections import deque\n",
    "\n",
    "def solution(n, limit, p):\n",
    "    p.sort()\n",
    "    p = deque(p)\n",
    "    # 구명보트 개수 count\n",
    "    cnt = 0\n",
    "    \n",
    "    while p:\n",
    "        if len(p) == 1:\n",
    "            cnt += 1\n",
    "            break\n",
    "        if p[0] + p[-1] > limit:\n",
    "            p.pop()\n",
    "            cnt += 1\n",
    "        else:\n",
    "            # 맨 앞자리 빼기\n",
    "            p.popleft()\n",
    "            # 맨 뒷자리 빼기\n",
    "            p.pop()\n",
    "            cnt += 1\n",
    "            \n",
    "    return cnt"
   ]
  },
  {
   "cell_type": "code",
   "execution_count": 8,
   "metadata": {},
   "outputs": [
    {
     "name": "stdout",
     "output_type": "stream",
     "text": [
      "3\n"
     ]
    }
   ],
   "source": [
    "N, M = 5, 140\n",
    "array = [90, 50, 70, 100, 60]\n",
    "\n",
    "print(solution(N, M, array))"
   ]
  }
 ],
 "metadata": {
  "kernelspec": {
   "display_name": "Python 3",
   "language": "python",
   "name": "python3"
  },
  "language_info": {
   "codemirror_mode": {
    "name": "ipython",
    "version": 3
   },
   "file_extension": ".py",
   "mimetype": "text/x-python",
   "name": "python",
   "nbconvert_exporter": "python",
   "pygments_lexer": "ipython3",
   "version": "3.8.5"
  }
 },
 "nbformat": 4,
 "nbformat_minor": 4
}
