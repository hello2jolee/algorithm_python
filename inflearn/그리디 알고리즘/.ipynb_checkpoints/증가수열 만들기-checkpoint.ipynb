{
 "cells": [
  {
   "cell_type": "code",
   "execution_count": 5,
   "metadata": {},
   "outputs": [],
   "source": [
    "def solution(n, array):\n",
    "    lt = 0\n",
    "    rt = n - 1\n",
    "    last = 0\n",
    "    res = \"\"\n",
    "    temp = []\n",
    "    \n",
    "    while lt <= rt:\n",
    "        if array[lt] > last:\n",
    "            temp.append((array[lt], 'L'))\n",
    "        if array[rt] > last:\n",
    "            temp.append((array[rt], 'R'))\n",
    "            \n",
    "        temp.sort()\n",
    "        if len(temp) == 0:\n",
    "            break\n",
    "        else:\n",
    "            res = res + temp[0][1]\n",
    "            last = temp[0][0]\n",
    "            if temp[0][1] == 'L':\n",
    "                lt += 1\n",
    "            else:\n",
    "                rt -= 1\n",
    "        temp.clear()\n",
    "        \n",
    "    return res"
   ]
  },
  {
   "cell_type": "code",
   "execution_count": 6,
   "metadata": {},
   "outputs": [
    {
     "name": "stdout",
     "output_type": "stream",
     "text": [
      "LRLL\n"
     ]
    }
   ],
   "source": [
    "n = 5\n",
    "array = [2, 4, 5, 1, 3]\n",
    "\n",
    "print(solution(n, array))"
   ]
  }
 ],
 "metadata": {
  "kernelspec": {
   "display_name": "Python 3",
   "language": "python",
   "name": "python3"
  },
  "language_info": {
   "codemirror_mode": {
    "name": "ipython",
    "version": 3
   },
   "file_extension": ".py",
   "mimetype": "text/x-python",
   "name": "python",
   "nbconvert_exporter": "python",
   "pygments_lexer": "ipython3",
   "version": "3.8.5"
  }
 },
 "nbformat": 4,
 "nbformat_minor": 4
}
