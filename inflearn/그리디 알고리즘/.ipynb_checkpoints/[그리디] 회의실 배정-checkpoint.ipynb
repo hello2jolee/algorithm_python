{
 "cells": [
  {
   "cell_type": "code",
   "execution_count": null,
   "metadata": {},
   "outputs": [],
   "source": [
    "# 풀이 방법\n",
    "\n",
    "# 정렬 → 차례차례 선택\n",
    "\n",
    "\n",
    "# 1. 회의가 끝나는 시간 기준으로 정렬\n",
    "# ⇒ (2, 3) (1, 4) (3, 5) (4, 6) (5, 7) 순으로 정렬\n",
    "\n",
    "# 2. 그 다음 끝나는 시간이 작은 회의 시작시간과 현재 희의 끝나는 시간 비교"
   ]
  },
  {
   "cell_type": "code",
   "execution_count": 3,
   "metadata": {},
   "outputs": [],
   "source": [
    "def solution(N, array):\n",
    "    # 람다를 사용해서 정렬순위를 변경\n",
    "    array.sort(key = lambda x : (x[1], x[0]))\n",
    "    end_time = 0\n",
    "    count = 0\n",
    "    \n",
    "    for s, e in array:\n",
    "        if s >= end_time:\n",
    "            end_time = e\n",
    "            count += 1\n",
    "    \n",
    "    return count"
   ]
  },
  {
   "cell_type": "code",
   "execution_count": 4,
   "metadata": {},
   "outputs": [
    {
     "name": "stdout",
     "output_type": "stream",
     "text": [
      "3\n"
     ]
    }
   ],
   "source": [
    "N = 5\n",
    "array = [(1, 4), (2, 3), (3, 5), (4, 6), (5, 7)]\n",
    "\n",
    "print(solution(N, array))"
   ]
  }
 ],
 "metadata": {
  "kernelspec": {
   "display_name": "Python 3",
   "language": "python",
   "name": "python3"
  },
  "language_info": {
   "codemirror_mode": {
    "name": "ipython",
    "version": 3
   },
   "file_extension": ".py",
   "mimetype": "text/x-python",
   "name": "python",
   "nbconvert_exporter": "python",
   "pygments_lexer": "ipython3",
   "version": "3.8.5"
  }
 },
 "nbformat": 4,
 "nbformat_minor": 4
}
