{
 "cells": [
  {
   "cell_type": "code",
   "execution_count": 3,
   "metadata": {},
   "outputs": [],
   "source": [
    "def solution(K, N, Line):\n",
    "    def Count(len):\n",
    "        cnt = 0\n",
    "        for x in Line:\n",
    "            cnt += (x // len)\n",
    "        return cnt\n",
    "            \n",
    "    res = 0\n",
    "    largest = max(Line)\n",
    "    \n",
    "    lt = 1\n",
    "    rt = largest\n",
    "    \n",
    "    while lt <= rt:\n",
    "        mid = (lt + rt) // 2\n",
    "        if Count(mid) >= N:\n",
    "            res = mid\n",
    "            lt = mid + 1\n",
    "        else:\n",
    "            rt = mid - 1\n",
    "            \n",
    "    return res    "
   ]
  },
  {
   "cell_type": "code",
   "execution_count": 4,
   "metadata": {},
   "outputs": [
    {
     "name": "stdout",
     "output_type": "stream",
     "text": [
      "200\n"
     ]
    }
   ],
   "source": [
    "K, N = 4, 11\n",
    "array = [802, 743, 457, 539]\n",
    "\n",
    "print(solution(K, N, array))"
   ]
  }
 ],
 "metadata": {
  "kernelspec": {
   "display_name": "Python 3",
   "language": "python",
   "name": "python3"
  },
  "language_info": {
   "codemirror_mode": {
    "name": "ipython",
    "version": 3
   },
   "file_extension": ".py",
   "mimetype": "text/x-python",
   "name": "python",
   "nbconvert_exporter": "python",
   "pygments_lexer": "ipython3",
   "version": "3.8.5"
  }
 },
 "nbformat": 4,
 "nbformat_minor": 4
}
