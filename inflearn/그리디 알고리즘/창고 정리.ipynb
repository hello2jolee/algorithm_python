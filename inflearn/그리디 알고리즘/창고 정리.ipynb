{
 "cells": [
  {
   "cell_type": "code",
   "execution_count": null,
   "metadata": {},
   "outputs": [],
   "source": [
    "# 풀이 방법\n",
    "\n",
    "# 오름차순 sorting을 M번 반복\n",
    "# aswer = 맨 왼쪽 값 - 맨 오른쪽 값"
   ]
  },
  {
   "cell_type": "code",
   "execution_count": 1,
   "metadata": {},
   "outputs": [],
   "source": [
    "def solution(L, array, M):\n",
    "    array.sort()\n",
    "    \n",
    "    for _ in range(M):\n",
    "        array[0] += 1\n",
    "        array[L - 1] -= 1\n",
    "        array.sort()\n",
    "        \n",
    "    return array[L - 1] - array[0]"
   ]
  },
  {
   "cell_type": "code",
   "execution_count": 2,
   "metadata": {},
   "outputs": [
    {
     "name": "stdout",
     "output_type": "stream",
     "text": [
      "20\n"
     ]
    }
   ],
   "source": [
    "L, M = 10, 50\n",
    "array = [69, 42, 68, 76, 40, 87, 14, 65, 76, 81]\n",
    "\n",
    "print(solution(L, array, M))"
   ]
  }
 ],
 "metadata": {
  "kernelspec": {
   "display_name": "Python 3",
   "language": "python",
   "name": "python3"
  },
  "language_info": {
   "codemirror_mode": {
    "name": "ipython",
    "version": 3
   },
   "file_extension": ".py",
   "mimetype": "text/x-python",
   "name": "python",
   "nbconvert_exporter": "python",
   "pygments_lexer": "ipython3",
   "version": "3.8.5"
  }
 },
 "nbformat": 4,
 "nbformat_minor": 4
}
