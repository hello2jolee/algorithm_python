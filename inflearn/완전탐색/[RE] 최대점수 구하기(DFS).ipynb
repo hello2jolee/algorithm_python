{
 "cells": [
  {
   "cell_type": "code",
   "execution_count": 18,
   "metadata": {},
   "outputs": [
    {
     "name": "stdout",
     "output_type": "stream",
     "text": [
      "5 20\n",
      "10 5\n",
      "25 12\n",
      "15 8\n",
      "6 3\n",
      "7 4\n",
      "-21700000\n"
     ]
    }
   ],
   "source": [
    "def DFS(L, sum, time, n, m, answer, array):\n",
    "    if time > m:\n",
    "        return\n",
    "    if L == n:\n",
    "        if sum > answer:\n",
    "            answer = sum\n",
    "        else:\n",
    "            DFS(L + 1, sum + array[L][0], time + array[L][1], n, m, answer, array)\n",
    "            DFS(L + 1, sum, time)\n",
    "\n",
    "def solution(n, m, array):\n",
    "    answer = -21700000\n",
    "     # DFS(레벨, 총점, 시간, 정답)\n",
    "    return DFS(0, 0, 0, n, m, answer, array)\n",
    "\n",
    "print(solution())"
   ]
  },
  {
   "cell_type": "code",
   "execution_count": null,
   "metadata": {},
   "outputs": [],
   "source": [
    "n, m = 5, 20\n",
    "array = [[10, 5], [25, 12], [15, 8], [6, 3], [7, 4]]\n",
    "\n",
    "print(solution(n, m, array))"
   ]
  }
 ],
 "metadata": {
  "kernelspec": {
   "display_name": "Python 3",
   "language": "python",
   "name": "python3"
  },
  "language_info": {
   "codemirror_mode": {
    "name": "ipython",
    "version": 3
   },
   "file_extension": ".py",
   "mimetype": "text/x-python",
   "name": "python",
   "nbconvert_exporter": "python",
   "pygments_lexer": "ipython3",
   "version": "3.8.5"
  }
 },
 "nbformat": 4,
 "nbformat_minor": 4
}
