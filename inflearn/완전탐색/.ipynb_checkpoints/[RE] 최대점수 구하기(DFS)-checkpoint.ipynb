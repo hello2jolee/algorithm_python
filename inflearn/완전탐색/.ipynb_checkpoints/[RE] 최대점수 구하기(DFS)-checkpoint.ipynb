{
 "cells": [
  {
   "cell_type": "code",
   "execution_count": 3,
   "metadata": {},
   "outputs": [
    {
     "name": "stdout",
     "output_type": "stream",
     "text": [
      "5 20\n",
      "10 5\n",
      "25 12\n",
      "15 8\n",
      "6 3\n",
      "7 4\n",
      "-2147000000\n"
     ]
    }
   ],
   "source": [
    "def DFS(L, sum, time, n, m, res, pv, pt):\n",
    "    if time > m:\n",
    "        return\n",
    "    if L == n:\n",
    "        if sum > res:\n",
    "            res = sum\n",
    "        else:\n",
    "            DFS(L + 1, sum + pv[L], time + pt[L], n, m, res, pv, pt)\n",
    "            DFS(L + 1, sum, time, n, m, res, pv, pt)\n",
    "            \n",
    "    return res\n",
    "\n",
    "def solution():\n",
    "    # n : 문제의 개수 / m : 제한 시간\n",
    "    n, m = map(int, input().split())\n",
    "    # 문제 점수\n",
    "    pv = list()\n",
    "    # 문제 푸는데 걸리는 시간\n",
    "    pt = list()\n",
    "    \n",
    "    for i in range(n):\n",
    "        a, b = map(int, input().split())\n",
    "        pv.append(a)\n",
    "        pt.append(b)\n",
    "        \n",
    "    res = -2147000000\n",
    "    # DFS(레벨, 총점, 시간)\n",
    "    return DFS(0, 0, 0, n, m, res, pv, pt)\n",
    "\n",
    "print(solution())"
   ]
  }
 ],
 "metadata": {
  "kernelspec": {
   "display_name": "Python 3",
   "language": "python",
   "name": "python3"
  },
  "language_info": {
   "codemirror_mode": {
    "name": "ipython",
    "version": 3
   },
   "file_extension": ".py",
   "mimetype": "text/x-python",
   "name": "python",
   "nbconvert_exporter": "python",
   "pygments_lexer": "ipython3",
   "version": "3.8.5"
  }
 },
 "nbformat": 4,
 "nbformat_minor": 4
}
