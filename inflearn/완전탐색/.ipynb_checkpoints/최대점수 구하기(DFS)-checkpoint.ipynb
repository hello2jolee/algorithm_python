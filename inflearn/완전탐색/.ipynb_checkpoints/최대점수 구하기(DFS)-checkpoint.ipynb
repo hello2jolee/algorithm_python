{
 "cells": [
  {
   "cell_type": "code",
   "execution_count": null,
   "metadata": {},
   "outputs": [],
   "source": [
    "# https://velog.io/@myway00/055-%EC%B5%9C%EB%8C%80%EC%A0%90%EC%88%98-%EA%B5%AC%ED%95%98%EA%B8%B0DFS"
   ]
  },
  {
   "cell_type": "code",
   "execution_count": 22,
   "metadata": {},
   "outputs": [
    {
     "name": "stdout",
     "output_type": "stream",
     "text": [
      "5 20\n",
      "10 5\n",
      "25 12\n",
      "15 8\n",
      "6 3\n",
      "7 4\n",
      "41\n"
     ]
    }
   ],
   "source": [
    "# 조합을 이용한 풀이\n",
    "\n",
    "global grade\n",
    "grade = 0\n",
    "\n",
    "def solution():\n",
    "    def dfs(s, tot, time):\n",
    "        global grade\n",
    "        if time > m:\n",
    "            return\n",
    "        if tot > grade:\n",
    "            grade = tot\n",
    "        for i in range(s, n):\n",
    "            dfs(i+1, tot+ques[i][0], time+ques[i][1])\n",
    "\n",
    "    n, m = map(int, input().split())\n",
    "    ques = []\n",
    "    for _ in range(n):\n",
    "        a, b = map(int, input().split())\n",
    "        ques.append((a, b))\n",
    "    dfs(0, 0, 0)\n",
    "    print(grade)\n",
    "    \n",
    "solution()"
   ]
  },
  {
   "cell_type": "code",
   "execution_count": 23,
   "metadata": {},
   "outputs": [
    {
     "name": "stdout",
     "output_type": "stream",
     "text": [
      "5 20\n",
      "10 5\n",
      "25 12\n",
      "15 8\n",
      "6 3\n",
      "7 4\n",
      "41\n"
     ]
    }
   ],
   "source": [
    "global maxx\n",
    "maxx = -1\n",
    "\n",
    "def solution():\n",
    "    def dfs(x, s, t):\n",
    "        global maxx\n",
    "        if x == n:\n",
    "            if t <= 20:\n",
    "                if x > maxx:\n",
    "                    maxx = s\n",
    "                    \n",
    "        else:\n",
    "            dfs(x + 1, s + tmp[x][0], t + tmp[x][1])\n",
    "            dfs(x + 1, s, t)\n",
    "            \n",
    "    tmp = []\n",
    "    n, m = map(int, input().split())\n",
    "    for i in range(n):\n",
    "        a, b = map(int, input().split())\n",
    "        tmp.append((a, b))\n",
    "    \n",
    "    # dfs(level, 점수, 시간)\n",
    "    dfs(0, 0, 0)\n",
    "    print(maxx)\n",
    "    \n",
    "solution()"
   ]
  }
 ],
 "metadata": {
  "kernelspec": {
   "display_name": "Python 3",
   "language": "python",
   "name": "python3"
  },
  "language_info": {
   "codemirror_mode": {
    "name": "ipython",
    "version": 3
   },
   "file_extension": ".py",
   "mimetype": "text/x-python",
   "name": "python",
   "nbconvert_exporter": "python",
   "pygments_lexer": "ipython3",
   "version": "3.8.5"
  }
 },
 "nbformat": 4,
 "nbformat_minor": 4
}
