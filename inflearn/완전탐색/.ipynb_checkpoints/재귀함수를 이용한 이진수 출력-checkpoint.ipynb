{
 "cells": [
  {
   "cell_type": "code",
   "execution_count": 15,
   "metadata": {},
   "outputs": [],
   "source": [
    "# 깊이 우선 탐색\n",
    "def DFS(x):\n",
    "    if x == 0:\n",
    "        return\n",
    "    \n",
    "    else:\n",
    "        DFS(x // 2)\n",
    "        print(x%2, end = '')\n",
    "\n",
    "def solution(N):\n",
    "    DFS(N)"
   ]
  },
  {
   "cell_type": "code",
   "execution_count": 14,
   "metadata": {},
   "outputs": [
    {
     "name": "stdout",
     "output_type": "stream",
     "text": [
      "1011None\n"
     ]
    }
   ],
   "source": [
    "N = 11\n",
    "\n",
    "print(solution(N))"
   ]
  }
 ],
 "metadata": {
  "kernelspec": {
   "display_name": "Python 3",
   "language": "python",
   "name": "python3"
  },
  "language_info": {
   "codemirror_mode": {
    "name": "ipython",
    "version": 3
   },
   "file_extension": ".py",
   "mimetype": "text/x-python",
   "name": "python",
   "nbconvert_exporter": "python",
   "pygments_lexer": "ipython3",
   "version": "3.8.5"
  }
 },
 "nbformat": 4,
 "nbformat_minor": 4
}
