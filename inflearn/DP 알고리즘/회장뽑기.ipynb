{
 "cells": [
  {
   "cell_type": "code",
   "execution_count": 25,
   "metadata": {},
   "outputs": [],
   "source": [
    "def solution(N, array):\n",
    "    # 1. 플로이드 와샬 그래프 구현\n",
    "    dis = [[100] * (N + 1) for _ in range(N + 1)]\n",
    "    for i in range(1, N + 1):\n",
    "        dis[i][i] = 0\n",
    "        \n",
    "    for a, b in array:\n",
    "        # 무방향 그래프이기 때문에 양방향 초기화\n",
    "        dis[a][b] = 1\n",
    "        dis[b][a] = 1\n",
    "        \n",
    "    for k in range(1, N + 1):\n",
    "        for i in range(1, N + 1):\n",
    "            for j in range(1, N + 1):\n",
    "                dis[i][j] = min(dis[i][j], dis[i][k] + dis[k][j])\n",
    "                \n",
    "                \n",
    "    # 2. 각 회원의 정보 배열에 저장\n",
    "    res = [0] * (N + 1)\n",
    "    score = 100;\n",
    "    for i in range(1, N + 1):\n",
    "        for j in range(1, N + 1):\n",
    "            res[i] = max(res[i], dis[i][j])\n",
    "        score = min(score, res[i])\n",
    "    \n",
    "    # 회장 후보의 회원번호\n",
    "    out = []\n",
    "    for i in range(1, N + 1):\n",
    "        if res[i] == score:\n",
    "            out.append(i)\n",
    "            \n",
    "    print(\"%d %d\" %(score, len(out)))\n",
    "    print(out)"
   ]
  },
  {
   "cell_type": "code",
   "execution_count": 26,
   "metadata": {},
   "outputs": [
    {
     "name": "stdout",
     "output_type": "stream",
     "text": [
      "2 3\n",
      "[2, 3, 4]\n"
     ]
    }
   ],
   "source": [
    "N = 5\n",
    "array = ((1, 2), (2, 3), (3, 4), (4, 5), (2, 4), (5, 3))\n",
    "\n",
    "solution(N, array)"
   ]
  }
 ],
 "metadata": {
  "kernelspec": {
   "display_name": "Python 3",
   "language": "python",
   "name": "python3"
  },
  "language_info": {
   "codemirror_mode": {
    "name": "ipython",
    "version": 3
   },
   "file_extension": ".py",
   "mimetype": "text/x-python",
   "name": "python",
   "nbconvert_exporter": "python",
   "pygments_lexer": "ipython3",
   "version": "3.8.5"
  }
 },
 "nbformat": 4,
 "nbformat_minor": 4
}
