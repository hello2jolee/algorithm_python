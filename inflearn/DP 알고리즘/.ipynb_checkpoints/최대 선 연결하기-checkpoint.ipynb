{
 "cells": [
  {
   "cell_type": "code",
   "execution_count": 3,
   "metadata": {},
   "outputs": [],
   "source": [
    "def solution(N, array):\n",
    "    array.insert(0, 0)\n",
    "    dy = [0] * (N + 1)\n",
    "    dy[1] = 1\n",
    "    res = 0\n",
    "    \n",
    "    for i in range(2, N + 1):\n",
    "        max = 0\n",
    "        for j in range(i - 1, 0, -1):\n",
    "            if array[j] < array[i] and dy[j] > max:\n",
    "                max = dy[j]\n",
    "        dy[i] = max + 1\n",
    "        if dy[i] > res:\n",
    "            res = dy[i]\n",
    "            \n",
    "    return res"
   ]
  },
  {
   "cell_type": "code",
   "execution_count": 4,
   "metadata": {},
   "outputs": [
    {
     "name": "stdout",
     "output_type": "stream",
     "text": [
      "6\n"
     ]
    }
   ],
   "source": [
    "N = 10\n",
    "array = [4, 1, 2, 3, 9, 7, 5, 6, 10, 8]\n",
    "\n",
    "print(solution(N, array))"
   ]
  }
 ],
 "metadata": {
  "kernelspec": {
   "display_name": "Python 3",
   "language": "python",
   "name": "python3"
  },
  "language_info": {
   "codemirror_mode": {
    "name": "ipython",
    "version": 3
   },
   "file_extension": ".py",
   "mimetype": "text/x-python",
   "name": "python",
   "nbconvert_exporter": "python",
   "pygments_lexer": "ipython3",
   "version": "3.8.5"
  }
 },
 "nbformat": 4,
 "nbformat_minor": 4
}
