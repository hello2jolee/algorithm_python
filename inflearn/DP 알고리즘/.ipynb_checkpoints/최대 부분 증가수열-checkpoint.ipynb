{
 "cells": [
  {
   "cell_type": "code",
   "execution_count": null,
   "metadata": {},
   "outputs": [],
   "source": [
    "# 풀이 방법\n",
    "\n",
    "# 배열 초기화\n",
    "# arr[1] = 5, arr[2] = 3, arr[3] = 7 ...\n",
    "\n",
    "# 0. arr[1], arr[2] = 5, 3\n",
    "\n",
    "# 1. arr[3] = 7의 경우 \n",
    "# 1-1. arr[2]를 마지막으로 해서 만들 수 있는 증가수열 찾기 → 3 7\n",
    "# 1-2. arr[1]를 마지막으로 해서 만들 수 있는 증가수열 찾기 → 5 7\n",
    "# 총 2가지\n",
    "\n",
    "# 2. arr[4] = 8의 경우\n",
    "# 2-1. arr[3]를 마지막으로 해서 만들 수 있는 증가수열 찾기 → 3 7 8, 5 7 8\n",
    "# 2-2. arr[2]를 마지막으로 해서 만들 수 있는 증가수열 찾기 → 3 8\n",
    "# 2-3. arr[1]를 마지막으로 해서 만들 수 있는 증가수열 찾기 → 5 8\n",
    "# 총 4가지\n",
    "\n",
    "# 3. arr[5] = 6의 경우\n",
    "# 3-1. arr[4], arr[3]은 arr[5]보다 크기 때문에 X\n",
    "# 3-2. arr[2]를 마지막으로 해서 만들 수 있는 증가수열 찾기 → 3 6\n",
    "# 총 1가지\n",
    "\n",
    "\n",
    "# dy[n] ⇒ 증가수열의 마지막 항일 때 가장 긴 수열의 길이를 적용\n",
    "# ex. dy[1] = 1, dy[2] = 1, dy[3] = 2, dy[4] = 3, dy[5] = 1"
   ]
  },
  {
   "cell_type": "code",
   "execution_count": 8,
   "metadata": {},
   "outputs": [],
   "source": [
    "def solution(N, arr):\n",
    "    # arr 배열이 1부터 시작할 수 있도록 하나 씩 오른쪽으로 미뤘음.\n",
    "    arr.insert(0, 0)\n",
    "    dy = [0] * (N + 1)\n",
    "    dy[1] = 1\n",
    "    \n",
    "    res = 0\n",
    "    for i in range(2, N + 1):\n",
    "        max = 0\n",
    "        for j in range(i-1, 0, -1):\n",
    "            # dy[j] : arr[j]번째에 있는 값이 마지막 항의 증가수열 최대 길이\n",
    "            if arr[j] < arr[i] and dy[j] > max:\n",
    "                max = dy[j]\n",
    "        dy[i] = max + 1\n",
    "        if dy[i] > res:\n",
    "            res = dy[i]\n",
    "            \n",
    "    return res"
   ]
  },
  {
   "cell_type": "code",
   "execution_count": 9,
   "metadata": {},
   "outputs": [
    {
     "name": "stdout",
     "output_type": "stream",
     "text": [
      "4\n"
     ]
    }
   ],
   "source": [
    "N = 8\n",
    "temp_arr = [5, 3, 7, 8, 6, 2, 9, 4]\n",
    "\n",
    "print(solution(N, temp_arr))"
   ]
  }
 ],
 "metadata": {
  "kernelspec": {
   "display_name": "Python 3",
   "language": "python",
   "name": "python3"
  },
  "language_info": {
   "codemirror_mode": {
    "name": "ipython",
    "version": 3
   },
   "file_extension": ".py",
   "mimetype": "text/x-python",
   "name": "python",
   "nbconvert_exporter": "python",
   "pygments_lexer": "ipython3",
   "version": "3.8.5"
  }
 },
 "nbformat": 4,
 "nbformat_minor": 4
}
