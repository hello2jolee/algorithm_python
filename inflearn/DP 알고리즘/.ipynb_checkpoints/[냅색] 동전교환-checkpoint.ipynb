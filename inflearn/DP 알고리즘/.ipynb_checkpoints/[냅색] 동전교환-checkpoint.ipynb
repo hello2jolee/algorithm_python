{
 "cells": [
  {
   "cell_type": "code",
   "execution_count": 3,
   "metadata": {},
   "outputs": [],
   "source": [
    "def solution(n, coin, m):\n",
    "    dy = [1000] * (m + 1)\n",
    "    dy[0] = 0\n",
    "    for i in range(n):\n",
    "        for j in range(coin[i], m + 1):\n",
    "            dy[j] = min(dy[j], dy[j - coin[i]] + 1)\n",
    "            \n",
    "    return dy[m]"
   ]
  },
  {
   "cell_type": "code",
   "execution_count": 4,
   "metadata": {},
   "outputs": [
    {
     "name": "stdout",
     "output_type": "stream",
     "text": [
      "3\n"
     ]
    }
   ],
   "source": [
    "# n : 동전의 종류 개수\n",
    "n = 3\n",
    "# array : n개의 동전의 종류\n",
    "array = [1, 2, 5]\n",
    "# m : 거슬러 줄 금액\n",
    "m = 15\n",
    "\n",
    "print(solution(n, array, m))"
   ]
  }
 ],
 "metadata": {
  "kernelspec": {
   "display_name": "Python 3",
   "language": "python",
   "name": "python3"
  },
  "language_info": {
   "codemirror_mode": {
    "name": "ipython",
    "version": 3
   },
   "file_extension": ".py",
   "mimetype": "text/x-python",
   "name": "python",
   "nbconvert_exporter": "python",
   "pygments_lexer": "ipython3",
   "version": "3.8.5"
  }
 },
 "nbformat": 4,
 "nbformat_minor": 4
}
