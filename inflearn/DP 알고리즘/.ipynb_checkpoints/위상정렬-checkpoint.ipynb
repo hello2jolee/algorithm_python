{
 "cells": [
  {
   "cell_type": "code",
   "execution_count": 2,
   "metadata": {},
   "outputs": [],
   "source": [
    "from collections import deque\n",
    "\n",
    "def solution(N, M, array):\n",
    "    # 데이터 저장용 그래프\n",
    "    graph = [[0] * (N + 1) for _ in range(N + 1)]\n",
    "    # 진입차수 계산용도\n",
    "    degree = [0] * (N + 1)\n",
    "    dQ = deque()\n",
    "    \n",
    "    for a, b in array:\n",
    "        graph[a][b] = 1\n",
    "        degree[b] += 1\n",
    "        \n",
    "    for i in range(1, N + 1):\n",
    "        if degree[i] == 0:\n",
    "            dQ.append(i)"
   ]
  },
  {
   "cell_type": "code",
   "execution_count": 3,
   "metadata": {},
   "outputs": [],
   "source": [
    "# N : 전체 일의 개수, M : 일의 순서 정보의 개수\n",
    "N, M = 6, 6\n",
    "array = ((1, 4), (5, 4), (4, 3), (2, 5), (2, 3), (6, 2))\n",
    "\n",
    "solution(N, M, array)"
   ]
  }
 ],
 "metadata": {
  "kernelspec": {
   "display_name": "Python 3",
   "language": "python",
   "name": "python3"
  },
  "language_info": {
   "codemirror_mode": {
    "name": "ipython",
    "version": 3
   },
   "file_extension": ".py",
   "mimetype": "text/x-python",
   "name": "python",
   "nbconvert_exporter": "python",
   "pygments_lexer": "ipython3",
   "version": "3.8.5"
  }
 },
 "nbformat": 4,
 "nbformat_minor": 4
}
