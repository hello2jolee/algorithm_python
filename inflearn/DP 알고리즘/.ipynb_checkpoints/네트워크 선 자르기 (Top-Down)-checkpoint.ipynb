{
 "cells": [
  {
   "cell_type": "code",
   "execution_count": null,
   "metadata": {},
   "outputs": [],
   "source": [
    "# 재귀함수 (DFS), 메모이제이션\n",
    "\n",
    "# 1. 1차원 리스트를 0으로 초기화\n",
    "# 2. DFS(1)에 리턴된 값 리턴 후 리스트 저장\n",
    "# 3. DFS(2)에 리턴된 값 리턴 후 리스트 저장\n",
    "# 4. DFS(4)의 경우 DFS(3) + dy[2]값을 리턴하면 됨"
   ]
  },
  {
   "cell_type": "code",
   "execution_count": 2,
   "metadata": {},
   "outputs": [],
   "source": [
    "def solution():\n",
    "    def DFS(len):\n",
    "        # dy[len] 값이 있으면 DFS 돌지 말고 값을 리턴해라(가지 만들지 말고!!)\n",
    "        if dy[len] > 0:\n",
    "            return dy[len]\n",
    "        \n",
    "        # 종착점\n",
    "        if len == 1 or len == 2:\n",
    "            return len\n",
    "        \n",
    "        else:\n",
    "            # 메모이제이션에 입력\n",
    "            dy[len] = DFS(len - 1) + DFS(len - 2)\n",
    "            return dy[len]\n",
    "        \n",
    "    n = int(input())\n",
    "    # 메모이제이션 때문에 만든 리스트 테이블\n",
    "    dy = [0] * (n + 1)\n",
    "    \n",
    "    # DFS(n) : n미터의 전선을 자르는 방법의 수를 리턴\n",
    "    print(DFS(n))"
   ]
  },
  {
   "cell_type": "code",
   "execution_count": 3,
   "metadata": {},
   "outputs": [
    {
     "name": "stdout",
     "output_type": "stream",
     "text": [
      "7\n",
      "21\n"
     ]
    }
   ],
   "source": [
    "solution()"
   ]
  }
 ],
 "metadata": {
  "kernelspec": {
   "display_name": "Python 3",
   "language": "python",
   "name": "python3"
  },
  "language_info": {
   "codemirror_mode": {
    "name": "ipython",
    "version": 3
   },
   "file_extension": ".py",
   "mimetype": "text/x-python",
   "name": "python",
   "nbconvert_exporter": "python",
   "pygments_lexer": "ipython3",
   "version": "3.8.5"
  }
 },
 "nbformat": 4,
 "nbformat_minor": 4
}
