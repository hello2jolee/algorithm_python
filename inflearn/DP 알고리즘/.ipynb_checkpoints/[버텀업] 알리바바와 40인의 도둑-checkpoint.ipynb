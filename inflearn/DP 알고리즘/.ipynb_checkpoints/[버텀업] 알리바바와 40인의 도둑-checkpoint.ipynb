{
 "cells": [
  {
   "cell_type": "code",
   "execution_count": 1,
   "metadata": {},
   "outputs": [],
   "source": [
    "def solution(N, arr):\n",
    "    dy = [[0] * N for _ in range(N)]\n",
    "    \n",
    "    dy[0][0] = arr[0][0]\n",
    "    for i in range(N):\n",
    "        dy[0][i] = dy[0][i-1] + arr[0][i]\n",
    "        dy[i][0] = dy[i-1][0] + arr[i][0]\n",
    "        \n",
    "    for i in range(1, N):\n",
    "        for j in range(1, N):\n",
    "            dy[i][j] = min(dy[i][j-1], dy[i-1][j]) + arr[i][j]\n",
    "    \n",
    "    return dy[N-1][N-1]"
   ]
  },
  {
   "cell_type": "code",
   "execution_count": 2,
   "metadata": {},
   "outputs": [
    {
     "name": "stdout",
     "output_type": "stream",
     "text": [
      "25\n"
     ]
    }
   ],
   "source": [
    "N = 5\n",
    "array = [[3, 7, 2, 1, 9], [5, 8, 3, 9, 2], [5, 3, 1, 2, 3], [5, 4, 3, 2, 1], [1, 7, 5, 2, 4]]\n",
    "\n",
    "print(solution(N, array))"
   ]
  }
 ],
 "metadata": {
  "kernelspec": {
   "display_name": "Python 3",
   "language": "python",
   "name": "python3"
  },
  "language_info": {
   "codemirror_mode": {
    "name": "ipython",
    "version": 3
   },
   "file_extension": ".py",
   "mimetype": "text/x-python",
   "name": "python",
   "nbconvert_exporter": "python",
   "pygments_lexer": "ipython3",
   "version": "3.8.5"
  }
 },
 "nbformat": 4,
 "nbformat_minor": 4
}
