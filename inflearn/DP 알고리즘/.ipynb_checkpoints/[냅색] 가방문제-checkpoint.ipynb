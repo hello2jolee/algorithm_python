{
 "cells": [
  {
   "cell_type": "code",
   "execution_count": 1,
   "metadata": {},
   "outputs": [],
   "source": [
    "def solution(n, m, array):\n",
    "    dy = [0] * (m + 1)\n",
    "    for i in range(n):\n",
    "        for j in range(array[i][0], m + 1):\n",
    "            dy[j] = max(dy[j], dy[j - array[i][0]] + array[i][1])\n",
    "            \n",
    "    return(dy[m])\n",
    "        "
   ]
  },
  {
   "cell_type": "code",
   "execution_count": 2,
   "metadata": {},
   "outputs": [
    {
     "name": "stdout",
     "output_type": "stream",
     "text": [
      "28\n"
     ]
    }
   ],
   "source": [
    "# n : 보석의 종류 / m : 가방에 담길 수 있는 최대 무게\n",
    "n, m = 4, 11\n",
    "# [보석, 가치]\n",
    "array = [[5, 12], [3, 8], [6, 14], [4, 8]]\n",
    "print(solution(n, m, array))"
   ]
  }
 ],
 "metadata": {
  "kernelspec": {
   "display_name": "Python 3",
   "language": "python",
   "name": "python3"
  },
  "language_info": {
   "codemirror_mode": {
    "name": "ipython",
    "version": 3
   },
   "file_extension": ".py",
   "mimetype": "text/x-python",
   "name": "python",
   "nbconvert_exporter": "python",
   "pygments_lexer": "ipython3",
   "version": "3.8.5"
  }
 },
 "nbformat": 4,
 "nbformat_minor": 4
}
