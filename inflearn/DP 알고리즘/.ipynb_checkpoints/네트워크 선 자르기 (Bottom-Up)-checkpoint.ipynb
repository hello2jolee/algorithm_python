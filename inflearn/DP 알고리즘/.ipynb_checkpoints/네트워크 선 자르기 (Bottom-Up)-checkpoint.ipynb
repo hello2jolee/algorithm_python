{
 "cells": [
  {
   "cell_type": "code",
   "execution_count": null,
   "metadata": {},
   "outputs": [],
   "source": [
    "# 풀이 방법\n",
    "\n",
    "# 1. 직관적인 부분부터 해결\n",
    "#    ㄴ 크기가 1m인 케이스 → 하나의 케이스만 가능하니까 dy[1] = 1\n",
    "#    ㄴ 크기가 2m인 케이스 → 하나의 케이스만 가능하니까 dy[2] = 2\n",
    "# 2. dy[3] 부터는 점화식으로 해결\n",
    "#    ㄴ 맨 마지막 토막이 1m 인 경우 ⇒ 앞에 2m 구하는 케이스는 1.에 의하면 2가지 존재\n",
    "#    ㄴ 맨 마지막 토막이 2m 인 경우 \n",
    "#    ㄴ dy[3] = 3(dy[1] + dy[2])\n",
    "#    ㄴ dy[4] = 5(dy[2] + dy[3])\n",
    "\n",
    "# 3. 결론!! f(n) = f(n-2) + f(n-1)"
   ]
  },
  {
   "cell_type": "code",
   "execution_count": 1,
   "metadata": {},
   "outputs": [],
   "source": [
    "def solution():\n",
    "    n = int(input())\n",
    "    # 1차원 리스트 생성(1번부터 사용하기 위해 + 1\n",
    "    dy = [0] * (n + 1)\n",
    "    \n",
    "    # 직관적인 부분은 초기화\n",
    "    dy[1] = 1\n",
    "    dy[2] = 2\n",
    "    \n",
    "    # 점화식\n",
    "    for i in range(3, n+1):\n",
    "        dy[i] = dy[i-1] + dy[i-2]\n",
    "        \n",
    "    print(dy[n])"
   ]
  },
  {
   "cell_type": "code",
   "execution_count": 2,
   "metadata": {},
   "outputs": [
    {
     "name": "stdout",
     "output_type": "stream",
     "text": [
      "7\n",
      "21\n"
     ]
    }
   ],
   "source": [
    "solution()"
   ]
  }
 ],
 "metadata": {
  "kernelspec": {
   "display_name": "Python 3",
   "language": "python",
   "name": "python3"
  },
  "language_info": {
   "codemirror_mode": {
    "name": "ipython",
    "version": 3
   },
   "file_extension": ".py",
   "mimetype": "text/x-python",
   "name": "python",
   "nbconvert_exporter": "python",
   "pygments_lexer": "ipython3",
   "version": "3.8.5"
  }
 },
 "nbformat": 4,
 "nbformat_minor": 4
}
