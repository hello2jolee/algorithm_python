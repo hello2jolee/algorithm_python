{
 "cells": [
  {
   "cell_type": "code",
   "execution_count": 2,
   "metadata": {},
   "outputs": [],
   "source": [
    "def solution(board):\n",
    "    def DFS(x, y):\n",
    "        ch[x][y] = 1\n",
    "        if x == 0:\n",
    "            print(y)\n",
    "        else:\n",
    "            if y - 1 >= 0 and board[x][y - 1] == 1 and ch[x][y - 1] == 0:\n",
    "                DFS(x, y - 1)\n",
    "            elif y + 1 < 10 and board[x][y + 1] == 1 and ch[x][y + 1] == 0:\n",
    "                DFS(x, y + 1)\n",
    "            else:\n",
    "                DFS(x - 1, y)\n",
    "                \n",
    "    ch = [[0] * 10 for _ in range(10)]\n",
    "    for y in range(10):\n",
    "        if board[9][y] == 2:\n",
    "            DFS(9, y)"
   ]
  },
  {
   "cell_type": "code",
   "execution_count": 3,
   "metadata": {},
   "outputs": [
    {
     "name": "stdout",
     "output_type": "stream",
     "text": [
      "7\n"
     ]
    }
   ],
   "source": [
    "array = ((1, 0, 1, 0, 0, 1, 0, 1, 0, 1), (1, 0, 1, 1, 1, 1, 0, 1, 0, 1), (1, 0, 1, 0, 0, 1, 0, 1, 0, 1), (1, 0, 1, 0, 0, 1, 0, 1, 1,1), (1, 0, 1, 0, 0, 1, 0, 1, 0, 1), (1, 0, 1, 1, 1, 1, 0, 1, 0, 1), (1, 0, 1, 0, 0, 1, 0, 1, 1, 1), (1, 1, 1, 0, 0, 1, 0, 1, 0, 1), (1, 0, 1, 0, 0, 1, 1, 1, 0, 1), (1, 0, 1, 0, 0, 2, 0, 1, 0, 1))\n",
    "\n",
    "solution(array)"
   ]
  }
 ],
 "metadata": {
  "kernelspec": {
   "display_name": "Python 3",
   "language": "python",
   "name": "python3"
  },
  "language_info": {
   "codemirror_mode": {
    "name": "ipython",
    "version": 3
   },
   "file_extension": ".py",
   "mimetype": "text/x-python",
   "name": "python",
   "nbconvert_exporter": "python",
   "pygments_lexer": "ipython3",
   "version": "3.8.5"
  }
 },
 "nbformat": 4,
 "nbformat_minor": 4
}
