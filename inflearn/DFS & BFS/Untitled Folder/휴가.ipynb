{
 "cells": [
  {
   "cell_type": "code",
   "execution_count": 8,
   "metadata": {},
   "outputs": [],
   "source": [
    "global res\n",
    "res = -2147000000\n",
    "\n",
    "def solution(N, array):\n",
    "    def DFS(L, sum):\n",
    "        global res\n",
    "        if L == N + 1:\n",
    "            if sum > res:\n",
    "                res = sum\n",
    "        else:\n",
    "            if L + T[L] <= N + 1:\n",
    "                DFS(L + T[L], sum + P[L])\n",
    "            DFS(L + 1, sum)\n",
    "            \n",
    "    T = list()\n",
    "    P = list()\n",
    "    \n",
    "    for a, b in array:\n",
    "        T.append(a)\n",
    "        P.append(b)\n",
    "        \n",
    "    T.insert(0, 0)\n",
    "    P.insert(0, 0)\n",
    "    DFS(1, 0)\n",
    "    \n",
    "    return res"
   ]
  },
  {
   "cell_type": "code",
   "execution_count": 9,
   "metadata": {},
   "outputs": [
    {
     "name": "stdout",
     "output_type": "stream",
     "text": [
      "60\n"
     ]
    }
   ],
   "source": [
    "N = 7\n",
    "# 상담을 완료하는데 걸리는 날수 : T, 상담을 했을 때 받을 수 있는 금액 : P\n",
    "array = ((4, 20), (2, 10), (3, 15), (3, 20), (2, 30), (2, 20), (1, 10))\n",
    "\n",
    "print(solution(N, array))"
   ]
  }
 ],
 "metadata": {
  "kernelspec": {
   "display_name": "Python 3",
   "language": "python",
   "name": "python3"
  },
  "language_info": {
   "codemirror_mode": {
    "name": "ipython",
    "version": 3
   },
   "file_extension": ".py",
   "mimetype": "text/x-python",
   "name": "python",
   "nbconvert_exporter": "python",
   "pygments_lexer": "ipython3",
   "version": "3.8.5"
  }
 },
 "nbformat": 4,
 "nbformat_minor": 4
}
