{
 "cells": [
  {
   "cell_type": "code",
   "execution_count": 19,
   "metadata": {},
   "outputs": [],
   "source": [
    "from collections import deque\n",
    "\n",
    "def solution(N, M, board):\n",
    "    dx = [-1, 0, 1, 0]\n",
    "    dy = [0, 1, 0, -1]\n",
    "    dq = deque()\n",
    "    dis = [[0] * N for _ in range(M)]\n",
    "        \n",
    "    for i in range(M):\n",
    "        for j in range(N):\n",
    "            if board[i][j] == 1:\n",
    "                dq.append((i, j))\n",
    "    \n",
    "    while dq:\n",
    "        temp = dq.popleft()\n",
    "        for i in range(4):\n",
    "            xx = temp[0] + dx[i]\n",
    "            yy = temp[1] + dy[i]\n",
    "            if 0 <= xx < M and 0 <= yy < N and board[xx][yy] == 0:\n",
    "                board[xx][yy] = 1\n",
    "                dis[xx][yy] = dis[temp[0]][temp[1]] + 1\n",
    "                dq.append((xx, yy))\n",
    "                \n",
    "    flag = 1\n",
    "    for i in range(M):\n",
    "        for j in range(N):\n",
    "            if board[i][j] == 0:\n",
    "                flag = 0\n",
    "                \n",
    "    result = 0\n",
    "    if flag == 1:\n",
    "        for i in range(M):\n",
    "            for j in range(N):\n",
    "                if dis[i][j] > result:\n",
    "                    result = dis[i][j]\n",
    "        return result\n",
    "    else:\n",
    "        return -1"
   ]
  },
  {
   "cell_type": "code",
   "execution_count": 21,
   "metadata": {},
   "outputs": [
    {
     "name": "stdout",
     "output_type": "stream",
     "text": [
      "5\n"
     ]
    }
   ],
   "source": [
    "M, N = 6, 4\n",
    "array = [[0, 0, 0, 0, 0, 0], [0, 0, -1, 0, 0, 0], [1, 0, -1, 0, -1, 0], [0, 0, 0, 0, -1, 1]]\n",
    "\n",
    "print(solution(M, N, array))"
   ]
  }
 ],
 "metadata": {
  "kernelspec": {
   "display_name": "Python 3",
   "language": "python",
   "name": "python3"
  },
  "language_info": {
   "codemirror_mode": {
    "name": "ipython",
    "version": 3
   },
   "file_extension": ".py",
   "mimetype": "text/x-python",
   "name": "python",
   "nbconvert_exporter": "python",
   "pygments_lexer": "ipython3",
   "version": "3.8.5"
  }
 },
 "nbformat": 4,
 "nbformat_minor": 4
}
