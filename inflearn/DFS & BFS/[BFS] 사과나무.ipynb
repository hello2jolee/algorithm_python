{
 "cells": [
  {
   "cell_type": "code",
   "execution_count": 7,
   "metadata": {},
   "outputs": [],
   "source": [
    "from collections import deque\n",
    "\n",
    "def solution(N, array):\n",
    "    dx = [-1, 0, 1, 0]\n",
    "    dy = [0, 1, 0, -1]\n",
    "    ch = [[0] * N for _ in range(N)]\n",
    "    sum = 0\n",
    "    \n",
    "    Q = deque()\n",
    "    ch[N // 2][N // 2] = 1\n",
    "    sum += array[N // 2][N // 2]\n",
    "    Q.append((N // 2, N // 2))\n",
    "    L = 0\n",
    "    \n",
    "    while True:\n",
    "        if L == N // 2:\n",
    "            break\n",
    "        size = len(Q)\n",
    "        for i in range(size):\n",
    "            temp = Q.popleft()\n",
    "            for j in range(4):\n",
    "                x = temp[0] + dx[j]\n",
    "                y = temp[1] + dy[j]\n",
    "                if ch[x][y] == 0:\n",
    "                    sum += array[x][y]\n",
    "                    ch[x][y] = 1\n",
    "                    Q.append((x, y))\n",
    "                    \n",
    "        L += 1\n",
    "        \n",
    "    return sum"
   ]
  },
  {
   "cell_type": "code",
   "execution_count": 8,
   "metadata": {},
   "outputs": [
    {
     "name": "stdout",
     "output_type": "stream",
     "text": [
      "379\n"
     ]
    }
   ],
   "source": [
    "N = 5\n",
    "array = ((10, 13, 10, 12, 15), (12, 39, 30, 23, 11), (11, 25, 50, 53, 15), (19, 27, 29, 37, 27), (19, 13, 30, 13, 19))\n",
    "\n",
    "print(solution(N, array))"
   ]
  }
 ],
 "metadata": {
  "kernelspec": {
   "display_name": "Python 3",
   "language": "python",
   "name": "python3"
  },
  "language_info": {
   "codemirror_mode": {
    "name": "ipython",
    "version": 3
   },
   "file_extension": ".py",
   "mimetype": "text/x-python",
   "name": "python",
   "nbconvert_exporter": "python",
   "pygments_lexer": "ipython3",
   "version": "3.8.5"
  }
 },
 "nbformat": 4,
 "nbformat_minor": 4
}
