{
 "cells": [
  {
   "cell_type": "code",
   "execution_count": null,
   "metadata": {},
   "outputs": [],
   "source": [
    "# 풀이 방법\n",
    "\n",
    "# 풀기로 결정한 문제를 부분집합으로 생성"
   ]
  },
  {
   "cell_type": "code",
   "execution_count": 10,
   "metadata": {},
   "outputs": [],
   "source": [
    "# 답\n",
    "global res\n",
    "res = -2147000000\n",
    "\n",
    "def solution(N, M, array):\n",
    "    def DFS(L, sum, time):\n",
    "        global res\n",
    "        if time > M:\n",
    "            return\n",
    "        if L == N:\n",
    "            if sum > res:\n",
    "                res = sum\n",
    "        else:\n",
    "            DFS(L + 1, sum + pv[L], time + pt[L])\n",
    "            DFS(L + 1, sum, time)\n",
    "            \n",
    "    pv = list()\n",
    "    pt = list()\n",
    "    \n",
    "    for a, b in array:\n",
    "        pv.append(a)\n",
    "        pt.append(b)\n",
    "    \n",
    "    # (level, 총점, 시간)\n",
    "    DFS(0, 0, 0)\n",
    "    \n",
    "    return res"
   ]
  },
  {
   "cell_type": "code",
   "execution_count": 11,
   "metadata": {},
   "outputs": [
    {
     "name": "stdout",
     "output_type": "stream",
     "text": [
      "41\n"
     ]
    }
   ],
   "source": [
    "N, M = 5, 20\n",
    "# (문제 점수, 푸는데 걸리느 시간)\n",
    "array = ((10, 5), (25, 12), (15, 8), (6, 3), (7, 4))\n",
    "\n",
    "print(solution(N, M, array))"
   ]
  }
 ],
 "metadata": {
  "kernelspec": {
   "display_name": "Python 3",
   "language": "python",
   "name": "python3"
  },
  "language_info": {
   "codemirror_mode": {
    "name": "ipython",
    "version": 3
   },
   "file_extension": ".py",
   "mimetype": "text/x-python",
   "name": "python",
   "nbconvert_exporter": "python",
   "pygments_lexer": "ipython3",
   "version": "3.8.5"
  }
 },
 "nbformat": 4,
 "nbformat_minor": 4
}
