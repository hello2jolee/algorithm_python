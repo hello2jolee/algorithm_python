{
 "cells": [
  {
   "cell_type": "code",
   "execution_count": 7,
   "metadata": {},
   "outputs": [],
   "source": [
    "global cnt\n",
    "cnt = 0\n",
    "\n",
    "def solution(n, k, array, m):\n",
    "    global cnt\n",
    "    \n",
    "    def DFS(L, s, sum):\n",
    "        global cnt\n",
    "        if L == k:\n",
    "            if sum % m == 0:\n",
    "                cnt += 1\n",
    "        else:\n",
    "            for i in range(s, n):\n",
    "                DFS(L + 1, i + 1, sum + array[i])\n",
    "    DFS(0, 0, 0)\n",
    "    return cnt"
   ]
  },
  {
   "cell_type": "code",
   "execution_count": 8,
   "metadata": {},
   "outputs": [
    {
     "name": "stdout",
     "output_type": "stream",
     "text": [
      "2\n"
     ]
    }
   ],
   "source": [
    "n, k = 5, 3\n",
    "array = [2, 4, 5, 8, 12]\n",
    "multiple = 6\n",
    "\n",
    "print(solution(n, k, array, multiple))"
   ]
  }
 ],
 "metadata": {
  "kernelspec": {
   "display_name": "Python 3",
   "language": "python",
   "name": "python3"
  },
  "language_info": {
   "codemirror_mode": {
    "name": "ipython",
    "version": 3
   },
   "file_extension": ".py",
   "mimetype": "text/x-python",
   "name": "python",
   "nbconvert_exporter": "python",
   "pygments_lexer": "ipython3",
   "version": "3.8.5"
  }
 },
 "nbformat": 4,
 "nbformat_minor": 4
}
