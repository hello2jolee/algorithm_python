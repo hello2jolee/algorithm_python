{
 "cells": [
  {
   "cell_type": "code",
   "execution_count": 6,
   "metadata": {},
   "outputs": [],
   "source": [
    "from collections import deque\n",
    "\n",
    "def solution(array):\n",
    "    dx = [-1, 0, 1, 0]\n",
    "    dy = [0, 1, 0, -1]\n",
    "    dis = [[0] * 7 for _ in range(7)]\n",
    "    Q = deque()\n",
    "    Q.append((0, 0))\n",
    "    array[0][0] = 1\n",
    "    \n",
    "    while Q:\n",
    "        temp = Q.popleft()\n",
    "        for i in range(4):\n",
    "            x = temp[0] + dx[i]\n",
    "            y = temp[1] + dy[i]\n",
    "            if 0 <= x <= 6 and 0 <= y <= 6 and array[x][y] == 0:\n",
    "                array[x][y] = 1\n",
    "                dis[x][y] = dis[temp[0]][temp[1]] + 1\n",
    "                Q.append((x, y))\n",
    "    \n",
    "    if dis[6][6] == 0:\n",
    "        return -1\n",
    "    else:\n",
    "        return dis[6][6]"
   ]
  },
  {
   "cell_type": "code",
   "execution_count": 11,
   "metadata": {},
   "outputs": [
    {
     "name": "stdout",
     "output_type": "stream",
     "text": [
      "12\n"
     ]
    }
   ],
   "source": [
    "array = [[0, 0, 0, 0, 0, 0, 0], [0, 1, 1, 1, 1, 1, 0], [0, 0, 0, 1, 0, 0, 0], [1, 1, 0, 1, 0, 1, 1], [1, 1, 0, 1, 0, 0, 0], [1, 0, 0, 0, 1, 0, 0], [1, 0, 1, 0, 0, 0, 0]]\n",
    "\n",
    "print(solution(array))"
   ]
  }
 ],
 "metadata": {
  "kernelspec": {
   "display_name": "Python 3",
   "language": "python",
   "name": "python3"
  },
  "language_info": {
   "codemirror_mode": {
    "name": "ipython",
    "version": 3
   },
   "file_extension": ".py",
   "mimetype": "text/x-python",
   "name": "python",
   "nbconvert_exporter": "python",
   "pygments_lexer": "ipython3",
   "version": "3.8.5"
  }
 },
 "nbformat": 4,
 "nbformat_minor": 4
}
