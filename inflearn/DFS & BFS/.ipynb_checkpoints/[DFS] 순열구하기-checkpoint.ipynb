{
 "cells": [
  {
   "cell_type": "code",
   "execution_count": 36,
   "metadata": {},
   "outputs": [],
   "source": [
    "global cnt\n",
    "cnt = 0\n",
    "\n",
    "def solution(N, M):\n",
    "    res = [0] * N\n",
    "    ch = [0] * (N + 1) # check list\n",
    "    \n",
    "    def DFS(L):\n",
    "        global cnt\n",
    "        if L == M:\n",
    "            for j in range(L):\n",
    "                print(res[j], end=' ')\n",
    "            print()\n",
    "            cnt += 1\n",
    "        else:\n",
    "            for i in range(1, N + 1):\n",
    "                if ch[i] == 0:\n",
    "                    ch[i] = 1\n",
    "                    res[L] = i\n",
    "                    DFS(L + 1)\n",
    "                    ch[i] = 0\n",
    "    DFS(0)\n",
    "    \n",
    "    return cnt"
   ]
  },
  {
   "cell_type": "code",
   "execution_count": 37,
   "metadata": {},
   "outputs": [
    {
     "name": "stdout",
     "output_type": "stream",
     "text": [
      "1 2 \n",
      "cnt 1\n",
      "1 3 \n",
      "cnt 2\n",
      "2 1 \n",
      "cnt 3\n",
      "2 3 \n",
      "cnt 4\n",
      "3 1 \n",
      "cnt 5\n",
      "3 2 \n",
      "cnt 6\n",
      "6\n"
     ]
    }
   ],
   "source": [
    "N, M = 3, 2\n",
    "print(solution(N, M))"
   ]
  }
 ],
 "metadata": {
  "kernelspec": {
   "display_name": "Python 3",
   "language": "python",
   "name": "python3"
  },
  "language_info": {
   "codemirror_mode": {
    "name": "ipython",
    "version": 3
   },
   "file_extension": ".py",
   "mimetype": "text/x-python",
   "name": "python",
   "nbconvert_exporter": "python",
   "pygments_lexer": "ipython3",
   "version": "3.8.5"
  }
 },
 "nbformat": 4,
 "nbformat_minor": 4
}
