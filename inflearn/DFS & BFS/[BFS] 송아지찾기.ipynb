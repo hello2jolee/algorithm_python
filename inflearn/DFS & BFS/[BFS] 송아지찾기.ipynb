{
 "cells": [
  {
   "cell_type": "code",
   "execution_count": 9,
   "metadata": {},
   "outputs": [],
   "source": [
    "from collections import deque\n",
    "\n",
    "def solution(S, E):\n",
    "    MAX = 10000\n",
    "    # 방문했는지 확인 용도\n",
    "    ch = [0] * (MAX + 1)\n",
    "    dis = [0] * (MAX + 1)\n",
    "    ch[S] = 1\n",
    "    dis[S] = 0\n",
    "    dQ = deque()\n",
    "    dQ.append(S)\n",
    "    \n",
    "    while dQ:\n",
    "        now = dQ.popleft()\n",
    "        if now == E:\n",
    "            break\n",
    "        for next in(now - 1, now + 1, now + 5):\n",
    "            if 0 < next <= MAX:\n",
    "                # 방문을 안 했을 때만 큐에 추가\n",
    "                if ch[next] == 0:\n",
    "                    dQ.append(next)\n",
    "                    ch[next] = 1\n",
    "                    dis[next] = dis[now] + 1\n",
    "                    \n",
    "    return dis[E]"
   ]
  },
  {
   "cell_type": "code",
   "execution_count": 10,
   "metadata": {},
   "outputs": [
    {
     "name": "stdout",
     "output_type": "stream",
     "text": [
      "3\n"
     ]
    }
   ],
   "source": [
    "# S : 현수의 위치, E : 송아지의 위치\n",
    "S, E = 5, 14\n",
    "\n",
    "print(solution(S, E))"
   ]
  }
 ],
 "metadata": {
  "kernelspec": {
   "display_name": "Python 3",
   "language": "python",
   "name": "python3"
  },
  "language_info": {
   "codemirror_mode": {
    "name": "ipython",
    "version": 3
   },
   "file_extension": ".py",
   "mimetype": "text/x-python",
   "name": "python",
   "nbconvert_exporter": "python",
   "pygments_lexer": "ipython3",
   "version": "3.8.5"
  }
 },
 "nbformat": 4,
 "nbformat_minor": 4
}
