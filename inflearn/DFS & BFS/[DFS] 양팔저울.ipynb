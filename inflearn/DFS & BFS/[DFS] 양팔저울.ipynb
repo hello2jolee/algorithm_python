{
 "cells": [
  {
   "cell_type": "code",
   "execution_count": 1,
   "metadata": {},
   "outputs": [],
   "source": [
    "global res\n",
    "res = set()\n",
    "\n",
    "def solution(n, G):\n",
    "    def DFS(L, sum):\n",
    "        global res\n",
    "        if L == n:\n",
    "            if 0 < sum <= s:\n",
    "                res.add(sum)\n",
    "            \n",
    "        else:\n",
    "            DFS(L + 1, sum + G[L])\n",
    "            DFS(L + 1, sum - G[L])\n",
    "            DFS(L + 1, sum)\n",
    "            \n",
    "    s = sum(G)\n",
    "    DFS(0, 0)\n",
    "    \n",
    "    return s - len(res)"
   ]
  },
  {
   "cell_type": "code",
   "execution_count": 2,
   "metadata": {},
   "outputs": [
    {
     "name": "stdout",
     "output_type": "stream",
     "text": [
      "2\n"
     ]
    }
   ],
   "source": [
    "n = 3\n",
    "array = [1, 5, 7]\n",
    "\n",
    "print(solution(n, array))"
   ]
  }
 ],
 "metadata": {
  "kernelspec": {
   "display_name": "Python 3",
   "language": "python",
   "name": "python3"
  },
  "language_info": {
   "codemirror_mode": {
    "name": "ipython",
    "version": 3
   },
   "file_extension": ".py",
   "mimetype": "text/x-python",
   "name": "python",
   "nbconvert_exporter": "python",
   "pygments_lexer": "ipython3",
   "version": "3.8.5"
  }
 },
 "nbformat": 4,
 "nbformat_minor": 4
}
