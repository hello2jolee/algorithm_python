{
 "cells": [
  {
   "cell_type": "code",
   "execution_count": 20,
   "metadata": {},
   "outputs": [],
   "source": [
    "import sys\n",
    "\n",
    "def solution(n, array):\n",
    "    def DFS(L, sum):\n",
    "        if sum > total // 2:\n",
    "            return\n",
    "        if L == n:\n",
    "            if sum == (total - sum):\n",
    "                print(\"YES\")\n",
    "                sys.exit(0)\n",
    "        else:\n",
    "            DFS(L + 1, sum + array[L])\n",
    "            DFS(L + 1, sum)\n",
    "        \n",
    "    total = sum(array)\n",
    "    DFS(0, 0)\n",
    "    print(\"NO\")"
   ]
  },
  {
   "cell_type": "code",
   "execution_count": 21,
   "metadata": {},
   "outputs": [
    {
     "name": "stdout",
     "output_type": "stream",
     "text": [
      "YES\n"
     ]
    },
    {
     "ename": "SystemExit",
     "evalue": "0",
     "output_type": "error",
     "traceback": [
      "An exception has occurred, use %tb to see the full traceback.\n",
      "\u001b[0;31mSystemExit\u001b[0m\u001b[0;31m:\u001b[0m 0\n"
     ]
    }
   ],
   "source": [
    "n = 6\n",
    "array = [1, 3, 5, 6, 7, 10]\n",
    "\n",
    "print(solution(n, array))"
   ]
  }
 ],
 "metadata": {
  "kernelspec": {
   "display_name": "Python 3",
   "language": "python",
   "name": "python3"
  },
  "language_info": {
   "codemirror_mode": {
    "name": "ipython",
    "version": 3
   },
   "file_extension": ".py",
   "mimetype": "text/x-python",
   "name": "python",
   "nbconvert_exporter": "python",
   "pygments_lexer": "ipython3",
   "version": "3.8.5"
  }
 },
 "nbformat": 4,
 "nbformat_minor": 4
}
