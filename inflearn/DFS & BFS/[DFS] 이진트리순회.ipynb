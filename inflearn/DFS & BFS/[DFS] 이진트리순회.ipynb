{
 "cells": [
  {
   "cell_type": "code",
   "execution_count": 2,
   "metadata": {},
   "outputs": [
    {
     "name": "stdout",
     "output_type": "stream",
     "text": [
      "1 2 4 5 3 6 7 "
     ]
    }
   ],
   "source": [
    "def DFS(v):\n",
    "    if v > 7 :\n",
    "        return\n",
    "    else:\n",
    "        print(v, end = \" \")\n",
    "        DFS(v * 2) # 왼쪽 노드\n",
    "        DFS(v * 2 + 1) # 오른쪽 노드\n",
    "        \n",
    "def solution():\n",
    "    DFS(1)\n",
    "    \n",
    "solution()"
   ]
  }
 ],
 "metadata": {
  "kernelspec": {
   "display_name": "Python 3",
   "language": "python",
   "name": "python3"
  },
  "language_info": {
   "codemirror_mode": {
    "name": "ipython",
    "version": 3
   },
   "file_extension": ".py",
   "mimetype": "text/x-python",
   "name": "python",
   "nbconvert_exporter": "python",
   "pygments_lexer": "ipython3",
   "version": "3.8.5"
  }
 },
 "nbformat": 4,
 "nbformat_minor": 4
}
