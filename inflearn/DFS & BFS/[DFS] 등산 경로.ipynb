{
 "cells": [
  {
   "cell_type": "code",
   "execution_count": 6,
   "metadata": {},
   "outputs": [],
   "source": [
    "global count\n",
    "count = 0\n",
    "\n",
    "def solution(N, array):\n",
    "    dy = [1, -1, 0, 0]\n",
    "    dx = [0, 0, 1, -1]\n",
    "    \n",
    "    def DFS(x, y):\n",
    "        global count\n",
    "        if x == ex and y == ey:\n",
    "            count += 1\n",
    "        else:\n",
    "            for k in range(4):\n",
    "                xx = x + dx[k]\n",
    "                yy = y + dy[k]\n",
    "                if 0 <= xx < N and 0 <= yy < N and ch[xx][yy] == 0 and board[xx][yy] > board[x][y]:\n",
    "                    ch[xx][yy] = 1\n",
    "                    DFS(xx, yy)\n",
    "                    ch[xx][yy] = 0\n",
    "                    \n",
    "    board = [[0] * N for _ in range(N)]\n",
    "    ch = [[0] * N for _ in range(N)]\n",
    "    max = -2147000000\n",
    "    min = 2147000000\n",
    "    for i in range(N):\n",
    "        tmp = array[i]\n",
    "        for j in range(N):\n",
    "            if tmp[j] < min:\n",
    "                min = tmp[j]\n",
    "                sx = i\n",
    "                sy = j\n",
    "            if tmp[j] > max:\n",
    "                max = tmp[j]\n",
    "                ex = i\n",
    "                ey = j\n",
    "            board[i][j] = tmp[j]\n",
    "    ch[sx][sy] = 1\n",
    "    DFS(sx, sy)\n",
    "    \n",
    "    return count"
   ]
  },
  {
   "cell_type": "code",
   "execution_count": 7,
   "metadata": {},
   "outputs": [
    {
     "name": "stdout",
     "output_type": "stream",
     "text": [
      "5\n"
     ]
    }
   ],
   "source": [
    "N = 5\n",
    "array = [[2, 23, 92, 78, 93], [59, 50, 48, 90, 80], [30, 53, 70, 75, 96], [94, 91, 82, 89, 93], [97, 98, 95, 96, 100]]\n",
    "\n",
    "print(solution(N, array))"
   ]
  }
 ],
 "metadata": {
  "kernelspec": {
   "display_name": "Python 3",
   "language": "python",
   "name": "python3"
  },
  "language_info": {
   "codemirror_mode": {
    "name": "ipython",
    "version": 3
   },
   "file_extension": ".py",
   "mimetype": "text/x-python",
   "name": "python",
   "nbconvert_exporter": "python",
   "pygments_lexer": "ipython3",
   "version": "3.8.5"
  }
 },
 "nbformat": 4,
 "nbformat_minor": 4
}
