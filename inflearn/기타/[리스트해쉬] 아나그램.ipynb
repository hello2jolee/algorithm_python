{
 "cells": [
  {
   "cell_type": "code",
   "execution_count": 1,
   "metadata": {},
   "outputs": [],
   "source": [
    "def solution(a, b):\n",
    "    str1 = [0] * 52\n",
    "    str2 = [0] * 52\n",
    "    \n",
    "    for x in a:\n",
    "        if x.isupper():\n",
    "            str1[ord(x) - 65] += 1\n",
    "        else:\n",
    "            str1[ord(x) - 71] += 1\n",
    "     \n",
    "    for x in b:\n",
    "        if x.isupper():\n",
    "            str2[ord(x) - 65] += 1\n",
    "        else:\n",
    "            str2[ord(x) - 71] += 1\n",
    "            \n",
    "    for i in range(52):\n",
    "        if str1[i] != str2[i]:\n",
    "            return 'NO'\n",
    "        \n",
    "    return 'YES'"
   ]
  },
  {
   "cell_type": "code",
   "execution_count": 2,
   "metadata": {},
   "outputs": [
    {
     "name": "stdout",
     "output_type": "stream",
     "text": [
      "YES\n"
     ]
    }
   ],
   "source": [
    "a, b = 'AbaAeCe', 'baeeACA'\n",
    "\n",
    "print(solution(a, b))"
   ]
  }
 ],
 "metadata": {
  "kernelspec": {
   "display_name": "Python 3",
   "language": "python",
   "name": "python3"
  },
  "language_info": {
   "codemirror_mode": {
    "name": "ipython",
    "version": 3
   },
   "file_extension": ".py",
   "mimetype": "text/x-python",
   "name": "python",
   "nbconvert_exporter": "python",
   "pygments_lexer": "ipython3",
   "version": "3.8.5"
  }
 },
 "nbformat": 4,
 "nbformat_minor": 4
}
