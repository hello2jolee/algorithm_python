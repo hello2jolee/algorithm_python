{
 "cells": [
  {
   "cell_type": "code",
   "execution_count": 1,
   "metadata": {},
   "outputs": [],
   "source": [
    "from collections import deque\n",
    "\n",
    "def solution(need, n, array):\n",
    "    for plan in array:\n",
    "        dq = deque(need)\n",
    "        for x in plan:\n",
    "            if x in dq:\n",
    "                if x != dq.popleft():\n",
    "                    print('NO')\n",
    "                    break\n",
    "        else:\n",
    "            if len(dq) == 0:\n",
    "                print('YES')\n",
    "            else:\n",
    "                print('NO')"
   ]
  },
  {
   "cell_type": "code",
   "execution_count": 2,
   "metadata": {},
   "outputs": [
    {
     "name": "stdout",
     "output_type": "stream",
     "text": [
      "YES\n",
      "NO\n",
      "YES\n"
     ]
    }
   ],
   "source": [
    "str = 'CBA'\n",
    "N = 3\n",
    "array = ('CBDAGE', 'FGCDAB', 'CTSBDEA')\n",
    "\n",
    "solution(str, N, array)"
   ]
  }
 ],
 "metadata": {
  "kernelspec": {
   "display_name": "Python 3",
   "language": "python",
   "name": "python3"
  },
  "language_info": {
   "codemirror_mode": {
    "name": "ipython",
    "version": 3
   },
   "file_extension": ".py",
   "mimetype": "text/x-python",
   "name": "python",
   "nbconvert_exporter": "python",
   "pygments_lexer": "ipython3",
   "version": "3.8.5"
  }
 },
 "nbformat": 4,
 "nbformat_minor": 4
}
