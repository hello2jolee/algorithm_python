{
 "cells": [
  {
   "cell_type": "code",
   "execution_count": 7,
   "metadata": {},
   "outputs": [],
   "source": [
    "def solution(n):\n",
    "    stack = []\n",
    "    res = ''\n",
    "    \n",
    "    for x in n:\n",
    "        if x.isdecimal():\n",
    "            res += x\n",
    "        else:\n",
    "            if x == '(':\n",
    "                stack.append(x)\n",
    "            elif x == '*' or x == '/':\n",
    "                while stack and (stack[-1] == '*' or stack[-1] == '/'):\n",
    "                    res += stack.pop()\n",
    "                stack.append(x)\n",
    "            elif x == '+' or x == '-':\n",
    "                while stack and stack[-1] != '(':\n",
    "                    res += stack.pop()\n",
    "                stack.append(x)\n",
    "            elif x == ')':\n",
    "                while stack and stack[-1] != '(':\n",
    "                    res += stack.pop()\n",
    "                stack.pop()\n",
    "                \n",
    "    while stack:\n",
    "        res += stack.pop()\n",
    "            \n",
    "    return res"
   ]
  },
  {
   "cell_type": "code",
   "execution_count": 8,
   "metadata": {},
   "outputs": [
    {
     "name": "stdout",
     "output_type": "stream",
     "text": [
      "352*72-/+\n"
     ]
    }
   ],
   "source": [
    "n = '3+5*2/(7-2)'\n",
    "\n",
    "print(solution(n))"
   ]
  }
 ],
 "metadata": {
  "kernelspec": {
   "display_name": "Python 3",
   "language": "python",
   "name": "python3"
  },
  "language_info": {
   "codemirror_mode": {
    "name": "ipython",
    "version": 3
   },
   "file_extension": ".py",
   "mimetype": "text/x-python",
   "name": "python",
   "nbconvert_exporter": "python",
   "pygments_lexer": "ipython3",
   "version": "3.8.5"
  }
 },
 "nbformat": 4,
 "nbformat_minor": 4
}
