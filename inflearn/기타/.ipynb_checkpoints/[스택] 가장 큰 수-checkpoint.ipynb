{
 "cells": [
  {
   "cell_type": "code",
   "execution_count": 7,
   "metadata": {},
   "outputs": [],
   "source": [
    "def solution(num, m):\n",
    "    stack = []\n",
    "    \n",
    "    # 숫자를 스트링 배열로 변경\n",
    "    num = list(map(int, str(num)))\n",
    "    stack.append(num[0])\n",
    "    \n",
    "    for x in num:\n",
    "        while stack and m > 0 and stack[-1] < x:\n",
    "            stack.pop()\n",
    "            m -= 1\n",
    "        stack.append(x)\n",
    "    \n",
    "    if m != 0:\n",
    "        stack = stack[:-m]\n",
    "    \n",
    "    # 리스트를 숫자로 변경\n",
    "    res = ''.join(map(str, stack))\n",
    "    \n",
    "    return res"
   ]
  },
  {
   "cell_type": "code",
   "execution_count": 8,
   "metadata": {},
   "outputs": [
    {
     "name": "stdout",
     "output_type": "stream",
     "text": [
      "76823\n"
     ]
    }
   ],
   "source": [
    "num, m = 5276823, 3\n",
    "\n",
    "print(solution(num, n))"
   ]
  }
 ],
 "metadata": {
  "kernelspec": {
   "display_name": "Python 3",
   "language": "python",
   "name": "python3"
  },
  "language_info": {
   "codemirror_mode": {
    "name": "ipython",
    "version": 3
   },
   "file_extension": ".py",
   "mimetype": "text/x-python",
   "name": "python",
   "nbconvert_exporter": "python",
   "pygments_lexer": "ipython3",
   "version": "3.8.5"
  }
 },
 "nbformat": 4,
 "nbformat_minor": 4
}
