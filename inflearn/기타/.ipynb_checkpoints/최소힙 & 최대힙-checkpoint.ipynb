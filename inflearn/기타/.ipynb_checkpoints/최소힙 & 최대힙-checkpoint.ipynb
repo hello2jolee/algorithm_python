{
 "cells": [
  {
   "cell_type": "code",
   "execution_count": 8,
   "metadata": {},
   "outputs": [],
   "source": [
    "import heapq as hq\n",
    "\n",
    "def solution():\n",
    "    a = []\n",
    "    result = []\n",
    "    \n",
    "    while True:\n",
    "        n = int(input())\n",
    "        if n == -1:\n",
    "            break\n",
    "        if n == 0:\n",
    "            if len(a) == 0:\n",
    "                result.append(-1)\n",
    "            else:\n",
    "                result.append(hq.heappop(a))\n",
    "        else:\n",
    "            hq.heappush(a, n)\n",
    "            \n",
    "    return result"
   ]
  },
  {
   "cell_type": "code",
   "execution_count": 9,
   "metadata": {},
   "outputs": [
    {
     "name": "stdout",
     "output_type": "stream",
     "text": [
      "5\n",
      "3\n",
      "6\n",
      "0\n",
      "5\n",
      "0\n",
      "2\n",
      "4\n",
      "0\n",
      "-1\n",
      "[3, 5, 2]\n"
     ]
    }
   ],
   "source": [
    "print(solution())"
   ]
  },
  {
   "cell_type": "code",
   "execution_count": 18,
   "metadata": {},
   "outputs": [],
   "source": [
    "import heapq as hq\n",
    "\n",
    "def solutionMAX():\n",
    "    a = []\n",
    "    result = []\n",
    "    \n",
    "    while True:\n",
    "        n = int(input())\n",
    "        if n == -1:\n",
    "            break\n",
    "        if n == 0:\n",
    "            if len(a) == 0:\n",
    "                result.append(-1)\n",
    "            else:\n",
    "                result.append(-hq.heappop(a))\n",
    "                \n",
    "        else:\n",
    "            hq.heappush(a, -n)\n",
    "            \n",
    "    return result"
   ]
  },
  {
   "cell_type": "code",
   "execution_count": 19,
   "metadata": {},
   "outputs": [
    {
     "name": "stdout",
     "output_type": "stream",
     "text": [
      "5\n",
      "3\n",
      "6\n",
      "0\n",
      "5\n",
      "0\n",
      "2\n",
      "4\n",
      "0\n",
      "-1\n",
      "[6, 5, 5]\n"
     ]
    }
   ],
   "source": [
    "print(solutionMAX())"
   ]
  }
 ],
 "metadata": {
  "kernelspec": {
   "display_name": "Python 3",
   "language": "python",
   "name": "python3"
  },
  "language_info": {
   "codemirror_mode": {
    "name": "ipython",
    "version": 3
   },
   "file_extension": ".py",
   "mimetype": "text/x-python",
   "name": "python",
   "nbconvert_exporter": "python",
   "pygments_lexer": "ipython3",
   "version": "3.8.5"
  }
 },
 "nbformat": 4,
 "nbformat_minor": 4
}
