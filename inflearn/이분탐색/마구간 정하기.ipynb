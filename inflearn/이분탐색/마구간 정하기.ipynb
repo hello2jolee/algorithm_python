{
 "cells": [
  {
   "cell_type": "code",
   "execution_count": 1,
   "metadata": {},
   "outputs": [],
   "source": [
    "def solution(n, c, Line):\n",
    "    def Count(len):\n",
    "        cnt = 1\n",
    "        ep = Line[0]\n",
    "        for i in range(1, n):\n",
    "            if Line[i] - ep >= len:\n",
    "                cnt += 1\n",
    "                ep = Line[i]\n",
    "        return cnt\n",
    "    \n",
    "    Line.sort()\n",
    "    res = 0\n",
    "    lt = 1\n",
    "    rt = Line[n - 1]\n",
    "    while lt <= rt:\n",
    "        mid = (lt + rt) // 2\n",
    "        if Count(mid) >= c:\n",
    "            res = mid\n",
    "            lt = mid + 1\n",
    "        else:\n",
    "            rt = mid - 1\n",
    "    \n",
    "    return res"
   ]
  },
  {
   "cell_type": "code",
   "execution_count": 3,
   "metadata": {},
   "outputs": [
    {
     "name": "stdout",
     "output_type": "stream",
     "text": [
      "3\n"
     ]
    }
   ],
   "source": [
    "N, C = 5, 3\n",
    "array = [1, 2, 8, 4, 9]\n",
    "\n",
    "print(solution(N, C, array))"
   ]
  }
 ],
 "metadata": {
  "kernelspec": {
   "display_name": "Python 3",
   "language": "python",
   "name": "python3"
  },
  "language_info": {
   "codemirror_mode": {
    "name": "ipython",
    "version": 3
   },
   "file_extension": ".py",
   "mimetype": "text/x-python",
   "name": "python",
   "nbconvert_exporter": "python",
   "pygments_lexer": "ipython3",
   "version": "3.8.5"
  }
 },
 "nbformat": 4,
 "nbformat_minor": 4
}
