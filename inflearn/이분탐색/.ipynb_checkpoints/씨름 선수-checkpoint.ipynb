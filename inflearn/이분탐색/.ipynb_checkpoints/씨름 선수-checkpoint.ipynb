{
 "cells": [
  {
   "cell_type": "code",
   "execution_count": null,
   "metadata": {},
   "outputs": [],
   "source": [
    "# 풀이 방법\n",
    "\n",
    "# 1. 키순으로 정렬(내림차순)\n",
    "# ⇒ (183, 65), (181, 60), (180, 70), (172, 67), (170, 72)\n",
    "# 2. 첫 번째 사람은 무조건 count\n",
    "# 3. 두 번째 사람 부터는 자기 위에 있는 사람을 몸무게로 이겨야 됨\n",
    "#    ㄴ (181, 60)의 경우 (183, 65)에 비해 몸무게가 적으니까 count X\n",
    "#    ㄴ (180, 70)인 경우 (183, 65), (181, 60)에 비해 몸무게가 많이 나가니까 count O"
   ]
  },
  {
   "cell_type": "code",
   "execution_count": 1,
   "metadata": {},
   "outputs": [],
   "source": [
    "def solution(N, array):\n",
    "    # 내림차순으로 정렬\n",
    "    array.sort(reverse = True)\n",
    "    \n",
    "    largest = 0\n",
    "    count = 0\n",
    "    for x, y in array:\n",
    "        if y > largest:\n",
    "            largest = y\n",
    "            count += 1\n",
    "            \n",
    "    return count"
   ]
  },
  {
   "cell_type": "code",
   "execution_count": 2,
   "metadata": {},
   "outputs": [
    {
     "name": "stdout",
     "output_type": "stream",
     "text": [
      "3\n"
     ]
    }
   ],
   "source": [
    "N = 5\n",
    "array = [(172, 67), (183, 65), (180, 70), (170, 72), (181, 60)]\n",
    "\n",
    "print(solution(N, array))"
   ]
  }
 ],
 "metadata": {
  "kernelspec": {
   "display_name": "Python 3",
   "language": "python",
   "name": "python3"
  },
  "language_info": {
   "codemirror_mode": {
    "name": "ipython",
    "version": 3
   },
   "file_extension": ".py",
   "mimetype": "text/x-python",
   "name": "python",
   "nbconvert_exporter": "python",
   "pygments_lexer": "ipython3",
   "version": "3.8.5"
  }
 },
 "nbformat": 4,
 "nbformat_minor": 4
}
