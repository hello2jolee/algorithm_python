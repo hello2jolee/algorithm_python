{
 "cells": [
  {
   "cell_type": "code",
   "execution_count": 4,
   "metadata": {},
   "outputs": [],
   "source": [
    "def solution(N, M, array):\n",
    "    array.sort()\n",
    "    left = 0\n",
    "    right = N - 1\n",
    "    \n",
    "    while left <= right:\n",
    "        mid = (left + right) // 2\n",
    "        if array[mid] == M:\n",
    "            # 0번부 시작하는 index 값이니까 +1을 적용\n",
    "            return mid + 1\n",
    "        elif array[mid] > M:\n",
    "            right = mid - 1\n",
    "        else:\n",
    "            left = mid + 1"
   ]
  },
  {
   "cell_type": "code",
   "execution_count": 5,
   "metadata": {},
   "outputs": [
    {
     "name": "stdout",
     "output_type": "stream",
     "text": [
      "3\n"
     ]
    }
   ],
   "source": [
    "N, M = 8, 32\n",
    "array = [23, 87, 65, 12, 57, 32, 99, 81]\n",
    "\n",
    "print(solution(N, M, array))"
   ]
  }
 ],
 "metadata": {
  "kernelspec": {
   "display_name": "Python 3",
   "language": "python",
   "name": "python3"
  },
  "language_info": {
   "codemirror_mode": {
    "name": "ipython",
    "version": 3
   },
   "file_extension": ".py",
   "mimetype": "text/x-python",
   "name": "python",
   "nbconvert_exporter": "python",
   "pygments_lexer": "ipython3",
   "version": "3.8.5"
  }
 },
 "nbformat": 4,
 "nbformat_minor": 4
}
