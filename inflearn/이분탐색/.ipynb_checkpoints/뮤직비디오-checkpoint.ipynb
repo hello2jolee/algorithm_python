{
 "cells": [
  {
   "cell_type": "code",
   "execution_count": 1,
   "metadata": {},
   "outputs": [],
   "source": [
    "def solution(n, m, Music):\n",
    "    def Count(capacity):\n",
    "        cnt = 1\n",
    "        sum = 0 # 누적된 시간 \n",
    "        for x in Music:\n",
    "            if sum + x > capacity:\n",
    "                cnt += 1\n",
    "                sum = x\n",
    "            else:\n",
    "                sum += x\n",
    "        return cnt\n",
    "            \n",
    "    lt = 1\n",
    "    rt = sum(Music)\n",
    "    res = 0\n",
    "    while lt <= rt:\n",
    "        mid = (lt + rt) // 2\n",
    "        if Count(mid) <= m:\n",
    "            res = mid\n",
    "            rt = mid - 1\n",
    "        else:\n",
    "            lt = mid + 1\n",
    "        \n",
    "    return res"
   ]
  },
  {
   "cell_type": "code",
   "execution_count": 2,
   "metadata": {},
   "outputs": [
    {
     "name": "stdout",
     "output_type": "stream",
     "text": [
      "17\n"
     ]
    }
   ],
   "source": [
    "N, M = 9, 3\n",
    "array = [1, 2, 3, 4, 5, 6, 7, 8, 9]\n",
    "\n",
    "print(solution(N, M, array))"
   ]
  }
 ],
 "metadata": {
  "kernelspec": {
   "display_name": "Python 3",
   "language": "python",
   "name": "python3"
  },
  "language_info": {
   "codemirror_mode": {
    "name": "ipython",
    "version": 3
   },
   "file_extension": ".py",
   "mimetype": "text/x-python",
   "name": "python",
   "nbconvert_exporter": "python",
   "pygments_lexer": "ipython3",
   "version": "3.8.5"
  }
 },
 "nbformat": 4,
 "nbformat_minor": 4
}
