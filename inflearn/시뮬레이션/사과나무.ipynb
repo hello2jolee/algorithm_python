{
 "cells": [
  {
   "cell_type": "code",
   "execution_count": 1,
   "metadata": {},
   "outputs": [],
   "source": [
    "def solution(N, array):\n",
    "    res = 0\n",
    "    s = e = N // 2\n",
    "    \n",
    "    for i in range(N):\n",
    "        for j in range(s, e + 1):\n",
    "            res += array[i][j]\n",
    "        if i < N // 2:\n",
    "            s -= 1\n",
    "            e += 1\n",
    "        else:\n",
    "            s += 1\n",
    "            e -= 1\n",
    "            \n",
    "    return res"
   ]
  },
  {
   "cell_type": "code",
   "execution_count": 2,
   "metadata": {},
   "outputs": [
    {
     "name": "stdout",
     "output_type": "stream",
     "text": [
      "379\n"
     ]
    }
   ],
   "source": [
    "N = 5\n",
    "array = ((10, 13, 10, 12, 15), (12, 39, 30, 23, 11), (11, 25, 50, 53, 15), (19, 27, 29, 37, 27), (19, 13, 30, 13, 19))\n",
    "\n",
    "print(solution(N, array))"
   ]
  }
 ],
 "metadata": {
  "kernelspec": {
   "display_name": "Python 3",
   "language": "python",
   "name": "python3"
  },
  "language_info": {
   "codemirror_mode": {
    "name": "ipython",
    "version": 3
   },
   "file_extension": ".py",
   "mimetype": "text/x-python",
   "name": "python",
   "nbconvert_exporter": "python",
   "pygments_lexer": "ipython3",
   "version": "3.8.5"
  }
 },
 "nbformat": 4,
 "nbformat_minor": 4
}
