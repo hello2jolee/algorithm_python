{
 "cells": [
  {
   "cell_type": "code",
   "execution_count": 1,
   "metadata": {},
   "outputs": [],
   "source": [
    "def solution(n, array1, m, array2):\n",
    "    p1 = p2 = 0\n",
    "    c = []\n",
    "    while p1 < n and p2 < m:\n",
    "        if array1[p1] <= array2[p2]:\n",
    "            c.append(array1[p1])\n",
    "            p1 += 1\n",
    "        else:\n",
    "            c.append(array2[p2])\n",
    "            p2 += 1\n",
    "            \n",
    "    if p1 < n:\n",
    "        c = c + array1[p1:]\n",
    "    if p2 < m:\n",
    "        c = c + array2[p2:]\n",
    "        \n",
    "    return c"
   ]
  },
  {
   "cell_type": "code",
   "execution_count": 2,
   "metadata": {},
   "outputs": [
    {
     "name": "stdout",
     "output_type": "stream",
     "text": [
      "[1, 2, 3, 3, 5, 6, 7, 9]\n"
     ]
    }
   ],
   "source": [
    "n = 3\n",
    "array1 = [1, 3, 5]\n",
    "m = 5\n",
    "array2 = [2, 3, 6, 7, 9]\n",
    "\n",
    "print(solution(n, array1, m, array2))"
   ]
  }
 ],
 "metadata": {
  "kernelspec": {
   "display_name": "Python 3",
   "language": "python",
   "name": "python3"
  },
  "language_info": {
   "codemirror_mode": {
    "name": "ipython",
    "version": 3
   },
   "file_extension": ".py",
   "mimetype": "text/x-python",
   "name": "python",
   "nbconvert_exporter": "python",
   "pygments_lexer": "ipython3",
   "version": "3.8.5"
  }
 },
 "nbformat": 4,
 "nbformat_minor": 4
}
