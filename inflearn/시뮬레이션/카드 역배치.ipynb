{
 "cells": [
  {
   "cell_type": "code",
   "execution_count": 5,
   "metadata": {},
   "outputs": [],
   "source": [
    "def solution(array):\n",
    "    a = list(range(21))\n",
    "    for _ in range(10):\n",
    "        for s, e in array:\n",
    "            for i in range((e - s + 1) // 2):\n",
    "                a[s + i], a[e - i] = a[e - i], a[s + i]\n",
    "    \n",
    "    a.pop(0)\n",
    "    for x in a:\n",
    "        print(x, end = ' ')"
   ]
  },
  {
   "cell_type": "code",
   "execution_count": 6,
   "metadata": {},
   "outputs": [
    {
     "name": "stdout",
     "output_type": "stream",
     "text": [
      "1 2 3 4 10 9 7 8 13 12 11 5 6 14 15 16 17 18 19 20 "
     ]
    }
   ],
   "source": [
    "array = [[5, 10], [9, 13], [1, 2], [3, 4], [5, 6], [1, 2], [3, 4], [5, 6], [1, 20], [1, 20]]\n",
    "\n",
    "solution(array)"
   ]
  }
 ],
 "metadata": {
  "kernelspec": {
   "display_name": "Python 3",
   "language": "python",
   "name": "python3"
  },
  "language_info": {
   "codemirror_mode": {
    "name": "ipython",
    "version": 3
   },
   "file_extension": ".py",
   "mimetype": "text/x-python",
   "name": "python",
   "nbconvert_exporter": "python",
   "pygments_lexer": "ipython3",
   "version": "3.8.5"
  }
 },
 "nbformat": 4,
 "nbformat_minor": 4
}
