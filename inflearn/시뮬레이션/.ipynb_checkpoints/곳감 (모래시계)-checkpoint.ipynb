{
 "cells": [
  {
   "cell_type": "code",
   "execution_count": 7,
   "metadata": {},
   "outputs": [],
   "source": [
    "def solution():\n",
    "    n = int(input())\n",
    "    a = [list(map(int, input().split())) for _ in range(n)]\n",
    "    \n",
    "    m = int(input())\n",
    "    for i in range(m):\n",
    "        h, t, k = map(int, input().split())\n",
    "        if t == 0:\n",
    "            for _ in range(k):\n",
    "                a[h - 1].append(a[h - 1].pop(0))\n",
    "        else:\n",
    "            for _ in range(k):\n",
    "                a[h - 1].insert(0, a[h - 1].pop())\n",
    "    \n",
    "    res = 0\n",
    "    s = 0\n",
    "    e = n - 1\n",
    "    for i in range(n):\n",
    "        for j in range(s, e + 1):\n",
    "            res += a[i][j]\n",
    "        if i < n // 2:\n",
    "            s += 1\n",
    "            e -= 1\n",
    "        else:\n",
    "            s -= 1\n",
    "            e += 1\n",
    "                \n",
    "    print(res)"
   ]
  },
  {
   "cell_type": "code",
   "execution_count": 8,
   "metadata": {},
   "outputs": [
    {
     "name": "stdout",
     "output_type": "stream",
     "text": [
      "5 \n",
      "10 13 10 12 15\n",
      "12 39 30 23 11\n",
      "11 25 50 53 15\n",
      "19 27 29 37 27\n",
      "19 13 30 13 19\n",
      "3\n",
      "2 0 3\n",
      "5 1 2\n",
      "3 1 4\n",
      "362\n"
     ]
    }
   ],
   "source": [
    "solution()"
   ]
  }
 ],
 "metadata": {
  "kernelspec": {
   "display_name": "Python 3",
   "language": "python",
   "name": "python3"
  },
  "language_info": {
   "codemirror_mode": {
    "name": "ipython",
    "version": 3
   },
   "file_extension": ".py",
   "mimetype": "text/x-python",
   "name": "python",
   "nbconvert_exporter": "python",
   "pygments_lexer": "ipython3",
   "version": "3.8.5"
  }
 },
 "nbformat": 4,
 "nbformat_minor": 4
}
