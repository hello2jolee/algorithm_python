{
 "cells": [
  {
   "cell_type": "code",
   "execution_count": 13,
   "metadata": {},
   "outputs": [],
   "source": [
    "def solution(N, array):\n",
    "    res = temp_dir1 = temp_dir2 = 0\n",
    "    \n",
    "    for i in range(N):\n",
    "        temp_row = temp_col = 0\n",
    "        temp_dir1 += array[i][i]\n",
    "        temp_dir2 += array[i][N - i - 1]\n",
    "        for j in range(N):\n",
    "            temp_row += array[i][j]\n",
    "            temp_col += array[j][i]\n",
    "        res = max(res, temp_row, temp_col, temp_dir1, temp_dir2)\n",
    "    \n",
    "    return res"
   ]
  },
  {
   "cell_type": "code",
   "execution_count": 14,
   "metadata": {},
   "outputs": [
    {
     "name": "stdout",
     "output_type": "stream",
     "text": [
      "155\n"
     ]
    }
   ],
   "source": [
    "N = 5\n",
    "array = ((10, 13, 10, 12, 15), (12, 39, 30, 23, 11), (11, 25, 50, 53, 15), (19, 27, 29, 37, 27), (19, 13, 30, 13, 19))\n",
    "\n",
    "print(solution(N, array))"
   ]
  }
 ],
 "metadata": {
  "kernelspec": {
   "display_name": "Python 3",
   "language": "python",
   "name": "python3"
  },
  "language_info": {
   "codemirror_mode": {
    "name": "ipython",
    "version": 3
   },
   "file_extension": ".py",
   "mimetype": "text/x-python",
   "name": "python",
   "nbconvert_exporter": "python",
   "pygments_lexer": "ipython3",
   "version": "3.8.5"
  }
 },
 "nbformat": 4,
 "nbformat_minor": 4
}
