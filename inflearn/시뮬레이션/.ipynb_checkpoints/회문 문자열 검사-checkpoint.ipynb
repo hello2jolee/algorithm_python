{
 "cells": [
  {
   "cell_type": "code",
   "execution_count": 5,
   "metadata": {},
   "outputs": [],
   "source": [
    "def solution(n, array):\n",
    "    for s in array:\n",
    "        s = s.upper()\n",
    "        size = len(s)\n",
    "        for j in range(size // 2):\n",
    "            if s[j] != s[-1-j]:\n",
    "                print(\"NO\")\n",
    "                break\n",
    "        else:\n",
    "            print(\"YES\")"
   ]
  },
  {
   "cell_type": "code",
   "execution_count": 6,
   "metadata": {},
   "outputs": [
    {
     "name": "stdout",
     "output_type": "stream",
     "text": [
      "YES\n",
      "NO\n",
      "YES\n",
      "NO\n",
      "YES\n"
     ]
    }
   ],
   "source": [
    "N = 5\n",
    "array = ['level', 'moon', 'abcba', 'soon', 'gooG']\n",
    "\n",
    "solution(N, array)"
   ]
  }
 ],
 "metadata": {
  "kernelspec": {
   "display_name": "Python 3",
   "language": "python",
   "name": "python3"
  },
  "language_info": {
   "codemirror_mode": {
    "name": "ipython",
    "version": 3
   },
   "file_extension": ".py",
   "mimetype": "text/x-python",
   "name": "python",
   "nbconvert_exporter": "python",
   "pygments_lexer": "ipython3",
   "version": "3.8.5"
  }
 },
 "nbformat": 4,
 "nbformat_minor": 4
}
