{
 "cells": [
  {
   "cell_type": "code",
   "execution_count": 7,
   "metadata": {},
   "outputs": [],
   "source": [
    "def solution(m, n, puddles):\n",
    "    grid = [[0] * (m+1) for i in range(n+1)]\n",
    "    if puddles != [[]]:\n",
    "        for a, b in puddles:\n",
    "            grid[b][a] = -1\n",
    "    grid[1][1] = 1\n",
    "    print(grid)\n",
    "    \n",
    "    for j in range(1, n+1):\n",
    "        for k in range(1, m+1):\n",
    "            if j == k == 1:\n",
    "                continue\n",
    "                \n",
    "            if grid[j][k] == -1:\n",
    "                grid[j][k] = 0\n",
    "                continue\n",
    "            grid[j][k] = (grid[j][k-1] + grid[j-1][k] % 1000000007)\n",
    "                \n",
    "    return grid[n][m]"
   ]
  },
  {
   "cell_type": "code",
   "execution_count": 8,
   "metadata": {},
   "outputs": [
    {
     "name": "stdout",
     "output_type": "stream",
     "text": [
      "[[0, 0, 0, 0, 0], [0, 1, 0, 0, 0], [0, 0, -1, 0, 0], [0, 0, 0, 0, 0]]\n",
      "1 ,  0\n",
      "1 ,  0\n",
      "1 ,  0\n",
      "0 ,  1\n",
      "0 ,  1\n",
      "1 ,  1\n",
      "0 ,  1\n",
      "1 ,  0\n",
      "1 ,  1\n",
      "2 ,  2\n",
      "4\n"
     ]
    }
   ],
   "source": [
    "m, n = 4, 3\n",
    "puddles = [[2, 2]]\n",
    "\n",
    "print(solution(m, n, puddles))"
   ]
  }
 ],
 "metadata": {
  "kernelspec": {
   "display_name": "Python 3",
   "language": "python",
   "name": "python3"
  },
  "language_info": {
   "codemirror_mode": {
    "name": "ipython",
    "version": 3
   },
   "file_extension": ".py",
   "mimetype": "text/x-python",
   "name": "python",
   "nbconvert_exporter": "python",
   "pygments_lexer": "ipython3",
   "version": "3.8.5"
  }
 },
 "nbformat": 4,
 "nbformat_minor": 4
}
