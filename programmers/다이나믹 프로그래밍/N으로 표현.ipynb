{
 "cells": [
  {
   "cell_type": "code",
   "execution_count": 3,
   "metadata": {},
   "outputs": [],
   "source": [
    "def solution(N, number):\n",
    "    dp = [[]]\n",
    "    \n",
    "    x = 0\n",
    "    for i in range(1, 9):\n",
    "        dp.append(set())\n",
    "        x = 10*x + N\n",
    "        dp[i].add(x)\n",
    "        \n",
    "        for j in range(i):\n",
    "            for op1 in dp[j]:\n",
    "                for op2 in dp[i-j]:\n",
    "                    dp[i].add(op1 + op2)\n",
    "                    dp[i].add(op1 - op2)\n",
    "                    dp[i].add(op1 * op2)\n",
    "                    if op2 != 0:\n",
    "                        dp[i].add(op1 // op2)\n",
    "                        \n",
    "            if number in dp[i]:\n",
    "                return i\n",
    "    return -1"
   ]
  },
  {
   "cell_type": "code",
   "execution_count": 4,
   "metadata": {},
   "outputs": [
    {
     "name": "stdout",
     "output_type": "stream",
     "text": [
      "[[], set()]\n",
      "[[], {5}, set()]\n",
      "[[], {5}, {0, 1, 10, 55, 25}, set()]\n",
      "[[], {5}, {0, 1, 10, 55, 25}, {0, 2, 4, 5, 6, 555, -20, -4, -50, 15, 11, 50, 275, 20, -5, 60, 125, 30}, set()]\n",
      "4\n"
     ]
    }
   ],
   "source": [
    "N, number = 5, 12\n",
    "print(solution(N, number))"
   ]
  }
 ],
 "metadata": {
  "kernelspec": {
   "display_name": "Python 3",
   "language": "python",
   "name": "python3"
  },
  "language_info": {
   "codemirror_mode": {
    "name": "ipython",
    "version": 3
   },
   "file_extension": ".py",
   "mimetype": "text/x-python",
   "name": "python",
   "nbconvert_exporter": "python",
   "pygments_lexer": "ipython3",
   "version": "3.8.5"
  }
 },
 "nbformat": 4,
 "nbformat_minor": 4
}
