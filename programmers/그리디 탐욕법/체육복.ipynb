{
 "cells": [
  {
   "cell_type": "code",
   "execution_count": 3,
   "metadata": {},
   "outputs": [],
   "source": [
    "def solution(n, lost, reserve):\n",
    "    answer = 0\n",
    "    \n",
    "    for i in reserve[:]:\n",
    "        if i in lost:\n",
    "            reserve.remove(i)\n",
    "            lost.remove(i)\n",
    "            \n",
    "    for i in lost[:]:\n",
    "        if i-1 in reserve:\n",
    "            reserve.remove(i-1)\n",
    "            lost.remove(i)\n",
    "        elif i+1 in reserve:\n",
    "            reserve.remove(i+1)\n",
    "            lost.remove(i)\n",
    "            \n",
    "    answer = n - len(lost)\n",
    "    return answer"
   ]
  },
  {
   "cell_type": "code",
   "execution_count": 4,
   "metadata": {},
   "outputs": [
    {
     "name": "stdout",
     "output_type": "stream",
     "text": [
      "5\n"
     ]
    }
   ],
   "source": [
    "n = 5\n",
    "lost = [2, 4]\n",
    "reserve = [1, 3, 5]\n",
    "\n",
    "print(solution(n, lost, reserve))"
   ]
  }
 ],
 "metadata": {
  "kernelspec": {
   "display_name": "Python 3",
   "language": "python",
   "name": "python3"
  },
  "language_info": {
   "codemirror_mode": {
    "name": "ipython",
    "version": 3
   },
   "file_extension": ".py",
   "mimetype": "text/x-python",
   "name": "python",
   "nbconvert_exporter": "python",
   "pygments_lexer": "ipython3",
   "version": "3.8.5"
  }
 },
 "nbformat": 4,
 "nbformat_minor": 4
}
