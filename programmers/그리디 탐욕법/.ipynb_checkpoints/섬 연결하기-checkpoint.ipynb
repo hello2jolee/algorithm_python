{
 "cells": [
  {
   "cell_type": "code",
   "execution_count": 5,
   "metadata": {},
   "outputs": [],
   "source": [
    "def ancestor(node, parents):\n",
    "    if parents[node] == node:\n",
    "        return node\n",
    "    else:\n",
    "        return ancestor(parents[node], parents)\n",
    "\n",
    "def solution(n, costs):\n",
    "    answer = 0\n",
    "    edges = sorted([(x[2], x[0], x[1]) for x in costs])\n",
    "    parents = [i for i in range(n)]\n",
    "    bridges = 0\n",
    "    \n",
    "    for w, f, t in edges:\n",
    "        if ancestor(f, parents) != ancestor(t, parents):\n",
    "            answer += w\n",
    "            parents[ancestor(f, parents)] = t\n",
    "            bridges += 1\n",
    "        if bridges == n - 1:\n",
    "            break\n",
    "            \n",
    "    return answer"
   ]
  },
  {
   "cell_type": "code",
   "execution_count": 6,
   "metadata": {},
   "outputs": [
    {
     "name": "stdout",
     "output_type": "stream",
     "text": [
      "[(1, 0, 1), (1, 1, 3), (2, 0, 2), (5, 1, 2), (8, 2, 3)]\n",
      "4\n"
     ]
    }
   ],
   "source": [
    "n = 4\n",
    "costs = [[0, 1, 1], [0, 2, 2], [1, 2, 5], [1, 3, 1], [2, 3, 8]]\n",
    "\n",
    "print(solution(n, costs))"
   ]
  }
 ],
 "metadata": {
  "kernelspec": {
   "display_name": "Python 3",
   "language": "python",
   "name": "python3"
  },
  "language_info": {
   "codemirror_mode": {
    "name": "ipython",
    "version": 3
   },
   "file_extension": ".py",
   "mimetype": "text/x-python",
   "name": "python",
   "nbconvert_exporter": "python",
   "pygments_lexer": "ipython3",
   "version": "3.8.5"
  }
 },
 "nbformat": 4,
 "nbformat_minor": 4
}
