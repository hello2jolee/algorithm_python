{
 "cells": [
  {
   "cell_type": "code",
   "execution_count": 1,
   "metadata": {},
   "outputs": [],
   "source": [
    "def solution(people, limit):\n",
    "    answer = 0\n",
    "    people.sort()\n",
    "    \n",
    "    a = 0\n",
    "    b = len(people) - 1\n",
    "    \n",
    "    while a < b:\n",
    "        if people[b] + people[a] <= limit:\n",
    "            a += 1\n",
    "            answer += 1\n",
    "        b -= 1\n",
    "        \n",
    "    return len(people) - answer"
   ]
  },
  {
   "cell_type": "code",
   "execution_count": 2,
   "metadata": {},
   "outputs": [
    {
     "name": "stdout",
     "output_type": "stream",
     "text": [
      "3\n"
     ]
    }
   ],
   "source": [
    "people = [70, 50, 80, 50]\n",
    "limit = 100\n",
    "print(solution(people, limit))"
   ]
  }
 ],
 "metadata": {
  "kernelspec": {
   "display_name": "Python 3",
   "language": "python",
   "name": "python3"
  },
  "language_info": {
   "codemirror_mode": {
    "name": "ipython",
    "version": 3
   },
   "file_extension": ".py",
   "mimetype": "text/x-python",
   "name": "python",
   "nbconvert_exporter": "python",
   "pygments_lexer": "ipython3",
   "version": "3.8.5"
  }
 },
 "nbformat": 4,
 "nbformat_minor": 4
}
