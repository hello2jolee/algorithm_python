{
 "cells": [
  {
   "cell_type": "code",
   "execution_count": 3,
   "metadata": {},
   "outputs": [],
   "source": [
    "def solution(name):\n",
    "    array = []\n",
    "    answer = 0\n",
    "    \n",
    "    for i in range(len(name)):\n",
    "        if name[i] == 'A':\n",
    "            continue\n",
    "        else:\n",
    "            array.append(i)\n",
    "            \n",
    "        temp = ord(name[i])-ord('A')\n",
    "        if temp > 13:\n",
    "            answer += 26-temp\n",
    "        else:\n",
    "            answer += temp\n",
    "            \n",
    "    current = 0\n",
    "    \n",
    "    # 그리디 도입 영역\n",
    "    for i in range(len(array)):\n",
    "        move_list = [abs(x-current) if abs(x-current) <= len(name)/2 else len(name)-abs(x-current) for x in array]\n",
    "        answer += min(move_list)\n",
    "        current = array.pop(move_list.index(min(move_list)))\n",
    "        \n",
    "    return answer"
   ]
  },
  {
   "cell_type": "code",
   "execution_count": 5,
   "metadata": {},
   "outputs": [
    {
     "name": "stdout",
     "output_type": "stream",
     "text": [
      "23\n"
     ]
    }
   ],
   "source": [
    "name = \"JAN\"\n",
    "print(solution(name))"
   ]
  }
 ],
 "metadata": {
  "kernelspec": {
   "display_name": "Python 3",
   "language": "python",
   "name": "python3"
  },
  "language_info": {
   "codemirror_mode": {
    "name": "ipython",
    "version": 3
   },
   "file_extension": ".py",
   "mimetype": "text/x-python",
   "name": "python",
   "nbconvert_exporter": "python",
   "pygments_lexer": "ipython3",
   "version": "3.8.5"
  }
 },
 "nbformat": 4,
 "nbformat_minor": 4
}
