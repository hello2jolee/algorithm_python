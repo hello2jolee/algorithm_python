{
 "cells": [
  {
   "cell_type": "code",
   "execution_count": 3,
   "metadata": {},
   "outputs": [],
   "source": [
    "from collections import defaultdict\n",
    "\n",
    "def nextWord(cur, words):\n",
    "    ret = []\n",
    "    for word in words:\n",
    "        cnt = 0\n",
    "        for idx in range(len(word)):\n",
    "            if word[idx] == cur[idx]:\n",
    "                cnt += 1\n",
    "        if cnt == len(cur) - 1:\n",
    "            ret.append(word)\n",
    "    return ret\n",
    "\n",
    "def bfs(begin, target, words):\n",
    "    visited = defaultdict(lambda: False)\n",
    "    queue = nextWord(begin, words)\n",
    "    count = 0\n",
    "    min = 1e9\n",
    "    \n",
    "    while(len(queue) > 0):\n",
    "        size = len(queue)\n",
    "        count += 1\n",
    "        \n",
    "        for _ in range(size):\n",
    "            key = queue.pop(0)\n",
    "            visited[key] = True\n",
    "            if(key == target and count < min):\n",
    "                min = count\n",
    "            for candidate in nextWord(key, words):\n",
    "                if(visited[candidate] == False):\n",
    "                    queue.append(candidate)\n",
    "    \n",
    "    if min == 1e9:\n",
    "        return 0\n",
    "    else:\n",
    "        return min\n",
    "\n",
    "def solution(begin, target, words):\n",
    "    answer = bfs(begin, target, words)\n",
    "    return answer"
   ]
  },
  {
   "cell_type": "code",
   "execution_count": 6,
   "metadata": {},
   "outputs": [
    {
     "name": "stdout",
     "output_type": "stream",
     "text": [
      "3\n"
     ]
    }
   ],
   "source": [
    "begin, target = \"hit\", \"dog\"\n",
    "words = [\"hot\", \"dot\", \"dog\", \"lot\", \"log\", \"cog\"]\n",
    "\n",
    "print(solution(begin, target, words))"
   ]
  }
 ],
 "metadata": {
  "kernelspec": {
   "display_name": "Python 3",
   "language": "python",
   "name": "python3"
  },
  "language_info": {
   "codemirror_mode": {
    "name": "ipython",
    "version": 3
   },
   "file_extension": ".py",
   "mimetype": "text/x-python",
   "name": "python",
   "nbconvert_exporter": "python",
   "pygments_lexer": "ipython3",
   "version": "3.8.5"
  }
 },
 "nbformat": 4,
 "nbformat_minor": 4
}
