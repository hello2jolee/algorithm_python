{
 "cells": [
  {
   "cell_type": "code",
   "execution_count": 6,
   "metadata": {},
   "outputs": [],
   "source": [
    "def dfs(nums, i, n, t):\n",
    "    ret = 0\n",
    "    if i == len(nums):\n",
    "        if n == t: return 1\n",
    "        else: return 0\n",
    "        \n",
    "    ret += dfs(nums, i+1, n+nums[i], t)\n",
    "    ret += dfs(nums, i+1, n-nums[i], t)\n",
    "    return ret\n",
    "\n",
    "def solution(numbers, target):\n",
    "    answer = dfs(numbers, 0, 0, target)\n",
    "    return answer"
   ]
  },
  {
   "cell_type": "code",
   "execution_count": 7,
   "metadata": {},
   "outputs": [
    {
     "name": "stdout",
     "output_type": "stream",
     "text": [
      "5\n"
     ]
    }
   ],
   "source": [
    "numbers = [1, 1, 1, 1, 1]\n",
    "target = 3\n",
    "\n",
    "print(solution(numbers, target))"
   ]
  }
 ],
 "metadata": {
  "kernelspec": {
   "display_name": "Python 3",
   "language": "python",
   "name": "python3"
  },
  "language_info": {
   "codemirror_mode": {
    "name": "ipython",
    "version": 3
   },
   "file_extension": ".py",
   "mimetype": "text/x-python",
   "name": "python",
   "nbconvert_exporter": "python",
   "pygments_lexer": "ipython3",
   "version": "3.8.5"
  }
 },
 "nbformat": 4,
 "nbformat_minor": 4
}
