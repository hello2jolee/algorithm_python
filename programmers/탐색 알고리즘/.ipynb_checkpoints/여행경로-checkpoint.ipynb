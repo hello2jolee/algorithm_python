{
 "cells": [
  {
   "cell_type": "code",
   "execution_count": 3,
   "metadata": {},
   "outputs": [],
   "source": [
    "def solution(tickets):\n",
    "    answer = []\n",
    "    \n",
    "    def dfs(start, ticketList, path):\n",
    "        path.append(start)\n",
    "        \n",
    "        if len(ticketList) == 1:\n",
    "            path.append(ticketList[0][1])\n",
    "            answer.append(path)\n",
    "            return\n",
    "        \n",
    "        for t in ticketList:\n",
    "            if t[0] == start:\n",
    "                ticketList_copy = ticketList.copy()\n",
    "                ticketList_copy.remove(t)\n",
    "                dfs(t[1], ticketList_copy, path.copy())\n",
    "                \n",
    "    dfs(\"ICN\", tickets, [])\n",
    "    return min(answer)"
   ]
  },
  {
   "cell_type": "code",
   "execution_count": 4,
   "metadata": {},
   "outputs": [
    {
     "name": "stdout",
     "output_type": "stream",
     "text": [
      "['ICN', 'JFK', 'HND', 'IAD']\n"
     ]
    }
   ],
   "source": [
    "tickets = [[\"ICN\", \"JFK\"], [\"HND\", \"IAD\"], [\"JFK\", \"HND\"]]\n",
    "print(solution(tickets))"
   ]
  }
 ],
 "metadata": {
  "kernelspec": {
   "display_name": "Python 3",
   "language": "python",
   "name": "python3"
  },
  "language_info": {
   "codemirror_mode": {
    "name": "ipython",
    "version": 3
   },
   "file_extension": ".py",
   "mimetype": "text/x-python",
   "name": "python",
   "nbconvert_exporter": "python",
   "pygments_lexer": "ipython3",
   "version": "3.8.5"
  }
 },
 "nbformat": 4,
 "nbformat_minor": 4
}
