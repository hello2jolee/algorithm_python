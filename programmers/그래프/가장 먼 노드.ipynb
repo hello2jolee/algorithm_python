{
 "cells": [
  {
   "cell_type": "code",
   "execution_count": 1,
   "metadata": {},
   "outputs": [],
   "source": [
    "def solution(n, vertex):\n",
    "    graph = [[] for _ in range(n + 1)]\n",
    "    distance = [0 for _ in range(n)]\n",
    "    isVisit = [False for _ in range(n)]\n",
    "    queue = [0]\n",
    "    isVisit[0] = True\n",
    "    \n",
    "    for a, b in vertex:\n",
    "        graph[a - 1].append(b - 1)\n",
    "        graph[b - 1].append(a - 1)\n",
    "        \n",
    "    while queue:\n",
    "        i = queue.pop(0)\n",
    "        \n",
    "        for j in graph[i]:\n",
    "            if isVisit[j] == False:\n",
    "                isVisit[j] = True\n",
    "                queue.append(j)\n",
    "                distance[j] = distance[i] + 1\n",
    "                \n",
    "    distance.sort(reverse=True)\n",
    "    answer = distance.count(distance[0])\n",
    "    \n",
    "    return answer"
   ]
  },
  {
   "cell_type": "code",
   "execution_count": 2,
   "metadata": {},
   "outputs": [
    {
     "name": "stdout",
     "output_type": "stream",
     "text": [
      "3\n"
     ]
    }
   ],
   "source": [
    "n = 6\n",
    "vertex = [[3, 6], [4, 3], [3, 2], [1, 3], [1, 2], [2, 4], [5, 2]]\n",
    "\n",
    "print(solution(n, vertex))"
   ]
  }
 ],
 "metadata": {
  "kernelspec": {
   "display_name": "Python 3",
   "language": "python",
   "name": "python3"
  },
  "language_info": {
   "codemirror_mode": {
    "name": "ipython",
    "version": 3
   },
   "file_extension": ".py",
   "mimetype": "text/x-python",
   "name": "python",
   "nbconvert_exporter": "python",
   "pygments_lexer": "ipython3",
   "version": "3.8.5"
  }
 },
 "nbformat": 4,
 "nbformat_minor": 4
}
